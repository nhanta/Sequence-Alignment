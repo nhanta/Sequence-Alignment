{
 "cells": [
  {
   "cell_type": "markdown",
   "metadata": {
    "colab_type": "text",
    "id": "zldSmmvmLF5T"
   },
   "source": [
    "# Finding Mutations\n",
    "# A. Comparing Biological Sequences"
   ]
  },
  {
   "cell_type": "markdown",
   "metadata": {
    "colab_type": "text",
    "id": "eBvEUsDuLF5U"
   },
   "source": [
    "Code: Nhan TV.<br>\n",
    "Email: TaVanNhan_sdh@hus.edu.vn.<br>"
   ]
  },
  {
   "cell_type": "markdown",
   "metadata": {
    "colab_type": "text",
    "id": "TrHAPWGHLF5V"
   },
   "source": [
    "Compeau, Phillip. <i>Bioinformatics Algorithms: An Active Learning Approach by Phillip Compeau, Pavel Pevzner (2014) Paperback.</i> La Jolla, CA: Active Learning Publishers, 2014."
   ]
  },
  {
   "cell_type": "markdown",
   "metadata": {
    "colab_type": "text",
    "id": "jSY2GYnpLF5W"
   },
   "source": [
    "## Workflow"
   ]
  },
  {
   "cell_type": "markdown",
   "metadata": {
    "colab_type": "text",
    "id": "u9967ZhmLF5X"
   },
   "source": [
    "<a><img src=\"https://imgur.com/SehRgpW.jpg\" width=\"800\" align=\"center\">"
   ]
  },
  {
   "cell_type": "markdown",
   "metadata": {
    "colab_type": "text",
    "id": "Kgz1y_E3LF5Y"
   },
   "source": [
    "## Table of Contents\n",
    "1 [Bẻ khóa mã phi Ribosome](#ribosome)<br>\n",
    "   &emsp;1.1 [Ribosome là gì?](#def)<br>\n",
    "   &emsp;1.2 [Quá trình giải mã thông điệp ẩn trong DNA](#DNA)<br>\n",
    "   &emsp;1.3 [Bẻ khóa mã phi Ribosome](#bekhoa)<br>\n",
    "   &emsp;1.4 [Từ sự so sánh protein đến mã phi Ribosome](#pro-ribo)<br>\n",
    "   &emsp;1.5 [Điểm chung của Oncogene và các yếu tố tăng trưởng](#oncogene)<br>\n",
    "2 [Sequence alignment và the longest common subsequence (LCS)](#lcs)<br>\n",
    "   &emsp;2.1 [Dynamic programming for the change problem](#dynamic)<br>\n",
    "   &emsp;2.2 [The Manhattan tourist problem](#manhattan)<br>\n",
    "   &emsp;2.3 [Dynamic programming in an arbitrary DAG](#dynamicdag)<br>\n",
    "   &emsp;2.4 [Finding a Topological Ordering from a DAG](#topological)<br>\n",
    "3 [Scoring alignments](#scoring)<br>\n",
    "4 [From Global to Local Alignment](#global-local)<br>\n",
    "   &emsp;4.1 [Limitations of global alignment](#limit-global)<br>\n",
    "   &emsp;4.2 [Free taxi rides in the alignment graph](#free-taxi)<br>\n",
    "   &emsp;4.3 [The changing faces of sequence alignment](#changing-faces)<br>\n",
    "5 [Penalizing Insertions and Deletions in Sequence Alignment](#penalizing)<br>\n",
    "&emsp;5.1 [Mô hình phạt khoảng trống Affine (Affine gap penalty)](#three_levels)<br>\n",
    "&emsp;5.2 [Đồ thị Manhattan ba cấp](#three_levels)<br>\n",
    "&emsp;5.3 [Affine gap penalty for local alignment](#affine_local)<br>\n",
    "6 [Space-Efficient Sequence Alignment](#space-efficient)<br>\n",
    "&emsp;6.1 [Bài toán tìm cạnh giữa](#middle_edge)<br>\n",
    "&emsp;6.2 [Linear Space Alignment](#linear-space)<br>\n",
    "7 [Multiple Sequence Alignment](#multi-sequence)<br>\n",
    "&emsp;7.1 [Xây dựng đồ thị ba chiều](#three-manhattan)<br>\n",
    "&emsp;7.2 [Thuật toán tham lam cho dóng hàng đa trình tự](#greedy-multi-alignment)<br>\n",
    "&emsp;7.3 [Progressive Alignment](#progressive-alignment)<br>\n",
    "&emsp;7.4 [ClustalW](#clustalw)<br>\n",
    "&emsp;7.5 [Multiple Sequence Comparison by Log- Expectation (MUSCLE)](#muscle)<br>\n",
    "&emsp;7.6 [Scoring Multiple Alignments](#scoring-multiple-alignments)<br>\n",
    "&emsp;7.7 [Các vấn đề của dóng hàng đa trình tự](#problem-of-multi-alignment)"
   ]
  },
  {
   "cell_type": "markdown",
   "metadata": {
    "colab_type": "text",
    "id": "j4p5bp1QLF5Y"
   },
   "source": [
    "### 1 Bẻ khóa mã phi Ribosome<a name=\"ribosome\"></a>"
   ]
  },
  {
   "cell_type": "markdown",
   "metadata": {
    "colab_type": "text",
    "id": "L_1_qo6ULF5Z"
   },
   "source": [
    "#### 1.1 Ribosome là gì?<a name=\"def\"></a>"
   ]
  },
  {
   "cell_type": "markdown",
   "metadata": {
    "colab_type": "text",
    "id": "l_3LuzkdLF5a"
   },
   "source": [
    "<b> Ribosome</b> được định nghĩa tại <a href = \"https://vi.wikipedia.org/wiki/Ribosome\">wikipedia</a> (mang tính chất tham khảo) là \"bào quan tổng hợp chuỗi polipeptide dựa trên khuôn mã của ARN thông tin. Đây là một bộ máy phân tử lớn, phức tạp, có mặt trong tất cả các tế bào sống, nơi xảy ra quá trình sinh tổng hợp protein. Ribosome liên kết các amino acid với nhau theo trật tự được quy định bởi phân tử (mRNA). Ribosome bao gồm hai tiểu đơn vị chính - tiểu đơn vị ribosome nhỏ đọc mRNA, trong khi tiểu đơn vị lớn liên kết các axit amin để tạo thành một chuỗi polypeptide. Mỗi tiểu đơn vị gồm một hoặc nhiều phân tử RNA ribosome (rRNA) và nhiều phân tử protein.\n",
    "\n",
    "Thuật ngữ \"ribosome\" có nguồn gốc \"ribonucleic acid\" (thành phần chính của bào quan) và tiếng Hy Lạp \"soma\" có nghĩa là \"thể\".\n",
    "\n",
    "Trình tự của DNA mã hóa cho một protein có thể được sao chép nhiều lần vào chuỗi RNA thông tin (mRNA) với một trình tự tương tự. Ribosome có thể liên kết với một chuỗi mRNA và sử dụng nó như một khuôn mẫu để xác định chính xác trình tự của các axit amin trong một protein. Axit amin được lựa chọn, thu thập và mang đến ribosome bởi RNA vận chuyển (phân tử tRNA), nhập vào một phần của ribosome và liên kết với chuỗi mRNA. Các axit amin sau đó sẽ được liên kết với nhau bởi một phần khác của ribosome. Sau khi protein được sản sinh, nó có thể gấp xoắn lại để tạo nên ra một cấu trúc không gian 3 chiều có chức năng chuyển hóa.\""
   ]
  },
  {
   "cell_type": "markdown",
   "metadata": {
    "colab_type": "text",
    "id": "XLsq0pItLF5b"
   },
   "source": [
    "#### 1.2 Quá trình giải mã thông điệp ẩn trong DNA<a name=\"DNA\"></a>"
   ]
  },
  {
   "cell_type": "markdown",
   "metadata": {
    "colab_type": "text",
    "id": "HfB1uwLxLF5c"
   },
   "source": [
    "Watson và Cricks đã tìm ra cấu trúc chuỗi xoắn kép của DNA vào năm 1953. Sau đó nhà vật lý Geogre Gamow đã sáng lập ra \"RNA Tie Club\" cho các nhà khoa học với mong muốn giải mã <b>được thông điệp ẩn</b> trong DNA với việc xác định <b> cách mà RNA được chuyển thành các amino acids như thế nào</b>. Một năm sau, Sydney Brenner và Francis Crick đã khám phá ra rằng các <b>amino acids được dịch mã từ các codons, tức là từ bộ 3 nucleotide</b>. Cho dù RNA Tie Club có 8 người đoạt giải Nobel nhưng tất cả đều không giúp họ thành công trong việc giải mã gen."
   ]
  },
  {
   "cell_type": "markdown",
   "metadata": {
    "colab_type": "text",
    "id": "aUKDUSyyLF5c"
   },
   "source": [
    "Vào năm 1961, Marshall Nirenburg đã tổng hợp được các chuỗi RNA chỉ bao gồm uracil (...UUUUUUUUUU...) thêm ribosom và các amino acid tạo ra một peptide chỉ gồm Phenylalamin (...PhePhePhePhe...). Do đó, Nirenburg đã kết luận rằng mã UUU của RNA mã hóa cho amino acid Phenylalamin. Sau thành công của Nirenburg, Har Gobind Khorana đã tổng hợp được chuỗi RNA ...UCU<b>CUC</b>UCU<b>CUC</b>... và chứng minh rằng nó chuyển thành ...SerLeuSerLeu...và phần còn lại của mã gen ribosome đã nhanh chóng được làm sáng tỏ."
   ]
  },
  {
   "cell_type": "markdown",
   "metadata": {
    "colab_type": "text",
    "id": "nDnqbw5ULF5d"
   },
   "source": [
    "#### 1.3 Bẻ khóa mã phi Ribosome<a name=\"bekhoa\"></a>"
   ]
  },
  {
   "cell_type": "markdown",
   "metadata": {
    "colab_type": "text",
    "id": "BVctiywCLF5e"
   },
   "source": [
    "Gần bốn thập kỷ sau, Mohamed Marahiel bắt đầu giải quyết câu đố khó khăn hơn nhiều về việc bẻ khóa mã phi ribosome. Một ví dụ về phi ribosome đó là vi khuẩn và nấm sản xuất kháng sinh và các peptide phi ribosome khác (non-ribosomal-peptide viết tắt là <b>NRP</b>) không phụ thuộc vào ribosome và mã gen. Thay vào đó, những sinh vật này tạo ra NRP bằng cách sử dụng một loại protein khổng lồ có tên NRP synthetase."
   ]
  },
  {
   "cell_type": "markdown",
   "metadata": {
    "colab_type": "text",
    "id": "bdlDVGuOLF5f"
   },
   "source": [
    "#### DNA --> RNA --> NRP Synthetase --> NRP"
   ]
  },
  {
   "cell_type": "markdown",
   "metadata": {
    "colab_type": "text",
    "id": "wsp67d_2LF5f"
   },
   "source": [
    "NRP synthetase mã hóa 10 loại kháng sinh, chứa chuỗi dài các amino acid Tyrocidine B1, bao gồm 10 phân đoạn được gọi là miền adenylation (A-domain)<a name = \"a-domain\"></a>; mỗi miền A dài khoảng 500 amino acid và chịu trách nhiệm thêm một amino acid đơn vào Tyrocidine B1."
   ]
  },
  {
   "cell_type": "markdown",
   "metadata": {
    "colab_type": "text",
    "id": "xGKC0u66LF5g"
   },
   "source": [
    "Thế hệ trước đó, RNA Tie Club đã đưa ra câu hỏi, \"RNA mã hóa một amino acid như thế nào?\" Bây giờ Marahiel đã đưa ra câu trả lời cho câu hỏi khó khăn hơn nhiều, \"Mỗi miền A (A-domain) mã hóa một amino acid như thế nào?\""
   ]
  },
  {
   "cell_type": "markdown",
   "metadata": {
    "colab_type": "text",
    "id": "jhxbtuauLF5h"
   },
   "source": [
    "#### 1.4 Từ sự so sánh protein đến mã phi Ribosome<a name=\"pro-ribo\"></a>"
   ]
  },
  {
   "cell_type": "markdown",
   "metadata": {
    "colab_type": "text",
    "id": "dFC-UOdKLF5i"
   },
   "source": [
    "Protein được định nghĩa tại <a href = \"https://vi.wikipedia.org/wiki/Protein\"> wikipedia</a> là: \"những phân tử sinh học, hay đại phân tử, gồm nhiều amino acid. Protein thực hiện rất nhiều chức năng bên trong sinh vật, bao gồm các phản ứng <b>trao đổi chất xúc tác, sao chép DNA, đáp ứng lại kích thích, và vận chuyển phân tử từ một vị trí đến vị trí khác</b>. Các protein khác nhau chủ yếu ở trình tự của các axit amin trong cấu tạo của chúng, mà trình tự này bị chi phối bởi trình tự nucleotide của các gen quy định tương ứng, và ở kết quả của giai đoạn cuộn gập protein (protein folding) thành những cấu trúc 3 chiều xác định lên chức năng của nó.\""
   ]
  },
  {
   "cell_type": "markdown",
   "metadata": {
    "colab_type": "text",
    "id": "-0qKpytkLF5i"
   },
   "source": [
    "May mắn rằng Marahiel đã biết đến trình tự amino acid của một vài miền A, cùng với các amino acid mà chúng thêm vào peptide đang phát triển. Dưới đây là ba trong số các miền A (được lấy từ ba vi khuẩn khác nhau) mã hóa tương ứng cho acid aspartic (Asp), ornithine (Orn), và valine (Val). "
   ]
  },
  {
   "cell_type": "markdown",
   "metadata": {
    "colab_type": "text",
    "id": "jRWXQ0HcLF5j"
   },
   "source": [
    "<a><img src=\"https://imgur.com/t7QIwYw.jpg\" width=\"800\" align=\"center\">"
   ]
  },
  {
   "cell_type": "markdown",
   "metadata": {
    "colab_type": "text",
    "id": "97oEtFcnLF5k"
   },
   "source": [
    "Marahiel phỏng đoán rằng vì các miền A có cùng chức năng nào đó (ví dụ, chức năng thêm một amino acid vào peptide đang phát triển), nên các miền A khác nhau có thể có những phần giống nhau. Các miền A cũng cần có những phần khác nhau để kết hợp các amino acid khác nhau. Tuy nhiên, chỉ có ba cột được bảo tồn (hiển thị màu đỏ bên dưới) là chung cho ba chuỗi và khả năng phát sinh chỉ do sự tình cờ:"
   ]
  },
  {
   "cell_type": "markdown",
   "metadata": {
    "colab_type": "text",
    "id": "WMwT9UiRLF5k"
   },
   "source": [
    "<a><img src=\"https://imgur.com/3tFqLT5.jpg\" width=\"800\" align=\"center\"> "
   ]
  },
  {
   "cell_type": "markdown",
   "metadata": {
    "colab_type": "text",
    "id": "MOuWrIxkLF5l"
   },
   "source": [
    "Nếu chúng ta trượt chuỗi thứ hai chỉ một amino acid sang bên phải, thêm vào một dấu cách \"-\" vào đầu chuỗi, thì chúng ta tìm ra 11 cột được bảo tồn."
   ]
  },
  {
   "cell_type": "markdown",
   "metadata": {
    "colab_type": "text",
    "id": "WspfF5VDLF5m"
   },
   "source": [
    "<a><img src = \"https://imgur.com/sukDIaW.jpg\" width = \"800\" align = \"center\">"
   ]
  },
  {
   "cell_type": "markdown",
   "metadata": {
    "colab_type": "text",
    "id": "Gvv69cvKLF5m"
   },
   "source": [
    "và thậm chí khi trượt nhiều hơn chúng ta còn phát hiện ra 19 cột được bảo tồn:"
   ]
  },
  {
   "cell_type": "markdown",
   "metadata": {
    "colab_type": "text",
    "id": "vTE2z3KfLF5n"
   },
   "source": [
    "<a><img src=\"https://imgur.com/9T8gudV.jpg\" width=\"800\" align=\"center\"> "
   ]
  },
  {
   "cell_type": "markdown",
   "metadata": {
    "colab_type": "text",
    "id": "8SVKfzViLF5o"
   },
   "source": [
    "Điều này chỉ ra rằng các cột màu đỏ đại diện cho lõi được bảo tồn chia sẻ bởi nhiều miền A. Bây giờ Marahiel đã biết các để sắp xếp chính xác các miền A, ông đưa ra giả thuyết rằng một số cột biến còn lại sẽ mã hóa cho Asp, Orn, và Val. Ông đã khám phá ra mã phi ribosome được xác định bởi 8 ký tự phi ribosome amino acid được hiển thị ở các cột màu tím dưới đây."
   ]
  },
  {
   "cell_type": "markdown",
   "metadata": {
    "colab_type": "text",
    "id": "mSDhyiLbLF5o"
   },
   "source": [
    "<a><img src=\"https://imgur.com/spzqoNW.jpg\" width=\"800\" align=\"center\"> "
   ]
  },
  {
   "cell_type": "markdown",
   "metadata": {
    "colab_type": "text",
    "id": "mNHcFwfqLF5p"
   },
   "source": [
    "Các cột màu tím xác định các ký hiệu  <b><span style = \"color: purple\">LTKVGHIG, VGEIGSID, AWMFAAVL</span></b> tương ứng mã hóa cho Asp, Orn, và Val."
   ]
  },
  {
   "cell_type": "markdown",
   "metadata": {
    "colab_type": "text",
    "id": "Am7-SUPLLF5q"
   },
   "source": [
    "Vào năm 1999, Marahiel đã tìm ra mã phi ribosome cho chỉ 14 trong số 20 amino acid tạo protein (Ala, Asn, Asp, Cys, Gln, Glu, Ile, Leu, Phe, Pro, Ser, Thr, Tyr, Val) vì ông thiếu trình tự của các miền A của 6 amino acid còn lại [3]. Với sự sẵn có của nhiều hơn các miền A, giờ đây chúng ta có cơ hội để điền vào những khoảng trống trong bài báo gốc của Marahiel.  "
   ]
  },
  {
   "cell_type": "markdown",
   "metadata": {},
   "source": [
    "Bibliography: <br>\n",
    "[1] Conti, E., N. P. Franks, and P. Brick. “Crystal Structure of Firefly Luciferase Throws Light on a Superfamily of Adenylate-Forming Enzymes.” <i>Structure (London, England: 1993)</i> 4, no. 3 (March 15, 1996): 287–98. https://doi.org/10.1016/s0969-2126(96)00033-0.<br>\n",
    "[2] Conti, E., T. Stachelhaus, M. A. Marahiel, and P. Brick. “Structural Basis for the Activation of Phenylalanine in the Non-Ribosomal Biosynthesis of Gramicidin S.” <i>The EMBO Journal</i> 16, no. 14 (July 16, 1997): 4174–83. https://doi.org/10.1093/emboj/16.14.4174.<br>\n",
    "[3] Stachelhaus, T., H. D. Mootz, and M. A. Marahiel. “The Specificity-Conferring Code of Adenylation Domains in Nonribosomal Peptide Synthetases.” <i>Chemistry & Biology</i> 6, no. 8 (August 1999): 493–505. https://doi.org/10.1016/S1074-5521(99)80082-9. "
   ]
  },
  {
   "cell_type": "markdown",
   "metadata": {
    "colab_type": "text",
    "id": "x1m1UlrALF5r"
   },
   "source": [
    "#### 1.5 Điểm chung của Oncogene và các yếu tố tăng trưởng<a name=\"oncogene\"></a>"
   ]
  },
  {
   "cell_type": "markdown",
   "metadata": {
    "colab_type": "text",
    "id": "OZb9DERwLF5r"
   },
   "source": [
    "Sự bẻ khóa của Marahiel cho mã phi ribosome là một trong nhiều bài toán sinh học được hưởng lợi từ sự so sánh trình tự. Một ví dụ nổi bật khác về sức mạnh của so sánh trình tự được thấy vào năm 1983 khi Russell Doolittle đã so sánh <b>các yếu tố gen tăng trưởng có nguồn gốc tiểu cầu mới được giải trình tự (platelet derived growth factor viết tắt là PDGF)</b> với tất cả các gen khác được biết vào thời điểm đó [4]."
   ]
  },
  {
   "cell_type": "markdown",
   "metadata": {
    "colab_type": "text",
    "id": "t0P02OmELF5s"
   },
   "source": [
    "Doolite đã gây choáng váng cho các nhà sinh học ung thư khi ông chỉ ra rằng PDGF rất giống với trình tự của một gen đã biết là <b>v-sis</b>. Sự giống nhau giữa hai gen là khó hiểu vì chức năng của chúng khác nhau rất nhiều; gen PDGF mã hóa protein tăng trưởng tế bào trong khi v-sis là <b>gen gây ung thư (oncogene)</b>, hoặc một gen trong virus gây ra sự biến đổi giống ung thư của các tế bào người bị nhiễm bệnh. Sau phát hiện của Doolittle, các nhà khoa học đã giả thiết rằng một vài dạng của ung thư có thể được gây ra bởi một gen tốt thực hiện chức năng của nó tại những thời điểm sai. Liên kết giữa PDGF và v-sis đã thiết lập một thế giới quan mới; việc tìm kiếm tất cả các trình tự mới dựa trên cơ sở dữ liệu trình tự là đơn đặt hàng đầu tiên của các doanh nghiệp trong lĩnh vực gen."
   ]
  },
  {
   "cell_type": "markdown",
   "metadata": {
    "colab_type": "text",
    "id": "e0RjQIRLLF5t"
   },
   "source": [
    "Tuy nhiên, câu hỏi vẫn còn là: cách tốt nhất để so sánh trình tự theo thuật toán là gì? Quay trở lại ví dụ về miền A (được giới thiệu lại bên dưới), việc chèn các khoảng trống để phát hiện lõi được bảo tồn có thể trông giống như một trò ảo thuật đối với bạn. Hoàn toàn không rõ thuật toán nào chúng ta đã sử dụng để quyết định vị trí chèn các ký tự cách hoặc làm thế nào chúng ta có thể định lượng sự liên kết, sự sắp xếp tốt nhất của 3 chuỗi."
   ]
  },
  {
   "cell_type": "markdown",
   "metadata": {
    "colab_type": "text",
    "id": "8skWOrjMLF5u"
   },
   "source": [
    "<a><img src=\"https://imgur.com/spzqoNW.jpg\" width=\"800\" align=\"center\"> "
   ]
  },
  {
   "cell_type": "markdown",
   "metadata": {},
   "source": [
    "Bibliography: <br>\n",
    "[4] Doolittle, R. F., M. W. Hunkapiller, L. E. Hood, S. G. Devare, K. C. Robbins, S. A. Aaronson, and H. N. Antoniades. “Simian Sarcoma Virus Onc Gene, v-Sis, Is Derived from the Gene (or Genes) Encoding a Platelet-Derived Growth Factor.” <i>Science (New York, N.Y.)</i> 221, no. 4607 (July 15, 1983): 275–77. https://doi.org/10.1126/science.6304883."
   ]
  },
  {
   "cell_type": "markdown",
   "metadata": {
    "colab_type": "text",
    "id": "y-WR5NptLF5v"
   },
   "source": [
    "### 2 Sequence alignment và the longest common subsequence (LCS)<a name=\"lcs\"></a>"
   ]
  },
  {
   "cell_type": "markdown",
   "metadata": {
    "colab_type": "text",
    "id": "tCzZ-r4rLF5w"
   },
   "source": [
    "Bây giờ chúng ta xác định sự dóng hàng của chuỗi v và w như một ma trận hai hàng sao cho hàng đầu tiên chứa các ký hiệu của v (theo thứ tự), hàng thứ hai chứa các ký hiệu của w (theo thứ tự) và ký hiệu cách (được gọi là các kí hiệu trống và được hiển thị dưới dạng dấu gạch ngang bên dưới) có thể được xen kẽ trong cả hai chuỗi, miễn là hai kí hiệu trống không thẳng hàng với nhau. Dưới đây là sự dóng hàng của ATGTTATA và ATCGTCC."
   ]
  },
  {
   "cell_type": "markdown",
   "metadata": {
    "colab_type": "text",
    "id": "55P5ZdILLF5x"
   },
   "source": [
    "<a><img src=\"https://imgur.com/YHuOBdS.jpg\" width=\"170\" align=\"center\"> "
   ]
  },
  {
   "cell_type": "markdown",
   "metadata": {
    "colab_type": "text",
    "id": "XjOk-qV-LF5x"
   },
   "source": [
    "Dóng hàng (Alignment) trình bày một kịch bản mà v có thể phát triển thành w. Các cột chứa cùng một chữ cái trong cả hai hàng được gọi là <b>match</b> và đại diện cho các nucleotide được bảo tồn, trong khi các cột chứa các chữ cái khác nhau được gọi là <b>mismatch</b> và đại diện cho sự thay thế một nucleotide. Các cột chứa ký tự trống được gọi là indels: cột chứa ký tự trống ở hàng trên cùng của căn chỉnh được gọi là <b>insertion</b>, vì nó ngụ ý chèn ký hiệu khi chuyển v thành w; cột chứa ký tự trống ở hàng dưới cùng của căn chỉnh được gọi là <b>deletion</b>, vì nó chỉ ra việc xóa ký tự trong v khi chuyển v thành w. Căn chỉnh ở trên có bốn match, hai mismatch, một insertion và hai deletion."
   ]
  },
  {
   "cell_type": "markdown",
   "metadata": {
    "colab_type": "text",
    "id": "q1Mrx2E6LF5y"
   },
   "source": [
    "Các match trong alignment của hai chuỗi xác định một chuỗi con chung của hai chuỗi hoặc một chuỗi các ký hiệu xuất hiện theo cùng một thứ tự (mặc dù không nhất thiết phải liên tiếp) trong cả hai chuỗi. Ví dụ, alignment ở trên chỉ ra rằng ATGT là một chuỗi con chung của ATGTTATA và ATCGTCC. Do đó, việc dóng hàng hai chuỗi sẽ tối đa hóa số lượng các kết quả match tương ứng với một chuỗi con chung dài nhất (LCS) của các chuỗi này. Lưu ý rằng hai chuỗi có thể có nhiều hơn một chuỗi con dài nhất."
   ]
  },
  {
   "cell_type": "markdown",
   "metadata": {
    "colab_type": "text",
    "id": "akR0P52rLF5z"
   },
   "source": [
    "#### 2.1 Dynamic programming for the change problem<a name=\"dynamic\"></a>"
   ]
  },
  {
   "cell_type": "markdown",
   "metadata": {
    "colab_type": "text",
    "id": "8uZ_z4V4LF50"
   },
   "source": [
    "Giả sử bạn cần đổi 76 denarii lấy một số lượng nhỏ nhất các xu (coin), và bạn chỉ có ba mệnh giá: coins = (5, 4, 1). Một bộ tiền xu (collection) có số lượng coin nhỏ nhất có giá trị 76 denarii phải là một trong những trường hợp sau:<br><br>\n",
    "&emsp;+) Một bộ tiền xu có số lượng coin nhỏ nhất với tổng giá trị 75 denarii, cộng với một coin 1 denarius;<br>\n",
    "&emsp;+) Một bộ tiền xu có số lượng coin nhỏ nhất với tổng giá trị 72 denarii, cộng với một coin 4 denarius;<br>\n",
    "&emsp;+) Một bộ tiền xu có số lượng coin nhỏ nhất với tổng giá trị 71 denarii, cộng với một coin 5 denarius;"
   ]
  },
  {
   "cell_type": "markdown",
   "metadata": {
    "colab_type": "text",
    "id": "2PgC_NWvLF50"
   },
   "source": [
    "Với các mệnh giá $coins$ = ($coin_1$, ..., $coin_d$), min_num_coins (money) là số lượng coin nhỏ nhất, ta có:<br>\n",
    "MinNumCoins (money) = min (MinNumCoins (money-$coin_i$)) + 1, với i = 1, ..., n.<br>\n",
    "Chúng ta sẽ sử dụng thuật toán đệ quy với mỗi tổng số tiền tăng dần từ 0 đến money, độ phức tạp của thuật toán là $\\mathcal{O}(money.|coins|)$. "
   ]
  },
  {
   "cell_type": "code",
   "execution_count": 1,
   "metadata": {
    "colab": {},
    "colab_type": "code",
    "id": "dhjtkCbhLF51"
   },
   "outputs": [],
   "source": [
    "import numpy as np\n",
    "import pandas as pd\n",
    "from math import inf"
   ]
  },
  {
   "cell_type": "code",
   "execution_count": null,
   "metadata": {
    "colab": {},
    "colab_type": "code",
    "id": "J0YMz7c5LF55"
   },
   "outputs": [],
   "source": [
    "\"\"\" Dynamic programming for the change problem \"\"\"\n",
    "def get_dp_change(money, coins):\n",
    "    # Set start minimum number coins to an array of 0\n",
    "    min_num_coins = np.zeros((money + 1))\n",
    "    # m is an interger counted from 1 to amount of money\n",
    "    for m in range(1, money + 1):\n",
    "        # Assign MinNumCoins(m) with infinity\n",
    "        min_num_coins[m] = inf\n",
    "        \"\"\" Choose the minimum number of coins from the case \"\"\"\n",
    "        for i in range(len(coins)):\n",
    "            if m >= coins[i]:\n",
    "                if min_num_coins[m - coins[i]] + 1 < min_num_coins[m]:\n",
    "                    min_num_coins[m] = min_num_coins[m - coins[i]] + 1\n",
    "    return min_num_coins[money]            "
   ]
  },
  {
   "cell_type": "code",
   "execution_count": null,
   "metadata": {
    "colab": {},
    "colab_type": "code",
    "id": "OQ4VjBIRLF59",
    "outputId": "7eb9748a-9f16-4050-beaf-6511422060c1"
   },
   "outputs": [
    {
     "data": {
      "text/plain": [
       "794.0"
      ]
     },
     "execution_count": 265,
     "metadata": {
      "tags": []
     },
     "output_type": "execute_result"
    }
   ],
   "source": [
    "coins = [24,13,5,3,1]\n",
    "get_dp_change(19037, coins)"
   ]
  },
  {
   "cell_type": "markdown",
   "metadata": {
    "colab_type": "text",
    "id": "6HpsIHgULF6A"
   },
   "source": [
    "#### 2.2 The Manhattan tourist problem<a name=\"manhattan\"></a>"
   ]
  },
  {
   "cell_type": "markdown",
   "metadata": {
    "colab_type": "text",
    "id": "1SxyVlJ6LF6B"
   },
   "source": [
    "Hãy tưởng tượng bạn là một khách du lịch ở Midtown Manhattan và bạn muốn nhìn thấy nhiều danh lam thắng cảnh nhất có thể trên đường từ góc đường 59 và Đại lộ số 8 đến góc của Đường 42 và Đại lộ 3 (hình dưới). Tuy nhiên, bạn có thời gian ngắn và tại mỗi ngã tư, bạn chỉ có thể di chuyển về phía nam (↓) hoặc phía đông (→). Bạn có thể chọn từ nhiều con đường khác nhau thông qua bản đồ, nhưng không có con đường nào sẽ ghé thăm tất cả các điểm tham quan. Thử thách tìm đường đi qua thành phố đến thăm nhiều điểm tham quan nhất được gọi là Bài toán du lịch Manhattan."
   ]
  },
  {
   "cell_type": "markdown",
   "metadata": {
    "colab_type": "text",
    "id": "H4ubcotJLF6B"
   },
   "source": [
    "<a><img src=\"https://imgur.com/O25nsR7.jpg\" width=\"500\" align=\"center\"> "
   ]
  },
  {
   "cell_type": "markdown",
   "metadata": {
    "colab_type": "text",
    "id": "mVZenHCDLF6C"
   },
   "source": [
    "Bản đồ Manhattan được biểu diễn dưới dạng đồ thị có hướng (Manhattan Graph), trong đó chúng ta mô hình mỗi giao lộ là một nút và biểu thị mỗi tòa nhà trong thành phố giữa hai giao lộ là một cạnh có hướng cho biết hướng di chuyển hợp pháp (↓ hoặc →), như được hiển thị bên dưới. Sau đó, chúng ta gán cho mỗi cạnh được định hướng một trọng số bằng với số lượng điểm tham quan dọc theo khối tương ứng. Nút bắt đầu (màu xanh) được gọi là source và nút kết thúc (màu đỏ) được gọi là sink. Việc gán các trọng số dọc theo một đường dẫn từ source tới sink sẽ mang lại số lượng điểm tham quan dọc theo đường dẫn đó; do đó, để giải quyết vấn đề du lịch Manhattan, chúng ta cần tìm một đường dẫn có trọng số tối đa nối source với sink (còn gọi là đường dài nhất) trong ManhattanGraph."
   ]
  },
  {
   "cell_type": "markdown",
   "metadata": {
    "colab_type": "text",
    "id": "TPmJ5nJHLF6C"
   },
   "source": [
    "<a><img src=\"https://imgur.com/N2T3ZqM.jpg\" width=\"500\" align=\"center\"> "
   ]
  },
  {
   "cell_type": "markdown",
   "metadata": {
    "colab_type": "text",
    "id": "qxho-SC0LF6C"
   },
   "source": [
    "Nút source màu xanh được gán tọa độ (0, 0) và nút sink màu đỏ được gán tọa độ (n, m). Thuật toán sau đây tính toán độ dài của đường dẫn dài nhất đến nút (i, j) trong lưới hình chữ nhật và dựa trên quan sát rằng cách duy nhất để tiếp cận nút (i, j) trong Bài toán du lịch Manhattan là di chuyển về phía nam (↓) từ (i - 1, j) hoặc đông (→) từ (i, j - 1)."
   ]
  },
  {
   "cell_type": "markdown",
   "metadata": {
    "colab_type": "text",
    "id": "BeqgBYwxLF6D"
   },
   "source": [
    "<a><img src=\"https://imgur.com/VRfUvfj.jpg\" width=\"500\" align=\"center\"> "
   ]
  },
  {
   "cell_type": "markdown",
   "metadata": {
    "colab_type": "text",
    "id": "SyCZcX9XLF6D"
   },
   "source": [
    "<b>Giống như thuật toán lập trình động trong bài toán đổi tiền</b>, chúng ta có thuật toán tìm độ dài của một đường dài nhất trong Bài toán du lịch Manhattan. Trong code sau, $down_{i, j}$ và $right_{i, j}$ là các trọng số tương ứng của các cạnh dọc và ngang vào nút (i, j), các ma trận đối số đầu vào lần lượt là down và right."
   ]
  },
  {
   "cell_type": "code",
   "execution_count": null,
   "metadata": {
    "colab": {},
    "colab_type": "code",
    "id": "EAqis9kuLF6E"
   },
   "outputs": [],
   "source": [
    "\"\"\" Find the longest path in the Manhattan graph\n",
    "Each path is weighted, and is shown in matrices: Down and Right\"\"\"\n",
    "def get_manhattan_tourist(n, m, down, right):\n",
    "    s = np.zeros((n+1, m+1))\n",
    "    # Find values of S at the first column\n",
    "    for i in range(1, n+1):\n",
    "        s[i, 0] = s[i-1, 0] + down[i-1, 0]\n",
    "    # Find values of S at the first row\n",
    "    for j in range(1, m+1):\n",
    "        s[0, j] = s[0, j-1] + right[0, j-1]\n",
    "    # Find the maximum of S\n",
    "    for i in range(1, n+1):\n",
    "        for j in range(1, m+1):\n",
    "            s[i, j] = max(s[i-1, j] + down[i-1, j], s[i, j-1] + right[i, j-1])\n",
    "    return(s[n, m])"
   ]
  },
  {
   "cell_type": "markdown",
   "metadata": {
    "colab_type": "text",
    "id": "BLRe7th1LF6G"
   },
   "source": [
    "Nhập ma trận đối số đầu vào của đồ thị bên trên."
   ]
  },
  {
   "cell_type": "code",
   "execution_count": null,
   "metadata": {
    "colab": {},
    "colab_type": "code",
    "id": "CAuGtB77LF6G"
   },
   "outputs": [],
   "source": [
    "down = np.array([[1, 0, 2, 4, 3],\n",
    "                [4, 6, 5, 2, 1],\n",
    "                [4, 4, 5, 2, 1],\n",
    "                [5, 6, 8, 5, 3]])\n",
    "right = np.array([[3, 2, 4, 0],\n",
    "                 [3, 2, 4, 2],\n",
    "                 [0, 7, 3, 4],\n",
    "                 [3, 3, 0, 2],\n",
    "                 [1, 3, 2, 2]])"
   ]
  },
  {
   "cell_type": "code",
   "execution_count": null,
   "metadata": {
    "colab": {},
    "colab_type": "code",
    "id": "SVgUwfGjLF6I",
    "outputId": "ee9b1890-6e9a-4dba-d1e7-fc9fce8c8216"
   },
   "outputs": [
    {
     "data": {
      "text/plain": [
       "17.0"
      ]
     },
     "execution_count": 268,
     "metadata": {
      "tags": []
     },
     "output_type": "execute_result"
    }
   ],
   "source": [
    "get_manhattan_tourist(2, 2, down, right)"
   ]
  },
  {
   "cell_type": "markdown",
   "metadata": {
    "colab_type": "text",
    "id": "NvS6lgv0LF6M"
   },
   "source": [
    "#### 2.3 Dynamic programming in an arbitrary DAG<a name=\"dynamicdag\"></a>"
   ]
  },
  {
   "cell_type": "markdown",
   "metadata": {
    "colab_type": "text",
    "id": "lnjMBhy-LF6N"
   },
   "source": [
    "Cho một nút b trong DAG, đặt $s_b$ biểu thị độ dài của đường dài nhất từ source đến b. Chúng ta gọi nút a là nút trước của nút b nếu có cạnh nối từ a đến b trong DAG; indegree của một nút bằng số lượng của các nút trước. Score $s_b$ của nút b với indegree k được tính là giá trị lớn nhất của k giá trị:\n",
    "$$ s_b = max_{all\\, a \\,of\\, b}(s_a + weight\\, of \\, edge\\,from\\,a\\,to\\,b)$$"
   ]
  },
  {
   "cell_type": "markdown",
   "metadata": {
    "colab_type": "text",
    "id": "6-F679yoLF6N"
   },
   "source": [
    "Một đối số tương tự có thể được áp dụng cho biểu đồ gióng hàng(bên dưới) để tính độ dài của LCS giữa các chuỗi v và w. Vì trong trường hợp này, tất cả các cạnh đều có trọng số 0 ngoại trừ các cạnh chéo có trọng số 1 đại diện cho match ($v_i = w_j$), chúng ta nhận được thuật toán đệ quy sau đây để tính độ dài của LCS."
   ]
  },
  {
   "cell_type": "markdown",
   "metadata": {
    "colab_type": "text",
    "id": "FTa-ivXNLF6O"
   },
   "source": [
    "<a><img src=\"https://imgur.com/GT0NJzS.jpg\" width=\"500\" align=\"center\">     "
   ]
  },
  {
   "cell_type": "markdown",
   "metadata": {
    "colab_type": "text",
    "id": "W9Lf1TXPLF6O"
   },
   "source": [
    "<a><img src=\"https://imgur.com/7QVSBua.jpg\" width=\"500\" align=\"center\">     "
   ]
  },
  {
   "cell_type": "markdown",
   "metadata": {
    "colab_type": "text",
    "id": "1bsOiFPMLF6P"
   },
   "source": [
    "Chúng ta có thể sử dụng thuật toán quay lui (backtracking) để xây dựng LCS của chuỗi v và w. Chúng ta biết rằng nếu chúng ta gán trọng số 1 cho các cạnh trong AlignGraph (v, w) tương ứng với các kết quả match và gán trọng số 0 cho tất cả các cạnh khác, thì $s_{|v|, |w|}$ biểu diễn chiều dài của LCS. Thuật toán sau chứa một bản ghi trong đó các cạnh được sử dụng để tính toán từng giá trị $s_{i,j}$ bằng cách sử dụng các con trỏ quay lui, mà nhận một trong ba giá trị ↓(d), →(r) hoặc ↘(m). Con trỏ quay lui được lưu trữ trong một ma trận quay lui (backtrack)."
   ]
  },
  {
   "cell_type": "code",
   "execution_count": null,
   "metadata": {
    "colab": {},
    "colab_type": "code",
    "id": "W77tSyahLF6P"
   },
   "outputs": [],
   "source": [
    "\"\"\"Longest Common Subsequence (LCS) Backtracking in the Alignment Graph\"\"\"\n",
    "def build_lcs_back_track(v, w):\n",
    "    back_track = np.array([[\"\" for j in range(len(w)+1)] for i in range(len(v)+1)])\n",
    "    s = np.zeros((len(v) + 1, len(w) + 1))\n",
    "        \n",
    "    for i in range(1, len(v) + 1):\n",
    "        for j in range(1, len(w) + 1):\n",
    "            match = 0\n",
    "            if v[i-1] == w[j-1]: # Match score equals to 1.\n",
    "                match = 1\n",
    "            # Recurrent algorithm of s.\n",
    "            s[i, j] = max(s[i-1, j], s[i, j-1], s[i-1, j-1] + match)\n",
    "            # Build backtrack matrix\n",
    "            if s[i, j] == s[i, j-1]:\n",
    "                back_track[i, j] = \"r\" # Insertion\n",
    "            elif s[i, j] == s[i-1, j]: \n",
    "                back_track[i, j] = \"d\" # Deletion\n",
    "            elif s[i, j] == s[i-1, j-1] + match:\n",
    "                back_track[i, j] = \"m\" # Match\n",
    "                \n",
    "    return(back_track)"
   ]
  },
  {
   "cell_type": "markdown",
   "metadata": {
    "colab_type": "text",
    "id": "Sns3wSvwLF6R"
   },
   "source": [
    "Nhập hai chuỗi đầu vào v và w."
   ]
  },
  {
   "cell_type": "code",
   "execution_count": null,
   "metadata": {
    "colab": {},
    "colab_type": "code",
    "id": "W7P6etVrLF6S"
   },
   "outputs": [],
   "source": [
    "v = \"GTGTGAGGTTACAGCTCGAAAGCTAGCTTTCCCTGCTGCGTAGGGCCCCTCAAAAAAAGGATCCGGGCTCATTAGGCATTTAACGGTATTGGAAATCCGATCAGAGTCGTTACGTGCAGGATAGTAATCACATGTCACGATTACGGAATAGTCGACTGCAATCGGATGGACAATCTCTTCATACTCAAATACGAGGATTTGGCGCATCCCAGGGGGACCAGCTGCGTCCGCCTCCAAACGTCAAAAAGGGCGGACTTAAGAGTTACGTGGACAGCAACGCCATTGATGATAGAGGGCATTATAATGAACCCCAGAGCTATGCGCGCAGCGCTGACTTATGAAGTCGTTCTATTTCTACGCTCGCACAACGATGACCCACCAAGGTGCGAAGGGCTGGGCGTGACAGTTGGGGAAGCCACTTGCATATCCAGTATCATCAGTTACGGCTCAGATTCACCTTCCTTTCACCTAGGGGGTGCGCCACCGACATGCATAGCGGAGAATCTCCACAGCATATTACCTATCAATTCTGCTTCGAGCATGCACTGTAGCTGGCCGGGATACGAATGGGTTCGGAGAAAACAGCCCACAGTTACATCGTGGTCAGGTGAACGGCGTAGTGTACTGGCCCGTAATCCCTGCGCTCGACGTGGCGGGAGCCAGACCACTGGACACTTTTTCAGGCCCTAGCTAGCGGAACTAGGCTAGTTCGATGACAGAAGAACGCTAGGAAGAATGCGTGATATTAGAAAGCTACATAGGCCCCCATCCCTGCAAAGTTGAACAGAGCGCTATATCGGGCGGCTCGGCTACAGGGTCCTTTTGGATTAAGATTGGGCATGGCTCGATTTGTTCGCAATTCACCTGTACCTGGTACACCGGGCATTACTTAATTACCCTGGAAGAGTAA\"\n",
    "w = \"CACGAATGAATGGATGCCGCCGCTGGGTAAGACTGGCCTGGGGTGTGAGCAATTCTACGCTGCCAGGGACCGCGCTCTAAGCCACAATATAACATCGGTGCCACATAGATGACCTCAGCGCAACGTCCAATTGGATACAGTGACCCAGTTAGTAGGTCAAGTTGTTAATCTCCACTCCAGACCTGTGGACTTGTGACGCAAGGATCACATGGCACAGGTCGGAAGGCGGCGAAAAAACTACTCTCGTGGCACACGTATCCGATAACGTCAAACTATAGAGGTCGGTCCCATTCCGGTCCTTGGATGGCTATCCGAGATCATCAATACGGGCGAGGAGTGCAGCCATTTTCGGGCGTTAAATTATCTAGTCCTAGGACTCGTTACACCCCAGAACCTCTTGGTGACATGTGTTTTTGCTACTACCAGGGAGGCGCTCCAGAATCCTGTCATAATTGGCGATTCCTGTGGCGCGAGAGCTTCAGTCGACCGGGACAAGCCCTTTGATTCTTGCCATTGCCCTAGCCGCAAACCGATAGACCCATTATAGTCCCTTTGCTGTAGAAAAACCACCACAATGTTCCACGGGTTCAAGATAAAAGCGTTTTTCGTTCCATTAGGTTAAAGTCCGTGGTACTTACACCTGTATGAATACCTGACAATAACTGACTGATCTTCACCTCAGGCTACCCTGTCAGAGTCAATACCGCCACCATCGGCACACCGACGGCTACCACGGATCTCAAACAATCTGGGGGGTTGTTCCGCTAGGTTTGAATCCCAGTAAACGACAACGAATGGACGCCCGCAAAAGTCGAGTCTTAGGCTGGGGAATACGGATG\""
   ]
  },
  {
   "cell_type": "code",
   "execution_count": null,
   "metadata": {
    "colab": {},
    "colab_type": "code",
    "id": "09DtyRgQLF6T",
    "outputId": "b05d5380-3f43-4d65-f634-80b902e0a5e8"
   },
   "outputs": [
    {
     "data": {
      "text/plain": [
       "(911, 840)"
      ]
     },
     "execution_count": 271,
     "metadata": {
      "tags": []
     },
     "output_type": "execute_result"
    }
   ],
   "source": [
    "back_track = build_lcs_back_track(v, w)\n",
    "back_track.shape"
   ]
  },
  {
   "cell_type": "markdown",
   "metadata": {
    "colab_type": "text",
    "id": "NlRR-V1ELF6V"
   },
   "source": [
    "Bây giờ chúng ta cần tìm một đường từ source tới sink được hình thành bởi các cạnh. Thuật toán sau giải quyết bài toán tìm chuỗi con chung dài nhất (LCS) bằng cách sử dụng thông tin trong Backtrack. output_lcs (back_track, v, i, j) sẽ đưa ra một LCS giữa các chuỗi con là tiền tố của v và w có thứ tự kết thúc tương ứng là i và j. "
   ]
  },
  {
   "cell_type": "code",
   "execution_count": null,
   "metadata": {
    "colab": {},
    "colab_type": "code",
    "id": "rWCBHuxDLF6W"
   },
   "outputs": [],
   "source": [
    "\"\"\"Find the longest common subsequence\"\"\"\n",
    "def output_lcs(back_track, v, w, i, j):\n",
    "    lcs = []\n",
    "    if i == 0 or j == 0:\n",
    "        return (\"\")\n",
    "    # Output v, w after alignment. \n",
    "    v_ali = [] # v after alignment.\n",
    "    w_ali = [] # w after alignment.\n",
    "    \n",
    "    while i > 0 and j > 0:\n",
    "        if back_track[i, j] == \"m\": # Backtrack at match.\n",
    "            v_ali.append(v[i-1])\n",
    "            w_ali.append(w[j-1])\n",
    "            if v[i-1] == w[j-1]:\n",
    "                lcs.append(v[i-1])\n",
    "            i = i - 1\n",
    "            j = j - 1\n",
    "        elif back_track[i, j] == \"d\": # Backtrack at deletion.\n",
    "            v_ali.append(v[i-1])\n",
    "            w_ali.append('-')\n",
    "            i = i - 1\n",
    "        elif back_track[i, j] == \"r\": # Backtrack at insertion.\n",
    "            v_ali.append('-')\n",
    "            w_ali.append(w[j-1])\n",
    "            j = j - 1\n",
    "        \n",
    "    return(\"\".join(reversed(lcs)), \"\".join(reversed(v_ali)), \"\".join(reversed(w_ali)))"
   ]
  },
  {
   "cell_type": "markdown",
   "metadata": {
    "colab_type": "text",
    "id": "OT0DpXA9LF6X"
   },
   "source": [
    "Giả sử ở đây ta tìm LCS trên toàn bộ chiều dài của hai chuỗi v, w và trên các chuỗi con tiền tố của v và w với thứ tự kết thúc tương ứng là 500 và 400."
   ]
  },
  {
   "cell_type": "code",
   "execution_count": null,
   "metadata": {
    "colab": {},
    "colab_type": "code",
    "id": "8tDN3zrbLF6Y",
    "outputId": "8dcd02cd-00e6-469e-ac2c-179f101e73c9"
   },
   "outputs": [
    {
     "name": "stdout",
     "output_type": "stream",
     "text": [
      "Longest common subsequence:  GTGTGAGGCGCTGAAAGCTAGCTTCTGCTGCAGGGCCCCTCAAAAAAAATCGGGCCACATAGATGACCTCAGCGACGTCAATTATACAGTACATTAGTAGGTCAAGTGAATCTCCACTCAACGGGATTTGCGCAAGGACACTGGCCGTCAACGCAAAAAACTATTCGTGGCACACGTATGATAAGCAATATAGAGGCGGCCCATTGGTCCTATCTATCCGAGACACAATCGGGCGGGGTGCAGTTGGGGAAATTATATCCAGACTCGTTACCCAGAACCTCTTTACAGGTGCACACCAGGGAGCTCCAGAATCCTTCAATTGCGATCCTGTGCGCGGATCAGTCGAGACAGCCCACTTCATTGCAGGAACCGTAGACCCTAATCCCTGCGTGACCACCAACCACGGCACTTTTTCGCCATAGGAACTGGTATTCATGAGAAACCTGAAAATGCTGATTTACTCAGGCTCCCTGCAAGTAAAGACCATCGGCCCCACGGTCCGGATTAAATTGGGGGGTTGTTCGCATTACCGTACCTGGACCCGCATACTTACTGGAAAGA\n",
      "\n",
      "v alignment:  G--TG--TG-A-G--GTTACA-GCTCG---AA-A--G-C-T--------AGC--TTTCCCT--GCTGCGT-AGGG-CC-C-CTC-AA---A-AA-A-AGGA--TCCGG-GCTCATTAGGCATTTAACGGTATTGGAAATCCGATCAGAGTCGTT-A-CGTGC-AGGATAGT--AATCACATGTC-ACG--A-TTACGGAATAGTCGACTGCAATCGGAT-GG--ACAATCTCTTCATACTC-A-AATAC--GA-GGA-TT-TGG-CGCATCCCAGGGGGA-CCAGC-TGCGTC-C-GCC-TCC--AAA--CGT-C-AAAAAGGGCGGACTTAAGAG-T-TACGTGGACAGCAACGCCATTGAT--GATAGA-GGG-CATTA--TAATGAACCCCAGAGCTATG-CGCG-CAGCGCTGACTTAT--GAAGTCGTTCT---ATTT--CTACGCTCGCACAACGATGA-CCCA-CCAAGGTG-CGAAGGGCTG-GGC-GTGACAG---TT---GGG-G--AAGCCACTTGCAT--A-TCC-AGT-ATCATCAGTTACGG-CTC--AGATTCACCTTCCTT--TC-ACCTA-G-GGGGT----GCGCC-ACCG-ACATGCATAGCGGAGAAT-C--TCCACAGCATATTACCTA-TCA-A-TTCTG-CTTCGAGCATG-CACTGTAG-CTGGCCG-GGA--TA-CGAATGGGTTCGGA--G--AAAACA-GCCC----A--CAGTTA-C-ATCGTGGTC---AG--GTG-AA-CGGCG-TAGTGTACTGGCCCG-T-A-A-TCCCT--GC-GCTC-GA----CGTGGCGGGAGCCAG-A-----CCACTGGA---CA---------C-TTTTTCAGG--CCCTAGCT-AGCGG--AA---C--TAGGCTAG-TT-CGA--TG-ACA-GAAG-AACGCTAGGA-AGA-A--TG-CGTGATA-TT-AGAAAGC-TACATAGGCCCCCAT-CCCTG-CA-AAGTTG-AAC-A--G--AGCGCTATATCGGGCGG-CT-CGGCT-ACAGGG-T-CCTTTT--GGAT-T-AAGA---T-TGGGCATGGCTCGATTTGTTC-GC-AA--TTC--A--CCT--GTA--C--C------TGGTACA-CC-GGGCA----TT--A--CTTAATTA--CCCTGG--AAG-A-GT-AA--\n",
      "\n",
      "w alignment:  GAATGAATGGATGCCG---C-CGCT-GGGTAAGACTGGCCTGGGGTGTGAGCAATT-C--TACGCTGC--CAGGGACCGCGCTCTAAGCCACAATATA--ACATC-GGTGC-CA-----CAT--A--G--AT-G-A---CC--TCAG---CG--CAACGT-CCA--AT--TGGA-T-ACA-GT-GAC-CCAGTTA-G---TAG--G--T-CAA--G--TTG-TTA-A-TCTC--CA--CTCCAGA---CCTG-TGGACTTGTG-ACGCA----AGG---ATC-A-CATG-G-CACAG--GTC-GGAA-GGCG-GCGAAAAA------ACT-A----CTCT-CGTGG-CA-CA-CG---T--ATCCGATA-ACG--TCA--AACTA-T-A------GAG----GTCG-GTC--C-C--A-TT--CCG--GTC---CTTGGAT--GGCTA---TC-C-----GA-GATC--ATC-AA--T-ACG--GG-C-GAGG-AGTG-CAGCCATTTTCGGGCGTTAA---A-TT--ATCTAGTCCTAG-GA-C-TC-GTTAC--AC-CCCAGA---ACCT-C-TTGGT-GAC--ATGTG---TTTTTGC---TAC--TAC---CA--G-GGAG---GCGCTCCA--G-A-AT--CCT-GTCATAATT--GGC---GA---T-TC-CTGT-GGC-G-C-GAG-AGCT-TC-A--G--T-CG-ACCGGGA---CAAGCCCTTTGATTC--TT-GCCAT--TG--CCCTAGCCG--CAAAC--CGATAG---AC---CC--ATTATAGTCCCTTTGCTG-T-AGAAAAAC----C---A-CCA-CAATGTTCCAC-GG-GTTCAAGATAAAAGCGTTTTTC-G-TTCC--A--TTAG-G-TTAAAGTCCGT-GG-TA-CTTAC-ACCTGTA--TGAA-TA-C-CT-G-ACA-ATAACTGAC-TGAT-CTTCA-----CCT-CA--GGC-----TACCCTGTCAGA-GT--CAA-TACCGCCA-C-C-AT--CGG-C--AC-AC--C-GAC-GG-CTACC----ACGGATCTCAA-ACAATCTGGG---GG---G-TT-GTTCCGCTA-GGTT-TGAATCC-CAGTAAACGACAACGAATGG-AC-GCCCG--CAAAAGT-CGAGTCTTA----GGC--TGGGGAA-TACG-GA-TG\n"
     ]
    }
   ],
   "source": [
    "lcs, v_ali, w_ali = output_lcs(back_track, v, w, 910, 839)\n",
    "print(\"Longest common subsequence: \", lcs)\n",
    "print(\"\")\n",
    "print(\"v alignment: \", v_ali)\n",
    "print(\"\")\n",
    "print(\"w alignment: \", w_ali)"
   ]
  },
  {
   "cell_type": "code",
   "execution_count": null,
   "metadata": {
    "colab": {},
    "colab_type": "code",
    "id": "-lYs-GcrLF6a",
    "outputId": "51461f42-17c1-4895-f3da-869a893a7da6"
   },
   "outputs": [
    {
     "data": {
      "text/plain": [
       "('GTGTGAGGCGCTGAAAGCTAGCTTCTGCTGCAGGGCCCCTCAAAAAAAATCGGGCCACATAGATGACCTCAGCGACGTCAATTATACAGTACATTAGTAGGTCAAGTGAATCTCCACTCAACGGGATTTGCGCAAGGACACTGGCCGTCAACGCAAAAAACTATTCGTGGCACACGTATGATAAGCAATATAGAGGCGGCCCATTGGTCCTATCTATCCGAGACACAATCGGGCGGGGTGCAGCCATTTTCCGTATATCAGTCCTAGACTCTTACACCCCGAATCTG',\n",
       " 'G--TG--TG-A-G--GTTACA-GCTCG---AA-A--G-C-T--------AGC--TTTCCCT--GCTGCGT-AGGG-CC-C-CTC-AA---A-AA-A-AGGA--TCCGG-GCTCATTAGGCATTTAACGGTATTGGAAATCCGATCAGAGTCGTT-A-CGTGC-AGGATAGT--AATCACATGTC-ACG--A-TTACGGAATAGTCGACTGCAATCGGAT-GG--ACAATCTCTTCATACTC-A-AATAC--GA-GGA-TT-TGG-CGCATCCCAGGGGGA-CCAGC-TGCGTC-C-GCC-TCC--AAA--CGT-C-AAAAAGGGCGGACTTAAGAG-T-TACGTGGACAGCAACGCCATTGAT--GATAGA-GGG-CATTA--TAATGAACCCCAGAGCTATG-CGCG-CAGCGCTGACTTAT--GAAGTCGTTCT---ATTT--CTACGCTCGCACAACGATGA-CCCA-CCAAGGTG-CGAAGGGCTG-GGC-GTGACAGTTGGGGAAGCCACTTGCATATC---CAGT-A--TC-ATC-AGTTACGGCTCAG-ATTCACCTTCC-TTTCACCTAGGGGGTGCGCCACC-GACA--TGCATA-GCGGA',\n",
       " 'GAATGAATGGATGCCG---C-CGCT-GGGTAAGACTGGCCTGGGGTGTGAGCAATT-C--TACGCTGC--CAGGGACCGCGCTCTAAGCCACAATATA--ACATC-GGTGC-CA-----CAT--A--G--AT-G-A---CC--TCAG---CG--CAACGT-CCA--AT--TGGA-T-ACA-GT-GAC-CCAGTTA-G---TAG--G--T-CAA--G--TTG-TTA-A-TCTC--CA--CTCCAGA---CCTG-TGGACTTGTG-ACGCA----AGG---ATC-A-CATG-G-CACAG--GTC-GGAA-GGCG-GCGAAAAA------ACT-A----CTCT-CGTGG-CA-CA-CG---T--ATCCGATA-ACG--TCA--AACTA-T-A------GAG----GTCG-GTC--C-C--A-TT--CCG--GTC---CTTGGAT--GGCTA---TC-C-----GA-GATC--ATC-AA--T-ACG--GG-C-GAGG-AGTG-CAG---------CCA-TT---T-TCGGGC-GTTAAAT-TATCTAGT--C--CT-AGGA--C---T-C-GTT--AC--A-------C-CC-C-AGA-ACCT-C-T-TG----')"
      ]
     },
     "execution_count": 274,
     "metadata": {
      "tags": []
     },
     "output_type": "execute_result"
    }
   ],
   "source": [
    "output_lcs(back_track, v, w, 500, 400)"
   ]
  },
  {
   "cell_type": "markdown",
   "metadata": {
    "colab_type": "text",
    "id": "4xYnON_hLF6e"
   },
   "source": [
    "Phương pháp quay lui có thể được khái quát hóa để xây dựng một đường dài nhất trong bất kỳ DAG nào dựa trên Topological Ordering của đồ thị đó."
   ]
  },
  {
   "cell_type": "markdown",
   "metadata": {
    "colab_type": "text",
    "id": "OASdIRsmLF6f"
   },
   "source": [
    "#### 2.4 Finding a Topological Ordering from a DAG<a name=\"topological\"></a>"
   ]
  },
  {
   "cell_type": "markdown",
   "metadata": {
    "colab_type": "text",
    "id": "9fisV-EdLF6f"
   },
   "source": [
    "Chú ý rằng mọi DAG có thể xây dựng được một Topological Ordering,  ví dụ một dạng Topological Ordering như hình dưới. Dựa trên quan sát rằng mọi DAG đều có ít nhất một nút không có cạnh vào, chúng ta sẽ dán nhãn một trong các nút này là $v_1$ và sau đó loại bỏ nút này khỏi biểu đồ cùng với tất cả các cạnh ra của nó. Biểu đồ kết quả cũng là một DAG, do đó phải có một nút không có cạnh đến; chúng ta gắn nhãn nút này là $v_2$ và một lần nữa loại bỏ nó khỏi biểu đồ cùng với các cạnh ra của nó. Thuật toán kết thúc cho đến khi tất cả các nút có đã được gỡ bỏ, một Topological Ordering $v_1$ ,. . . , $v_n$ được tạo ra. Thuật toán này có <b>độ phức tạp tính toán tỷ lệ với số cạnh trong DAG</b>."
   ]
  },
  {
   "cell_type": "markdown",
   "metadata": {
    "colab_type": "text",
    "id": "5fXw4iygLF6g"
   },
   "source": [
    "<a><img src=\"https://imgur.com/rBBE6es.jpg\" width=\"500\" align=\"center\">     "
   ]
  },
  {
   "cell_type": "code",
   "execution_count": null,
   "metadata": {
    "colab": {},
    "colab_type": "code",
    "id": "fhbCxaTQLF6g"
   },
   "outputs": [],
   "source": [
    "# Loading a graph data from local computer\n",
    "data_alignment = pd.read_csv(\"D:/Data Science/Data/Comparing genes, proteins, genome/274.csv\")\n",
    "#data_alignment = pd.read_csv(\"D:/Data Science/Data/Comparing genes, proteins, genome/test_1.csv\")"
   ]
  },
  {
   "cell_type": "code",
   "execution_count": null,
   "metadata": {
    "colab": {},
    "colab_type": "code",
    "id": "AgPb-DGPLF6i",
    "outputId": "89a2277e-0973-4140-c503-a04b4a27c7a3"
   },
   "outputs": [
    {
     "data": {
      "text/html": [
       "<div>\n",
       "<style scoped>\n",
       "    .dataframe tbody tr th:only-of-type {\n",
       "        vertical-align: middle;\n",
       "    }\n",
       "\n",
       "    .dataframe tbody tr th {\n",
       "        vertical-align: top;\n",
       "    }\n",
       "\n",
       "    .dataframe thead th {\n",
       "        text-align: right;\n",
       "    }\n",
       "</style>\n",
       "<table border=\"1\" class=\"dataframe\">\n",
       "  <thead>\n",
       "    <tr style=\"text-align: right;\">\n",
       "      <th></th>\n",
       "      <th>v</th>\n",
       "      <th>w</th>\n",
       "      <th>weight</th>\n",
       "    </tr>\n",
       "  </thead>\n",
       "  <tbody>\n",
       "    <tr>\n",
       "      <th>0</th>\n",
       "      <td>0</td>\n",
       "      <td>4</td>\n",
       "      <td>9</td>\n",
       "    </tr>\n",
       "    <tr>\n",
       "      <th>1</th>\n",
       "      <td>4</td>\n",
       "      <td>18</td>\n",
       "      <td>20</td>\n",
       "    </tr>\n",
       "    <tr>\n",
       "      <th>2</th>\n",
       "      <td>18</td>\n",
       "      <td>27</td>\n",
       "      <td>14</td>\n",
       "    </tr>\n",
       "    <tr>\n",
       "      <th>3</th>\n",
       "      <td>27</td>\n",
       "      <td>49</td>\n",
       "      <td>13</td>\n",
       "    </tr>\n",
       "    <tr>\n",
       "      <th>4</th>\n",
       "      <td>4</td>\n",
       "      <td>18</td>\n",
       "      <td>7</td>\n",
       "    </tr>\n",
       "  </tbody>\n",
       "</table>\n",
       "</div>"
      ],
      "text/plain": [
       "    v   w  weight\n",
       "0   0   4       9\n",
       "1   4  18      20\n",
       "2  18  27      14\n",
       "3  27  49      13\n",
       "4   4  18       7"
      ]
     },
     "execution_count": 276,
     "metadata": {
      "tags": []
     },
     "output_type": "execute_result"
    }
   ],
   "source": [
    "data_alignment.head()"
   ]
  },
  {
   "cell_type": "code",
   "execution_count": null,
   "metadata": {
    "colab": {},
    "colab_type": "code",
    "id": "TwNLEhSSLF6j"
   },
   "outputs": [],
   "source": [
    "# Create a graph from the data.\n",
    "def get_graph(data):\n",
    "    gr = []\n",
    "    for i in range(data.shape[0]):\n",
    "        gr.append((data.iloc[i, 0], data.iloc[i, 1]))\n",
    "    return(gr)    "
   ]
  },
  {
   "cell_type": "markdown",
   "metadata": {
    "colab_type": "text",
    "id": "NYJCbLfpLF6l"
   },
   "source": [
    "Một đồ thị bao gồm các cạnh được tạo thành bởi mỗi 2 nút."
   ]
  },
  {
   "cell_type": "code",
   "execution_count": null,
   "metadata": {
    "colab": {},
    "colab_type": "code",
    "id": "K1opoI6PLF6m",
    "outputId": "bd9a37c2-c00d-444e-9127-2efbc7932153"
   },
   "outputs": [
    {
     "data": {
      "text/plain": [
       "[(0, 4), (4, 18), (18, 27), (27, 49), (4, 18)]"
      ]
     },
     "execution_count": 278,
     "metadata": {
      "tags": []
     },
     "output_type": "execute_result"
    }
   ],
   "source": [
    "graph = get_graph(data_alignment)\n",
    "graph[0:5]"
   ]
  },
  {
   "cell_type": "code",
   "execution_count": null,
   "metadata": {
    "colab": {},
    "colab_type": "code",
    "id": "3FAXAYvKLF6o"
   },
   "outputs": [],
   "source": [
    "# Finding a set of vertices from a graph\n",
    "def get_vertices(graph):\n",
    "    df = graph[:]\n",
    "    first = []\n",
    "    end = []\n",
    "    for edg in df:\n",
    "        first.append(edg[0])\n",
    "        end.append(edg[1])\n",
    "    vertices = np.unique(first + end).tolist()\n",
    "    return(vertices)"
   ]
  },
  {
   "cell_type": "code",
   "execution_count": null,
   "metadata": {
    "colab": {},
    "colab_type": "code",
    "id": "SZyfiLZTLF6q",
    "outputId": "693396ca-1cd8-4921-b27b-434a9f74a00e"
   },
   "outputs": [
    {
     "data": {
      "text/plain": [
       "[0, 2, 3, 4, 5, 6, 7, 9, 10, 11]"
      ]
     },
     "execution_count": 280,
     "metadata": {
      "tags": []
     },
     "output_type": "execute_result"
    }
   ],
   "source": [
    "vertices = get_vertices(graph)\n",
    "vertices[0:10]"
   ]
  },
  {
   "cell_type": "code",
   "execution_count": null,
   "metadata": {
    "colab": {},
    "colab_type": "code",
    "id": "8ChlCqOmLF6t"
   },
   "outputs": [],
   "source": [
    "# Finding a noincoming vertex \n",
    "def deter_noincoming_vertex(graph, first_node):\n",
    "    all_end_node = []\n",
    "    for x in graph:\n",
    "        all_end_node.append(x[1])\n",
    "    # A noincoming vertex is a vertex that it's indegree is zero.\n",
    "    if (first_node in all_end_node) == False:\n",
    "        return(first_node)\n",
    "    else:\n",
    "        return(\"No incoming node\")"
   ]
  },
  {
   "cell_type": "code",
   "execution_count": null,
   "metadata": {
    "colab": {},
    "colab_type": "code",
    "id": "xReGzo06LF6v",
    "outputId": "372304ac-d49d-4fa0-b8f1-3eaa8494ee91"
   },
   "outputs": [
    {
     "data": {
      "text/plain": [
       "0"
      ]
     },
     "execution_count": 282,
     "metadata": {
      "tags": []
     },
     "output_type": "execute_result"
    }
   ],
   "source": [
    "deter_noincoming_vertex(graph, 0)"
   ]
  },
  {
   "cell_type": "code",
   "execution_count": null,
   "metadata": {
    "colab": {},
    "colab_type": "code",
    "id": "PM5Wp8FDLF6x"
   },
   "outputs": [],
   "source": [
    "# Find all noincoming vertices\n",
    "def get_candidates(graph):\n",
    "    candi = []\n",
    "    for x in graph:\n",
    "        if deter_noincoming_vertex(graph, x[0]) == x[0]:\n",
    "            candi.append(x[0])\n",
    "    candi = np.unique(candi).tolist()\n",
    "    return(candi)"
   ]
  },
  {
   "cell_type": "code",
   "execution_count": null,
   "metadata": {
    "colab": {},
    "colab_type": "code",
    "id": "QwubMhGWLF6z",
    "outputId": "692a9889-729e-422f-88da-e848c09c8e9e"
   },
   "outputs": [
    {
     "data": {
      "text/plain": [
       "[0]"
      ]
     },
     "execution_count": 284,
     "metadata": {
      "tags": []
     },
     "output_type": "execute_result"
    }
   ],
   "source": [
    "get_candidates(graph)"
   ]
  },
  {
   "cell_type": "code",
   "execution_count": null,
   "metadata": {
    "colab": {},
    "colab_type": "code",
    "id": "MBqK7Jr5LF62"
   },
   "outputs": [],
   "source": [
    "# Get out going edge from a node.\n",
    "def get_out_going_edge(graph, node):\n",
    "    out_edge = []\n",
    "    out_node = []\n",
    "    for edge in graph:\n",
    "        if node == edge[0]:\n",
    "            out_edge.append(edge)\n",
    "            out_node.append(edge[1])\n",
    "    return(out_edge)"
   ]
  },
  {
   "cell_type": "code",
   "execution_count": null,
   "metadata": {
    "colab": {},
    "colab_type": "code",
    "id": "DseJ3ziALF64",
    "outputId": "2a99bcd6-f8ce-401f-cd80-25b347c533a0"
   },
   "outputs": [
    {
     "data": {
      "text/plain": [
       "[(0, 4), (0, 22), (0, 2)]"
      ]
     },
     "execution_count": 286,
     "metadata": {
      "tags": []
     },
     "output_type": "execute_result"
    }
   ],
   "source": [
    "get_out_going_edge(graph, 0)"
   ]
  },
  {
   "cell_type": "code",
   "execution_count": null,
   "metadata": {
    "colab": {},
    "colab_type": "code",
    "id": "b2-vi3rrLF66"
   },
   "outputs": [],
   "source": [
    "# Finding Topological Ordering of a DAG\n",
    "def find_topolocical_ordering(graph):\n",
    "    new_graph = graph[:]\n",
    "    topo_list = []\n",
    "    remove_ver = []\n",
    "    candidates = get_candidates(new_graph)\n",
    "       \n",
    "    while candidates != []:\n",
    "        # Select an arbitrary node a from candidates\n",
    "        a = candidates[0]\n",
    "        # Add a to the end of topo_list and remove it from candidates\n",
    "        topo_list.append(a)\n",
    "        candidates.remove(a)\n",
    "        out_edge = get_out_going_edge(graph, a)\n",
    "        for oge in out_edge:\n",
    "            # Remove edge (a, b) from graph\n",
    "            new_graph.remove(oge)\n",
    "            b = oge[1]\n",
    "            if b == deter_noincoming_vertex(new_graph, b):\n",
    "                candidates.append(b)  \n",
    "    # If graph has edges that have not been removed then return “the input graph is not a DAG”                \n",
    "    if new_graph != []:\n",
    "        return(\"The input graph is not a DAG\")\n",
    "    else:\n",
    "        return(topo_list)"
   ]
  },
  {
   "cell_type": "code",
   "execution_count": null,
   "metadata": {
    "colab": {},
    "colab_type": "code",
    "id": "Nd7mIAYNLF69",
    "outputId": "3f2a0d46-32ff-445d-fb74-3bce49f681f2"
   },
   "outputs": [
    {
     "name": "stdout",
     "output_type": "stream",
     "text": [
      "[0, 4, 2, 3, 5, 16, 6, 10, 7, 18, 9, 25, 21, 11, 12, 33, 15, 13, 22, 17, 27, 28, 26, 19, 20, 37, 31, 30, 23, 39, 32, 35, 29, 34, 36, 38, 40, 47, 41, 42, 43, 45, 44, 46, 48, 49]\n"
     ]
    }
   ],
   "source": [
    "topo_ord = find_topolocical_ordering(graph)\n",
    "print(topo_ord)"
   ]
  },
  {
   "cell_type": "markdown",
   "metadata": {
    "colab_type": "text",
    "id": "hmV4bOBcLF6_"
   },
   "source": [
    "### 3 Scoring alignments<a name=\"scoring\"></a>"
   ]
  },
  {
   "cell_type": "markdown",
   "metadata": {
    "colab_type": "text",
    "id": "gitYMMXFLF6_"
   },
   "source": [
    "Không khó để xây dựng một alignment có nhiều kết quả khớp hơn với nhiều indels hơn. Tuy nhiên, chúng ta càng thêm nhiều indel, alignment càng ít liên quan về mặt sinh học, vì nó phân kỳ ngày càng xa khỏi alignment chính xác về mặt sinh học được tìm thấy bởi Marahiel. Dưới đây là alignment với số lượng match tối đa, đại diện cho LCS có độ dài 19 + 8 + 19 = 46 (biểu tượng màu xanh lá cây đại diện cho match mới). "
   ]
  },
  {
   "cell_type": "markdown",
   "metadata": {
    "colab_type": "text",
    "id": "HNUZWwUTLF6_"
   },
   "source": [
    "<a><img src=\"https://imgur.com/KOmgn0f.jpg\" width=\"600\" align=\"center\">     "
   ]
  },
  {
   "cell_type": "markdown",
   "metadata": {
    "colab_type": "text",
    "id": "TXA7EJkLLF7A"
   },
   "source": [
    "Dưới đây, ta đánh dấu các axit amin màu tím đại diện cho các kí hiệu phi ribosome. Mặc dù các kí hiệu này được nhóm thành tám cột được bảo tồn trong gióng hàng của Marahiel, từ đầu chương, nhưng chỉ có năm trong số các cột này còn tồn tại trong các alignment LCS dẫn đến không thể suy ra các kí hiệu phi ribosome:"
   ]
  },
  {
   "cell_type": "markdown",
   "metadata": {
    "colab_type": "text",
    "id": "bXaWSHDeLF7A"
   },
   "source": [
    "<a><img src=\"https://imgur.com/fuRG77b.jpg\" width=\"600\" align=\"center\">     "
   ]
  },
  {
   "cell_type": "markdown",
   "metadata": {
    "colab_type": "text",
    "id": "O_IsoT-iLF7B"
   },
   "source": [
    "Để khái quát mô hình tính điểm gióng hàng, ta thưởng +1 cho các match, nhưng phạt mismatch bằng một số hằng số dương $\\mu$ (mismatch penalty) và indels bởi một số hằng số dương $\\sigma$ (indel penalty). Kết quả, score của alignment bằng biểu thức sau:$$matches - \\mu.mismatches - \\sigma.indels$$"
   ]
  },
  {
   "cell_type": "markdown",
   "metadata": {
    "colab_type": "text",
    "id": "MUOvVUkCLF7C"
   },
   "source": [
    "Các nhà sinh học đã tinh chỉnh hàm cost function này vì thực tế một số đột biến có thể có nhiều khả năng hơn các đột biến khác, điều này đòi hỏi phạt mismatch và indel khác nhau. Chúng ta sẽ mở rộng k kí hiệu được xắp xếp theo bảng chữ cái bao gồm ký hiệu trống và sau đó xây dựng scoring matrix cỡ (k + 1) × (k + 1) chứa score của alignment mọi cặp ký hiệu. Scoring matrix để so sánh trình tự DNA (k = 4) khi tất cả các mismatch bị phạt bởi $\\mu$ và tất cả các indel bị phạt bởi $\\sigma$ được giới thiệu bên dưới:"
   ]
  },
  {
   "cell_type": "markdown",
   "metadata": {
    "colab_type": "text",
    "id": "DaXSJm5eLF7C"
   },
   "source": [
    "<a><img src=\"https://imgur.com/BQLNnnR.jpg\" width=\"300\" align=\"center\">     "
   ]
  },
  {
   "cell_type": "markdown",
   "metadata": {
    "colab_type": "text",
    "id": "7uFiTq4CLF7D"
   },
   "source": [
    "Mặc dù scoring matrix để so sánh trình tự DNA thường chỉ được xác định bởi các tham số $\\mu$ và $\\sigma$, nhưng scoring matrix để so sánh trình tự protein đánh trọng số khác nhau cho các đột biến khác nhau. Ví dụ, scoring matrix PAM250 được giới thiệu bên dưới:"
   ]
  },
  {
   "cell_type": "markdown",
   "metadata": {
    "colab_type": "text",
    "id": "koxCG1wrLF7D"
   },
   "source": [
    "<a><img src=\"https://imgur.com/Chjz2fb.jpg\" width=\"600\" align=\"center\">     "
   ]
  },
  {
   "cell_type": "markdown",
   "metadata": {
    "colab_type": "text",
    "id": "ZRVS6lQ2LF7E"
   },
   "source": [
    "Ví dụ dưới đây chúng ta sẽ tìm đường chung dài nhất giữa hai chuỗi v và w, trong đó các indel bị phạt với $\\sigma=5$, score của các mismatch và match theo scoring matrix được lưu trong BLOSUM62.txt."
   ]
  },
  {
   "cell_type": "code",
   "execution_count": null,
   "metadata": {
    "colab": {},
    "colab_type": "code",
    "id": "BFGoyHu0LF7F",
    "outputId": "6d65a0a7-96cf-47c6-cfb2-31f88edd6fa4"
   },
   "outputs": [
    {
     "data": {
      "text/html": [
       "<div>\n",
       "<style scoped>\n",
       "    .dataframe tbody tr th:only-of-type {\n",
       "        vertical-align: middle;\n",
       "    }\n",
       "\n",
       "    .dataframe tbody tr th {\n",
       "        vertical-align: top;\n",
       "    }\n",
       "\n",
       "    .dataframe thead th {\n",
       "        text-align: right;\n",
       "    }\n",
       "</style>\n",
       "<table border=\"1\" class=\"dataframe\">\n",
       "  <thead>\n",
       "    <tr style=\"text-align: right;\">\n",
       "      <th></th>\n",
       "      <th>A</th>\n",
       "      <th>C</th>\n",
       "      <th>D</th>\n",
       "      <th>E</th>\n",
       "      <th>F</th>\n",
       "      <th>G</th>\n",
       "      <th>H</th>\n",
       "      <th>I</th>\n",
       "      <th>K</th>\n",
       "      <th>L</th>\n",
       "      <th>M</th>\n",
       "      <th>N</th>\n",
       "      <th>P</th>\n",
       "      <th>Q</th>\n",
       "      <th>R</th>\n",
       "      <th>S</th>\n",
       "      <th>T</th>\n",
       "      <th>V</th>\n",
       "      <th>W</th>\n",
       "      <th>Y</th>\n",
       "    </tr>\n",
       "  </thead>\n",
       "  <tbody>\n",
       "    <tr>\n",
       "      <th>A</th>\n",
       "      <td>4</td>\n",
       "      <td>0</td>\n",
       "      <td>-2</td>\n",
       "      <td>-1</td>\n",
       "      <td>-2</td>\n",
       "      <td>0</td>\n",
       "      <td>-2</td>\n",
       "      <td>-1</td>\n",
       "      <td>-1</td>\n",
       "      <td>-1</td>\n",
       "      <td>-1</td>\n",
       "      <td>-2</td>\n",
       "      <td>-1</td>\n",
       "      <td>-1</td>\n",
       "      <td>-1</td>\n",
       "      <td>1</td>\n",
       "      <td>0</td>\n",
       "      <td>0</td>\n",
       "      <td>-3</td>\n",
       "      <td>-2</td>\n",
       "    </tr>\n",
       "    <tr>\n",
       "      <th>C</th>\n",
       "      <td>0</td>\n",
       "      <td>9</td>\n",
       "      <td>-3</td>\n",
       "      <td>-4</td>\n",
       "      <td>-2</td>\n",
       "      <td>-3</td>\n",
       "      <td>-3</td>\n",
       "      <td>-1</td>\n",
       "      <td>-3</td>\n",
       "      <td>-1</td>\n",
       "      <td>-1</td>\n",
       "      <td>-3</td>\n",
       "      <td>-3</td>\n",
       "      <td>-3</td>\n",
       "      <td>-3</td>\n",
       "      <td>-1</td>\n",
       "      <td>-1</td>\n",
       "      <td>-1</td>\n",
       "      <td>-2</td>\n",
       "      <td>-2</td>\n",
       "    </tr>\n",
       "    <tr>\n",
       "      <th>D</th>\n",
       "      <td>-2</td>\n",
       "      <td>-3</td>\n",
       "      <td>6</td>\n",
       "      <td>2</td>\n",
       "      <td>-3</td>\n",
       "      <td>-1</td>\n",
       "      <td>-1</td>\n",
       "      <td>-3</td>\n",
       "      <td>-1</td>\n",
       "      <td>-4</td>\n",
       "      <td>-3</td>\n",
       "      <td>1</td>\n",
       "      <td>-1</td>\n",
       "      <td>0</td>\n",
       "      <td>-2</td>\n",
       "      <td>0</td>\n",
       "      <td>-1</td>\n",
       "      <td>-3</td>\n",
       "      <td>-4</td>\n",
       "      <td>-3</td>\n",
       "    </tr>\n",
       "    <tr>\n",
       "      <th>E</th>\n",
       "      <td>-1</td>\n",
       "      <td>-4</td>\n",
       "      <td>2</td>\n",
       "      <td>5</td>\n",
       "      <td>-3</td>\n",
       "      <td>-2</td>\n",
       "      <td>0</td>\n",
       "      <td>-3</td>\n",
       "      <td>1</td>\n",
       "      <td>-3</td>\n",
       "      <td>-2</td>\n",
       "      <td>0</td>\n",
       "      <td>-1</td>\n",
       "      <td>2</td>\n",
       "      <td>0</td>\n",
       "      <td>0</td>\n",
       "      <td>-1</td>\n",
       "      <td>-2</td>\n",
       "      <td>-3</td>\n",
       "      <td>-2</td>\n",
       "    </tr>\n",
       "    <tr>\n",
       "      <th>F</th>\n",
       "      <td>-2</td>\n",
       "      <td>-2</td>\n",
       "      <td>-3</td>\n",
       "      <td>-3</td>\n",
       "      <td>6</td>\n",
       "      <td>-3</td>\n",
       "      <td>-1</td>\n",
       "      <td>0</td>\n",
       "      <td>-3</td>\n",
       "      <td>0</td>\n",
       "      <td>0</td>\n",
       "      <td>-3</td>\n",
       "      <td>-4</td>\n",
       "      <td>-3</td>\n",
       "      <td>-3</td>\n",
       "      <td>-2</td>\n",
       "      <td>-2</td>\n",
       "      <td>-1</td>\n",
       "      <td>1</td>\n",
       "      <td>3</td>\n",
       "    </tr>\n",
       "    <tr>\n",
       "      <th>G</th>\n",
       "      <td>0</td>\n",
       "      <td>-3</td>\n",
       "      <td>-1</td>\n",
       "      <td>-2</td>\n",
       "      <td>-3</td>\n",
       "      <td>6</td>\n",
       "      <td>-2</td>\n",
       "      <td>-4</td>\n",
       "      <td>-2</td>\n",
       "      <td>-4</td>\n",
       "      <td>-3</td>\n",
       "      <td>0</td>\n",
       "      <td>-2</td>\n",
       "      <td>-2</td>\n",
       "      <td>-2</td>\n",
       "      <td>0</td>\n",
       "      <td>-2</td>\n",
       "      <td>-3</td>\n",
       "      <td>-2</td>\n",
       "      <td>-3</td>\n",
       "    </tr>\n",
       "    <tr>\n",
       "      <th>H</th>\n",
       "      <td>-2</td>\n",
       "      <td>-3</td>\n",
       "      <td>-1</td>\n",
       "      <td>0</td>\n",
       "      <td>-1</td>\n",
       "      <td>-2</td>\n",
       "      <td>8</td>\n",
       "      <td>-3</td>\n",
       "      <td>-1</td>\n",
       "      <td>-3</td>\n",
       "      <td>-2</td>\n",
       "      <td>1</td>\n",
       "      <td>-2</td>\n",
       "      <td>0</td>\n",
       "      <td>0</td>\n",
       "      <td>-1</td>\n",
       "      <td>-2</td>\n",
       "      <td>-3</td>\n",
       "      <td>-2</td>\n",
       "      <td>2</td>\n",
       "    </tr>\n",
       "    <tr>\n",
       "      <th>I</th>\n",
       "      <td>-1</td>\n",
       "      <td>-1</td>\n",
       "      <td>-3</td>\n",
       "      <td>-3</td>\n",
       "      <td>0</td>\n",
       "      <td>-4</td>\n",
       "      <td>-3</td>\n",
       "      <td>4</td>\n",
       "      <td>-3</td>\n",
       "      <td>2</td>\n",
       "      <td>1</td>\n",
       "      <td>-3</td>\n",
       "      <td>-3</td>\n",
       "      <td>-3</td>\n",
       "      <td>-3</td>\n",
       "      <td>-2</td>\n",
       "      <td>-1</td>\n",
       "      <td>3</td>\n",
       "      <td>-3</td>\n",
       "      <td>-1</td>\n",
       "    </tr>\n",
       "    <tr>\n",
       "      <th>K</th>\n",
       "      <td>-1</td>\n",
       "      <td>-3</td>\n",
       "      <td>-1</td>\n",
       "      <td>1</td>\n",
       "      <td>-3</td>\n",
       "      <td>-2</td>\n",
       "      <td>-1</td>\n",
       "      <td>-3</td>\n",
       "      <td>5</td>\n",
       "      <td>-2</td>\n",
       "      <td>-1</td>\n",
       "      <td>0</td>\n",
       "      <td>-1</td>\n",
       "      <td>1</td>\n",
       "      <td>2</td>\n",
       "      <td>0</td>\n",
       "      <td>-1</td>\n",
       "      <td>-2</td>\n",
       "      <td>-3</td>\n",
       "      <td>-2</td>\n",
       "    </tr>\n",
       "    <tr>\n",
       "      <th>L</th>\n",
       "      <td>-1</td>\n",
       "      <td>-1</td>\n",
       "      <td>-4</td>\n",
       "      <td>-3</td>\n",
       "      <td>0</td>\n",
       "      <td>-4</td>\n",
       "      <td>-3</td>\n",
       "      <td>2</td>\n",
       "      <td>-2</td>\n",
       "      <td>4</td>\n",
       "      <td>2</td>\n",
       "      <td>-3</td>\n",
       "      <td>-3</td>\n",
       "      <td>-2</td>\n",
       "      <td>-2</td>\n",
       "      <td>-2</td>\n",
       "      <td>-1</td>\n",
       "      <td>1</td>\n",
       "      <td>-2</td>\n",
       "      <td>-1</td>\n",
       "    </tr>\n",
       "    <tr>\n",
       "      <th>M</th>\n",
       "      <td>-1</td>\n",
       "      <td>-1</td>\n",
       "      <td>-3</td>\n",
       "      <td>-2</td>\n",
       "      <td>0</td>\n",
       "      <td>-3</td>\n",
       "      <td>-2</td>\n",
       "      <td>1</td>\n",
       "      <td>-1</td>\n",
       "      <td>2</td>\n",
       "      <td>5</td>\n",
       "      <td>-2</td>\n",
       "      <td>-2</td>\n",
       "      <td>0</td>\n",
       "      <td>-1</td>\n",
       "      <td>-1</td>\n",
       "      <td>-1</td>\n",
       "      <td>1</td>\n",
       "      <td>-1</td>\n",
       "      <td>-1</td>\n",
       "    </tr>\n",
       "    <tr>\n",
       "      <th>N</th>\n",
       "      <td>-2</td>\n",
       "      <td>-3</td>\n",
       "      <td>1</td>\n",
       "      <td>0</td>\n",
       "      <td>-3</td>\n",
       "      <td>0</td>\n",
       "      <td>1</td>\n",
       "      <td>-3</td>\n",
       "      <td>0</td>\n",
       "      <td>-3</td>\n",
       "      <td>-2</td>\n",
       "      <td>6</td>\n",
       "      <td>-2</td>\n",
       "      <td>0</td>\n",
       "      <td>0</td>\n",
       "      <td>1</td>\n",
       "      <td>0</td>\n",
       "      <td>-3</td>\n",
       "      <td>-4</td>\n",
       "      <td>-2</td>\n",
       "    </tr>\n",
       "    <tr>\n",
       "      <th>P</th>\n",
       "      <td>-1</td>\n",
       "      <td>-3</td>\n",
       "      <td>-1</td>\n",
       "      <td>-1</td>\n",
       "      <td>-4</td>\n",
       "      <td>-2</td>\n",
       "      <td>-2</td>\n",
       "      <td>-3</td>\n",
       "      <td>-1</td>\n",
       "      <td>-3</td>\n",
       "      <td>-2</td>\n",
       "      <td>-2</td>\n",
       "      <td>7</td>\n",
       "      <td>-1</td>\n",
       "      <td>-2</td>\n",
       "      <td>-1</td>\n",
       "      <td>-1</td>\n",
       "      <td>-2</td>\n",
       "      <td>-4</td>\n",
       "      <td>-3</td>\n",
       "    </tr>\n",
       "    <tr>\n",
       "      <th>Q</th>\n",
       "      <td>-1</td>\n",
       "      <td>-3</td>\n",
       "      <td>0</td>\n",
       "      <td>2</td>\n",
       "      <td>-3</td>\n",
       "      <td>-2</td>\n",
       "      <td>0</td>\n",
       "      <td>-3</td>\n",
       "      <td>1</td>\n",
       "      <td>-2</td>\n",
       "      <td>0</td>\n",
       "      <td>0</td>\n",
       "      <td>-1</td>\n",
       "      <td>5</td>\n",
       "      <td>1</td>\n",
       "      <td>0</td>\n",
       "      <td>-1</td>\n",
       "      <td>-2</td>\n",
       "      <td>-2</td>\n",
       "      <td>-1</td>\n",
       "    </tr>\n",
       "    <tr>\n",
       "      <th>R</th>\n",
       "      <td>-1</td>\n",
       "      <td>-3</td>\n",
       "      <td>-2</td>\n",
       "      <td>0</td>\n",
       "      <td>-3</td>\n",
       "      <td>-2</td>\n",
       "      <td>0</td>\n",
       "      <td>-3</td>\n",
       "      <td>2</td>\n",
       "      <td>-2</td>\n",
       "      <td>-1</td>\n",
       "      <td>0</td>\n",
       "      <td>-2</td>\n",
       "      <td>1</td>\n",
       "      <td>5</td>\n",
       "      <td>-1</td>\n",
       "      <td>-1</td>\n",
       "      <td>-3</td>\n",
       "      <td>-3</td>\n",
       "      <td>-2</td>\n",
       "    </tr>\n",
       "    <tr>\n",
       "      <th>S</th>\n",
       "      <td>1</td>\n",
       "      <td>-1</td>\n",
       "      <td>0</td>\n",
       "      <td>0</td>\n",
       "      <td>-2</td>\n",
       "      <td>0</td>\n",
       "      <td>-1</td>\n",
       "      <td>-2</td>\n",
       "      <td>0</td>\n",
       "      <td>-2</td>\n",
       "      <td>-1</td>\n",
       "      <td>1</td>\n",
       "      <td>-1</td>\n",
       "      <td>0</td>\n",
       "      <td>-1</td>\n",
       "      <td>4</td>\n",
       "      <td>1</td>\n",
       "      <td>-2</td>\n",
       "      <td>-3</td>\n",
       "      <td>-2</td>\n",
       "    </tr>\n",
       "    <tr>\n",
       "      <th>T</th>\n",
       "      <td>0</td>\n",
       "      <td>-1</td>\n",
       "      <td>-1</td>\n",
       "      <td>-1</td>\n",
       "      <td>-2</td>\n",
       "      <td>-2</td>\n",
       "      <td>-2</td>\n",
       "      <td>-1</td>\n",
       "      <td>-1</td>\n",
       "      <td>-1</td>\n",
       "      <td>-1</td>\n",
       "      <td>0</td>\n",
       "      <td>-1</td>\n",
       "      <td>-1</td>\n",
       "      <td>-1</td>\n",
       "      <td>1</td>\n",
       "      <td>5</td>\n",
       "      <td>0</td>\n",
       "      <td>-2</td>\n",
       "      <td>-2</td>\n",
       "    </tr>\n",
       "    <tr>\n",
       "      <th>V</th>\n",
       "      <td>0</td>\n",
       "      <td>-1</td>\n",
       "      <td>-3</td>\n",
       "      <td>-2</td>\n",
       "      <td>-1</td>\n",
       "      <td>-3</td>\n",
       "      <td>-3</td>\n",
       "      <td>3</td>\n",
       "      <td>-2</td>\n",
       "      <td>1</td>\n",
       "      <td>1</td>\n",
       "      <td>-3</td>\n",
       "      <td>-2</td>\n",
       "      <td>-2</td>\n",
       "      <td>-3</td>\n",
       "      <td>-2</td>\n",
       "      <td>0</td>\n",
       "      <td>4</td>\n",
       "      <td>-3</td>\n",
       "      <td>-1</td>\n",
       "    </tr>\n",
       "    <tr>\n",
       "      <th>W</th>\n",
       "      <td>-3</td>\n",
       "      <td>-2</td>\n",
       "      <td>-4</td>\n",
       "      <td>-3</td>\n",
       "      <td>1</td>\n",
       "      <td>-2</td>\n",
       "      <td>-2</td>\n",
       "      <td>-3</td>\n",
       "      <td>-3</td>\n",
       "      <td>-2</td>\n",
       "      <td>-1</td>\n",
       "      <td>-4</td>\n",
       "      <td>-4</td>\n",
       "      <td>-2</td>\n",
       "      <td>-3</td>\n",
       "      <td>-3</td>\n",
       "      <td>-2</td>\n",
       "      <td>-3</td>\n",
       "      <td>11</td>\n",
       "      <td>2</td>\n",
       "    </tr>\n",
       "    <tr>\n",
       "      <th>Y</th>\n",
       "      <td>-2</td>\n",
       "      <td>-2</td>\n",
       "      <td>-3</td>\n",
       "      <td>-2</td>\n",
       "      <td>3</td>\n",
       "      <td>-3</td>\n",
       "      <td>2</td>\n",
       "      <td>-1</td>\n",
       "      <td>-2</td>\n",
       "      <td>-1</td>\n",
       "      <td>-1</td>\n",
       "      <td>-2</td>\n",
       "      <td>-3</td>\n",
       "      <td>-1</td>\n",
       "      <td>-2</td>\n",
       "      <td>-2</td>\n",
       "      <td>-2</td>\n",
       "      <td>-1</td>\n",
       "      <td>2</td>\n",
       "      <td>7</td>\n",
       "    </tr>\n",
       "  </tbody>\n",
       "</table>\n",
       "</div>"
      ],
      "text/plain": [
       "   A  C  D  E  F  G  H  I  K  L  M  N  P  Q  R  S  T  V   W  Y\n",
       "A  4  0 -2 -1 -2  0 -2 -1 -1 -1 -1 -2 -1 -1 -1  1  0  0  -3 -2\n",
       "C  0  9 -3 -4 -2 -3 -3 -1 -3 -1 -1 -3 -3 -3 -3 -1 -1 -1  -2 -2\n",
       "D -2 -3  6  2 -3 -1 -1 -3 -1 -4 -3  1 -1  0 -2  0 -1 -3  -4 -3\n",
       "E -1 -4  2  5 -3 -2  0 -3  1 -3 -2  0 -1  2  0  0 -1 -2  -3 -2\n",
       "F -2 -2 -3 -3  6 -3 -1  0 -3  0  0 -3 -4 -3 -3 -2 -2 -1   1  3\n",
       "G  0 -3 -1 -2 -3  6 -2 -4 -2 -4 -3  0 -2 -2 -2  0 -2 -3  -2 -3\n",
       "H -2 -3 -1  0 -1 -2  8 -3 -1 -3 -2  1 -2  0  0 -1 -2 -3  -2  2\n",
       "I -1 -1 -3 -3  0 -4 -3  4 -3  2  1 -3 -3 -3 -3 -2 -1  3  -3 -1\n",
       "K -1 -3 -1  1 -3 -2 -1 -3  5 -2 -1  0 -1  1  2  0 -1 -2  -3 -2\n",
       "L -1 -1 -4 -3  0 -4 -3  2 -2  4  2 -3 -3 -2 -2 -2 -1  1  -2 -1\n",
       "M -1 -1 -3 -2  0 -3 -2  1 -1  2  5 -2 -2  0 -1 -1 -1  1  -1 -1\n",
       "N -2 -3  1  0 -3  0  1 -3  0 -3 -2  6 -2  0  0  1  0 -3  -4 -2\n",
       "P -1 -3 -1 -1 -4 -2 -2 -3 -1 -3 -2 -2  7 -1 -2 -1 -1 -2  -4 -3\n",
       "Q -1 -3  0  2 -3 -2  0 -3  1 -2  0  0 -1  5  1  0 -1 -2  -2 -1\n",
       "R -1 -3 -2  0 -3 -2  0 -3  2 -2 -1  0 -2  1  5 -1 -1 -3  -3 -2\n",
       "S  1 -1  0  0 -2  0 -1 -2  0 -2 -1  1 -1  0 -1  4  1 -2  -3 -2\n",
       "T  0 -1 -1 -1 -2 -2 -2 -1 -1 -1 -1  0 -1 -1 -1  1  5  0  -2 -2\n",
       "V  0 -1 -3 -2 -1 -3 -3  3 -2  1  1 -3 -2 -2 -3 -2  0  4  -3 -1\n",
       "W -3 -2 -4 -3  1 -2 -2 -3 -3 -2 -1 -4 -4 -2 -3 -3 -2 -3  11  2\n",
       "Y -2 -2 -3 -2  3 -3  2 -1 -2 -1 -1 -2 -3 -1 -2 -2 -2 -1   2  7"
      ]
     },
     "execution_count": 208,
     "metadata": {
      "tags": []
     },
     "output_type": "execute_result"
    }
   ],
   "source": [
    "# Loading scoring matrix\n",
    "pd.options.display.max_columns = None\n",
    "scoring_matrix_blosum62 = pd.read_csv('D:/Data Science/Data/Comparing genes, proteins, genome/BLOSUM62.txt',\n",
    "                            sep = '\\s+')\n",
    "scoring_matrix_blosum62"
   ]
  },
  {
   "cell_type": "code",
   "execution_count": null,
   "metadata": {
    "colab": {},
    "colab_type": "code",
    "id": "yWPTUdWfLF7I"
   },
   "outputs": [],
   "source": [
    "\"\"\"Longest Common Subsequence (LCS) Backtracking with scoring matrix in the Alignment Graph\"\"\"\n",
    "def build_lcs_back_track_with_scoring_matrix(v, w, scoring_matrix, sigma):\n",
    "    back_track = np.array([[\"\" for j in range(len(w)+1)] for i in range(len(v)+1)])\n",
    "    s = np.zeros((len(v) + 1, len(w) + 1))\n",
    "    score = scoring_matrix.loc[list(v), list(w)] # Get scores of scoring matrix\n",
    "    # Get values of nodes that is in side edges of matrix s  \n",
    "    for i in range(1, len(v) + 1):\n",
    "        s[i, 0] = s[i-1, 0] - sigma\n",
    "    for j in range(1, len(w) + 1):\n",
    "        s[0, j] = s[0, j-1] - sigma\n",
    "        \n",
    "    for i in range(1, len(v) + 1):\n",
    "        for j in range(1, len(w) + 1):\n",
    "            # Recurrent algorithm for s\n",
    "            s[i, j] = max(s[i-1, j] - sigma, \n",
    "                          s[i, j-1] - sigma, \n",
    "                          s[i-1, j-1] + score.iloc[i-1, j-1])\n",
    "            # Build back_track matrix\n",
    "            if s[i, j] == s[i, j-1] - sigma:\n",
    "                back_track[i, j] = \"r\"\n",
    "            elif s[i, j] == s[i-1, j] - sigma:\n",
    "                back_track[i, j] = \"d\"\n",
    "            elif s[i, j] == s[i-1, j-1] + score.iloc[i-1, j-1]:\n",
    "                back_track[i, j] = \"m\"\n",
    "                \n",
    "    print('Score: ', s[len(v), len(w)])\n",
    "    return(back_track)"
   ]
  },
  {
   "cell_type": "code",
   "execution_count": null,
   "metadata": {
    "colab": {},
    "colab_type": "code",
    "id": "NdBL9v9HLF7K"
   },
   "outputs": [],
   "source": [
    "\"\"\"Find a path from the source to the sink\"\"\"\n",
    "def output_global_alignment(back_track, v, w, i, j):\n",
    "    lcs = []\n",
    "    if i == 0 or j == 0:\n",
    "        return (\"\")\n",
    "    # Output v, w after alignment. \n",
    "    v_ali = [] # v after alignment.\n",
    "    w_ali = [] # w after alignment.\n",
    "    \n",
    "    while i > 0 or j > 0:\n",
    "        if back_track[i, j] == \"m\": # Backtrack at match.\n",
    "            v_ali.append(v[i-1])\n",
    "            w_ali.append(w[j-1])\n",
    "            if v[i-1] == w[j-1]:\n",
    "                lcs.append(v[i-1])\n",
    "            i = i - 1\n",
    "            j = j - 1\n",
    "        elif back_track[i, j] == \"d\": # Backtrack at deletion.\n",
    "            v_ali.append(v[i-1])\n",
    "            w_ali.append('-')\n",
    "            i = i - 1\n",
    "        elif back_track[i, j] == \"r\": # Backtrack at insertion.\n",
    "            v_ali.append('-')\n",
    "            w_ali.append(w[j-1])\n",
    "            j = j - 1\n",
    "        \n",
    "    return(\"\".join(reversed(lcs)), \"\".join(reversed(v_ali)), \"\".join(reversed(w_ali)))"
   ]
  },
  {
   "cell_type": "code",
   "execution_count": null,
   "metadata": {
    "colab": {},
    "colab_type": "code",
    "id": "lZNSumDyLF7M"
   },
   "outputs": [],
   "source": [
    "v=\"NVSSAHFHTAQNKSSDTMVCPAWSNWWAIGHWYRVSTPLYSCHFWAYRNMAEYTKYQKFGSYHTLTMCIYSMMISNVFFQRTYMMGDDGEYNPKMRTWTYMKTVQVHETMKGNAFMEKMFRYWPNGMTTDVWANMASFNEHVMEFKNLRFITYKPEQKFEESDHSRHDPVNVRHWIMHICYFVKMHTYRQLNYKGAKGRLFWQPQRMANKISHNRNNYAAYNYGQASDNTNMLNWWDAIFIQELCVPCFPYSLDVVQALGRCKYGGGKEVCHYHNNVWAVQSLWMVFKKRVHRLIHNLMCCRWNPCKVHMNMRNRIYEWMCGPNQAKICAKYWMPHRSACYAGQWTQKVYQAWYVISLANVMVPLFPVMLNRTYAPFQDLWHEVMYHGIQWWANCITVMFSMIVGRVQEKERTQILEKNCGVTSMWFWEQHCLHVFVGVFLNGAGIVYHYRCTELTRSSSGSKTWDHQPSHWVEAECNVWQAQFIEGAHFCMRACSYDQIVMIHLLTGWDHHTFDTKHERHDLLSLRWQFFAITHPTQFAHKFREWVIFKKLIFPSYPIHQQTNNYEEMTCHSRCDSSDYMYGPPLITSEICYMTPGKHGIFHVMWKTTGTCSAFFECNPSCRCYPNDRPAKIGDGTCFCYQGYMRRDCREYLFRKDDKFDILQECYIYPHVEWAEVFWPMHVEFSDLLVGQGNCEKNCSARMQAGYADMWFLSPNKMKSMSCIMFNVTTGKRGWSHMIGYVVCYIYSTIPCYDKIDKEVEAMHIEYSQIRGKIERSHMYCEIVNTPAFFWMPPLPETF\"\n",
    "w=\"NVSSSHFHTPKLHMDDQNQRYVCDDMVCPPWSNWWAIGLWYSVSTPLPGMKSEESCHFWAYRNMAEYTKYQKFGSGSNPHTLTMCIYSYGISNVFFQRTYMMGDDGCFFFLYYNPKMRTWTYMKTVQVHETMKENANIQEVNAFNEKMFRYWPHNMAPKFARSDHSRHDPICYFVKMHTYRQGVLFWQPEVSDVHEITRMANKPKPANRNNSGRANLNTNMLNLCVPCFPQALGRCKYADMGVKAFDSQWCHYHARGLANVWEVQSEWMGCAKHDIKKRVHRLIHNLMCCYWNPCKVHMNMRNRIGPNQAKICAKYWMPHRQKSHTAAGDWTQKVYQRQPMCGWGVISLFTWGRWVMDQWFPVTENFWGEQMCHGIQWWANCITVRNSHTQPFSMCVGRVQEKERTQILEKNCEQDCEMSVDMYWTIICLHVFVGVSLNGAGIVYHYRCTELTRSSSGSKTWDHQPSIWVEAECNVWQIQFIEGAHTKVWNPDCMRACSYPMSGNPDHLLTGWDHHTFDTKHERHDLLELRWNFLHTYASAITHPVFQFAHKFIFPSYPIHYQTNNYEEKDAPTACPYGPPLVIPGITSLICYMTPGKHGIFHVMWKTTGTCSAFFESFRCYPNDRPAKIGDGTCFVTDMDRDCRAMSTSWFYLFRKDTLKFDIKQECYIYPHVEWAEVFWPMHVGQMNCEDMWFKMKSMPYNIIIYGIMFNVFITCGSDHMPGYVCYKYSTIPCIDKIDREVESAERSHTTLDVNNAECLKGAAVDKYGGETF\""
   ]
  },
  {
   "cell_type": "code",
   "execution_count": null,
   "metadata": {
    "colab": {},
    "colab_type": "code",
    "id": "8jAfaWRALF7O",
    "outputId": "891a914f-cc11-4edb-ac9c-1d9403069f0c"
   },
   "outputs": [
    {
     "name": "stdout",
     "output_type": "stream",
     "text": [
      "Score:  1973.0\n"
     ]
    },
    {
     "data": {
      "text/plain": [
       "(800, 775)"
      ]
     },
     "execution_count": 293,
     "metadata": {
      "tags": []
     },
     "output_type": "execute_result"
    }
   ],
   "source": [
    "back_track = build_lcs_back_track_with_scoring_matrix(v, w, scoring_matrix_blosum62, 5)\n",
    "back_track.shape"
   ]
  },
  {
   "cell_type": "code",
   "execution_count": null,
   "metadata": {
    "colab": {},
    "colab_type": "code",
    "id": "toSywhAnLF7Q",
    "outputId": "c8908bfa-567f-4f8e-d911-549b01ac09bd"
   },
   "outputs": [
    {
     "name": "stdout",
     "output_type": "stream",
     "text": [
      "LCS, v alignment và w alignment tương ứng như sau:\n"
     ]
    },
    {
     "data": {
      "text/plain": [
       "('NVSSHFHTQNDMVCPWSNWWAIGWYVSTPLSCHFWAYRNMAEYTKYQKFGSHTLTMCIYSISNVFFQRTYMMGDDGYNPKMRTWTYMKTVQVHETMKNANVNAFNEMFRKFSDHSRHDPICYFVKMHTYRQGLFWQPINNSNLNLCVPCFPQALGRCKYGKCHYHNVWVQSWMKKRVHRLIHNLMCCWNPCKVHMNMRNRIGPNQAKICAKYWMPHRAGWTQKVYQWVISLVMPWEMHGIQWWANCITVFSMVGRVQEKERTQILEKNCSWCLHVFVGVLNGAGIVYHYRCTELTRSSSGSKTWDHQPSWVEAECNVWQQFIEGAHCMRACSYHLLTGWDHHTFDTKHERHDLLLRWFTHFKIFPSYPIHQTNNYEECPITSICYMTPGKHGIFHVMWKTTGTCSAFFESRCYPNDRPAKIGDGTCFMRDCRYLFRKDKFDIQECYIYPHVEWAEVFWPMHVGQNCEMMNIMFNVGHMGYVCYYSTIPCDKIDEVEESCAETF',\n",
       " 'NVSSAHFHTA------QNKS--SDTMVCPAWSNWWAIGHWYRVSTPL--Y-S---CHFWAYRNMAEYTKYQKFGS-Y--HTLTMCIYSMMISNVFFQRTYMMGDDG-----EYNPKMRTWTYMKTVQVHETMKGNAFMEKMFRYWPNGMTTDVWANMASFNEHVMEFKNLRFITYKPEQKFEESDHSRHDPVNVRHWIMHICYFVKMHTYRQLNYKGAKGRLFWQPQRM-ANKISHNRNNYAAYNYGQASDNTNMLNWWDAIFIQELCVPCFPYSLDVVQALGRCKYGG-G-K--EV--CHYH-N---NVWAVQSLWM--V---FKKRVHRLIHNLMCCRWNPCKVHMNMRNRIYEWMCGPNQAKICAKYWMPHRSACY-A-GQWTQKVYQ----A-WYVISLANVMVPLFPVMLNRTYAPF-QDLWHEVMYHGIQWWANCITV-----M-FSMIVGRVQEKERTQILEKNC--GVT-SM-WFWEQHCLHVFVGVFLNGAGIVYHYRCTELTRSSSGSKTWDHQPSHWVEAECNVWQAQFIEGAH---F---CMRACSYDQIVMI-HLLTGWDHHTFDTKHERHDLLSLRWQFFAITHPTQFAHK-FREWVIFKKLIFPSYPIHQQTNNYEEMTCHSRCDSSDYMYGPPLITSEICYMTPGKHGIFHVMWKTTGTCSAFFECNPSCRCYPNDRPAKIGDGTCFCYQGYMRRDCR--E----YLFRKDD-KFDILQECYIYPHVEWAEVFWPMHVEFSDLLVGQGNCEKNCSARMQAGYADMWFLSPNKMKSMSCIMFNVTTGKRGWSHMIGYVVCYIYSTIPCYDKIDKEVEAMHIEYSQIRGKIERSHMYCEIVNTPAFFWMPPLPETF',\n",
       " 'NVSSSHFHTPKLHMDDQNQRYVCDDMVCPPWSNWWAIGLWYSVSTPLPGMKSEESCHFWAYRNMAEYTKYQKFGSGSNPHTLTMCIYSYGISNVFFQRTYMMGDDGCFFFLYYNPKMRTWTYMKTVQVHETMKENA----------N-IQ-EV--N-A-FNEK-M-F---RYWPHNMAPKFARSDHSRHDP------I---CYFVKMHTYRQ----GV---LFWQPEVSDVHEITRMANKPKPANRNN-SGRAN-LNT-N-M-LN-LCVPCFP------QALGRCKYADMGVKAFDSQWCHYHARGLANVWEVQSEWMGCAKHDIKKRVHRLIHNLMCCYWNPCKVHMNMRNRI-----GPNQAKICAKYWMPHRQKSHTAAGDWTQKVYQRQPMCGWGVISLFT-W-GRW-VM-DQWF-PVTENFWGEQMCHGIQWWANCITVRNSHTQPFSMCVGRVQEKERTQILEKNCEQDCEMSVDMYWTIICLHVFVGVSLNGAGIVYHYRCTELTRSSSGSKTWDHQPSIWVEAECNVWQIQFIEGAHTKVWNPDCMRACSYPMSGNPDHLLTGWDHHTFDTKHERHDLLELRWNFLH-TYASAITHPVF-QFA-HK-FIFPSYPIHYQTNNYEEKDAPTACPYGPPLVIPG-ITSLICYMTPGKHGIFHVMWKTTGTCSAFFE---SFRCYPNDRPAKIGDGTCFVTD--MDRDCRAMSTSWFYLFRKDTLKFDIKQECYIYPHVEWAEVFWPMHV-------GQMNCE-DMWFKMKS----MPY---NII-IYG-IMFNVFI-TCGSDHMPGYV-CYKYSTIPCIDKIDREVESA--ERSHTT--LDVNNAEC-LKGA-AVDKYGG--ETF')"
      ]
     },
     "execution_count": 294,
     "metadata": {
      "tags": []
     },
     "output_type": "execute_result"
    }
   ],
   "source": [
    "print(\"LCS, v alignment và w alignment tương ứng như sau:\")\n",
    "output_global_alignment(back_track, v, w, len(v), len(w))"
   ]
  },
  {
   "cell_type": "markdown",
   "metadata": {
    "colab_type": "text",
    "id": "eHPmJx-hLF7S"
   },
   "source": [
    "### 4 From Global to Local Alignment<a name=\"global-local\"></a>"
   ]
  },
  {
   "cell_type": "markdown",
   "metadata": {
    "colab_type": "text",
    "id": "9vQq-aHnLF7S"
   },
   "source": [
    "#### 4.1 Limitations of global alignment<a name=\"limit-global\"></a>"
   ]
  },
  {
   "cell_type": "markdown",
   "metadata": {
    "colab_type": "text",
    "id": "eHFYHJoLLF7S"
   },
   "source": [
    "Phân tích các <b>gen homeobox</b> cho ta một ví dụ mà global alignment không cho thấy sự tương đồng về mặt sinh học. Những gen này điều chỉnh sự phát triển phôi (embryonic) và có mặt trong một loạt các loài, từ ruồi đến người. Các gen Homeobox dài và chúng khác nhau rất nhiều giữa các loài, nhưng một vùng dài khoảng 60 axit amin trong mỗi gen, được gọi là <b>homeodomain</b>, được bảo tồn rất cao. Ví dụ, xem xét homeodomain của chuột và của người dưới đây."
   ]
  },
  {
   "cell_type": "markdown",
   "metadata": {
    "colab_type": "text",
    "id": "9YM7cJo_LF7T"
   },
   "source": [
    "<a><img src=\"https://imgur.com/X432ZTs.jpg\" width=\"600\" align=\"center\"> "
   ]
  },
  {
   "cell_type": "markdown",
   "metadata": {
    "colab_type": "text",
    "id": "-8RJ10VYLF7T"
   },
   "source": [
    "Câu hỏi ngay lập tức là làm thế nào để tìm được đoạn bảo tồn này trong các gen dài hơn và bỏ qua các vùng ở sườn (flanking areas) mà biểu hiện rất ít sự tương đồng. Global alignment tìm kiếm sự tương đồng giữa hai chuỗi trên toàn bộ chiều dài của chúng; tuy nhiên, khi tìm kiếm các homeodomains, chúng ta đang tìm kiếm các vùng tương tự nhỏ hơn, cục bộ và không cần phải dóng hàng trên toàn bộ chuỗi. Ví dụ: global alignment giữa hai chuỗi bên dưới có 22 match, 18 indel và 2 mismatch, dẫn đến score là 22 - 18 - 2 = 2 (nếu σ = μ = 1)."
   ]
  },
  {
   "cell_type": "markdown",
   "metadata": {
    "colab_type": "text",
    "id": "LRjoNhh5LF7T"
   },
   "source": [
    "<a><img src=\"https://imgur.com/rSYty2j.jpg\" width=\"600\" align=\"center\"> "
   ]
  },
  {
   "cell_type": "markdown",
   "metadata": {
    "colab_type": "text",
    "id": "uHutwm31LF7U"
   },
   "source": [
    "Tuy nhiên, các chuỗi này có thể được căn chỉnh khác nhau (với 17 match và 32 indel) chứa khoảng được bảo tồn cao được biểu thị bằng các chuỗi con CAGTCTATGTCAG và CAGTTATGTTCAG:"
   ]
  },
  {
   "cell_type": "markdown",
   "metadata": {
    "colab_type": "text",
    "id": "5tet4-WKLF7U"
   },
   "source": [
    "<a><img src=\"https://imgur.com/11WKzoL.jpg\" width=\"600\" align=\"center\"> "
   ]
  },
  {
   "cell_type": "markdown",
   "metadata": {
    "colab_type": "text",
    "id": "TzsYwp6GLF7U"
   },
   "source": [
    "Dóng hàng này có ít match hơn và score thấp hơn 17 - 32 = −15, mặc dù vậy khu vực được bảo tồn của alignment lại có score 12 - 2 = 10."
   ]
  },
  {
   "cell_type": "markdown",
   "metadata": {
    "colab_type": "text",
    "id": "9Yx_2iP1LF7U"
   },
   "source": [
    "Hình dưới đây cho thấy hai đường tương ứng với hai cách sắp xếp khác nhau này. Đường phía trên tương ứng với alignment thứ hai ở trên, đường này dãn hơn vì nó chứa nhiều indel bị phạt ở hai bên của đường chéo tương ứng với khoảng bảo tồn (the conserved interval). Đường global alignment bên dưới đưa ra một đường liên quan về mặt sinh học thấp hơn local alignment."
   ]
  },
  {
   "cell_type": "markdown",
   "metadata": {
    "colab_type": "text",
    "id": "OPDfe0EILF7V"
   },
   "source": [
    "<a><img src=\"https://imgur.com/TgUVJwS.jpg\" width=\"600\" align=\"center\"> "
   ]
  },
  {
   "cell_type": "markdown",
   "metadata": {
    "colab_type": "text",
    "id": "6CqgyTTyLF7V"
   },
   "source": [
    "#### 4.2 Free taxi rides in the alignment graph<a name=\"free-taxi\"></a>"
   ]
  },
  {
   "cell_type": "markdown",
   "metadata": {
    "colab_type": "text",
    "id": "wBn_2ycRLF7W"
   },
   "source": [
    "Để có cách tiếp cận nhanh hơn, hãy tưởng tượng một chiếc taxi miễn phí đi từ source (0, 0) đến nút đại diện cho nút bắt đầu của khoảng được bảo tồn (màu đỏ) trong hình bên dưới. Hãy tưởng tượng một chuyến đi taxi miễn phí từ nút cuối của khoảng được bảo tồn đến sink. Nếu có thể đi như vậy thì ta có thể đến nút bắt đầu của khoảng được bảo tồn miễn phí, thay vì phải chịu phạt như trong global alignment. Sau đó, ta có thể di chuyển dọc theo khoảng được bảo tồn đến nút cuối của nó, tích lũy nhiều score match trong khi gặp phải một số mismatch và indel. Cuối cùng, ta có thể đi một chuyến xe miễn phí khác từ nút cuối của khoảng được bảo tồn đến sink. Score của chuyến đi này bằng với alignment score của chỉ các khoảng được bảo tồn như mong muốn."
   ]
  },
  {
   "cell_type": "markdown",
   "metadata": {
    "colab_type": "text",
    "id": "ENrlWw4oLF7W"
   },
   "source": [
    "<a><img src=\"https://imgur.com/QZX3BLU.jpg\" width=\"600\" align=\"center\"> "
   ]
  },
  {
   "cell_type": "markdown",
   "metadata": {
    "colab_type": "text",
    "id": "PoOJ0N8bLF7W"
   },
   "source": [
    "Kết nối source (0, 0) với mọi nút khác bằng cách thêm cạnh có trọng số 0 và kết nối mọi nút với phần sink (n, m) bằng cạnh có trọng số bằng 0 sẽ dẫn đến một DAG hoàn toàn phù hợp để giải quyết bài toán local alignment. Do đi taxi miễn phí, chúng ta không còn cần phải xây dựng một con đường dài nhất giữa mỗi cặp nút trong biểu đồ - con đường dài nhất từ source đến sink mang lại một local alignmnet tối ưu."
   ]
  },
  {
   "cell_type": "markdown",
   "metadata": {
    "colab_type": "text",
    "id": "watomj-jLF7X"
   },
   "source": [
    "<a><img src=\"https://imgur.com/TFiWivu.jpg\" width=\"400\" align=\"center\"> "
   ]
  },
  {
   "cell_type": "markdown",
   "metadata": {
    "colab_type": "text",
    "id": "qJVx4nJGLF7X"
   },
   "source": [
    "Tổng số cạnh trong đồ thị trên là $\\mathcal{O}$ (| v |·| w |) vẫn nhỏ. Do thời gian chạy tìm đường dài nhất trong DAG được xác định bởi số cạnh trong biểu đồ, dẫn đến thuật toán local alignmnet sẽ chạy nhanh. Đối với việc tính toán các giá trị $s_{i, j}$, việc thêm các cạnh có trọng số 0 từ source (0, 0) vào mọi nút làm cho source (0, 0) trở thành nút trước của mọi nút (i, j). Do đó, có bốn cạnh đi vào nút (i, j), chỉ cần thêm một điều kiện mới vào mối quan hệ đệ quy của đường dài nhất:"
   ]
  },
  {
   "cell_type": "markdown",
   "metadata": {
    "colab_type": "text",
    "id": "DeaKzJzkLF7X"
   },
   "source": [
    "<a><img src=\"https://imgur.com/YmnEIvO.jpg\" width=\"330\" align=\"center\"> "
   ]
  },
  {
   "cell_type": "markdown",
   "metadata": {
    "colab_type": "text",
    "id": "gi6oMhS2LF7X"
   },
   "source": [
    "Thuật toán đệ quy ở trên gồm có các chuyến đi miễn phí từ source = (0, 0), nhưng nó không chứa các chuyến đi miễn phí vào sink = (n, m). Vì sink nhận mọi nút khác như nút trước của nó nên $s_{n, m}$ sẽ bằng giá trị lớn nhất của $s_{i, j}$ trên toàn bộ đồ thị dóng hàng.$$s_{n, m}=max_{\\, 0\\leq i \\leq n, \\, 0\\leq j \\leq m}\\, s_{i, j}$$"
   ]
  },
  {
   "cell_type": "code",
   "execution_count": null,
   "metadata": {
    "colab": {},
    "colab_type": "code",
    "id": "Ry-qt1DxLF7Z",
    "outputId": "6a9dd21e-e28e-46d8-83d5-8680988fc567"
   },
   "outputs": [
    {
     "data": {
      "text/html": [
       "<div>\n",
       "<style scoped>\n",
       "    .dataframe tbody tr th:only-of-type {\n",
       "        vertical-align: middle;\n",
       "    }\n",
       "\n",
       "    .dataframe tbody tr th {\n",
       "        vertical-align: top;\n",
       "    }\n",
       "\n",
       "    .dataframe thead th {\n",
       "        text-align: right;\n",
       "    }\n",
       "</style>\n",
       "<table border=\"1\" class=\"dataframe\">\n",
       "  <thead>\n",
       "    <tr style=\"text-align: right;\">\n",
       "      <th></th>\n",
       "      <th>A</th>\n",
       "      <th>C</th>\n",
       "      <th>D</th>\n",
       "      <th>E</th>\n",
       "      <th>F</th>\n",
       "      <th>G</th>\n",
       "      <th>H</th>\n",
       "      <th>I</th>\n",
       "      <th>K</th>\n",
       "      <th>L</th>\n",
       "      <th>M</th>\n",
       "      <th>N</th>\n",
       "      <th>P</th>\n",
       "      <th>Q</th>\n",
       "      <th>R</th>\n",
       "      <th>S</th>\n",
       "      <th>T</th>\n",
       "      <th>V</th>\n",
       "      <th>W</th>\n",
       "      <th>Y</th>\n",
       "    </tr>\n",
       "  </thead>\n",
       "  <tbody>\n",
       "    <tr>\n",
       "      <th>A</th>\n",
       "      <td>2</td>\n",
       "      <td>-2</td>\n",
       "      <td>0</td>\n",
       "      <td>0</td>\n",
       "      <td>-3</td>\n",
       "      <td>1</td>\n",
       "      <td>-1</td>\n",
       "      <td>-1</td>\n",
       "      <td>-1</td>\n",
       "      <td>-2</td>\n",
       "      <td>-1</td>\n",
       "      <td>0</td>\n",
       "      <td>1</td>\n",
       "      <td>0</td>\n",
       "      <td>-2</td>\n",
       "      <td>1</td>\n",
       "      <td>1</td>\n",
       "      <td>0</td>\n",
       "      <td>-6</td>\n",
       "      <td>-3</td>\n",
       "    </tr>\n",
       "    <tr>\n",
       "      <th>C</th>\n",
       "      <td>-2</td>\n",
       "      <td>12</td>\n",
       "      <td>-5</td>\n",
       "      <td>-5</td>\n",
       "      <td>-4</td>\n",
       "      <td>-3</td>\n",
       "      <td>-3</td>\n",
       "      <td>-2</td>\n",
       "      <td>-5</td>\n",
       "      <td>-6</td>\n",
       "      <td>-5</td>\n",
       "      <td>-4</td>\n",
       "      <td>-3</td>\n",
       "      <td>-5</td>\n",
       "      <td>-4</td>\n",
       "      <td>0</td>\n",
       "      <td>-2</td>\n",
       "      <td>-2</td>\n",
       "      <td>-8</td>\n",
       "      <td>0</td>\n",
       "    </tr>\n",
       "    <tr>\n",
       "      <th>D</th>\n",
       "      <td>0</td>\n",
       "      <td>-5</td>\n",
       "      <td>4</td>\n",
       "      <td>3</td>\n",
       "      <td>-6</td>\n",
       "      <td>1</td>\n",
       "      <td>1</td>\n",
       "      <td>-2</td>\n",
       "      <td>0</td>\n",
       "      <td>-4</td>\n",
       "      <td>-3</td>\n",
       "      <td>2</td>\n",
       "      <td>-1</td>\n",
       "      <td>2</td>\n",
       "      <td>-1</td>\n",
       "      <td>0</td>\n",
       "      <td>0</td>\n",
       "      <td>-2</td>\n",
       "      <td>-7</td>\n",
       "      <td>-4</td>\n",
       "    </tr>\n",
       "    <tr>\n",
       "      <th>E</th>\n",
       "      <td>0</td>\n",
       "      <td>-5</td>\n",
       "      <td>3</td>\n",
       "      <td>4</td>\n",
       "      <td>-5</td>\n",
       "      <td>0</td>\n",
       "      <td>1</td>\n",
       "      <td>-2</td>\n",
       "      <td>0</td>\n",
       "      <td>-3</td>\n",
       "      <td>-2</td>\n",
       "      <td>1</td>\n",
       "      <td>-1</td>\n",
       "      <td>2</td>\n",
       "      <td>-1</td>\n",
       "      <td>0</td>\n",
       "      <td>0</td>\n",
       "      <td>-2</td>\n",
       "      <td>-7</td>\n",
       "      <td>-4</td>\n",
       "    </tr>\n",
       "    <tr>\n",
       "      <th>F</th>\n",
       "      <td>-3</td>\n",
       "      <td>-4</td>\n",
       "      <td>-6</td>\n",
       "      <td>-5</td>\n",
       "      <td>9</td>\n",
       "      <td>-5</td>\n",
       "      <td>-2</td>\n",
       "      <td>1</td>\n",
       "      <td>-5</td>\n",
       "      <td>2</td>\n",
       "      <td>0</td>\n",
       "      <td>-3</td>\n",
       "      <td>-5</td>\n",
       "      <td>-5</td>\n",
       "      <td>-4</td>\n",
       "      <td>-3</td>\n",
       "      <td>-3</td>\n",
       "      <td>-1</td>\n",
       "      <td>0</td>\n",
       "      <td>7</td>\n",
       "    </tr>\n",
       "    <tr>\n",
       "      <th>G</th>\n",
       "      <td>1</td>\n",
       "      <td>-3</td>\n",
       "      <td>1</td>\n",
       "      <td>0</td>\n",
       "      <td>-5</td>\n",
       "      <td>5</td>\n",
       "      <td>-2</td>\n",
       "      <td>-3</td>\n",
       "      <td>-2</td>\n",
       "      <td>-4</td>\n",
       "      <td>-3</td>\n",
       "      <td>0</td>\n",
       "      <td>0</td>\n",
       "      <td>-1</td>\n",
       "      <td>-3</td>\n",
       "      <td>1</td>\n",
       "      <td>0</td>\n",
       "      <td>-1</td>\n",
       "      <td>-7</td>\n",
       "      <td>-5</td>\n",
       "    </tr>\n",
       "    <tr>\n",
       "      <th>H</th>\n",
       "      <td>-1</td>\n",
       "      <td>-3</td>\n",
       "      <td>1</td>\n",
       "      <td>1</td>\n",
       "      <td>-2</td>\n",
       "      <td>-2</td>\n",
       "      <td>6</td>\n",
       "      <td>-2</td>\n",
       "      <td>0</td>\n",
       "      <td>-2</td>\n",
       "      <td>-2</td>\n",
       "      <td>2</td>\n",
       "      <td>0</td>\n",
       "      <td>3</td>\n",
       "      <td>2</td>\n",
       "      <td>-1</td>\n",
       "      <td>-1</td>\n",
       "      <td>-2</td>\n",
       "      <td>-3</td>\n",
       "      <td>0</td>\n",
       "    </tr>\n",
       "    <tr>\n",
       "      <th>I</th>\n",
       "      <td>-1</td>\n",
       "      <td>-2</td>\n",
       "      <td>-2</td>\n",
       "      <td>-2</td>\n",
       "      <td>1</td>\n",
       "      <td>-3</td>\n",
       "      <td>-2</td>\n",
       "      <td>5</td>\n",
       "      <td>-2</td>\n",
       "      <td>2</td>\n",
       "      <td>2</td>\n",
       "      <td>-2</td>\n",
       "      <td>-2</td>\n",
       "      <td>-2</td>\n",
       "      <td>-2</td>\n",
       "      <td>-1</td>\n",
       "      <td>0</td>\n",
       "      <td>4</td>\n",
       "      <td>-5</td>\n",
       "      <td>-1</td>\n",
       "    </tr>\n",
       "    <tr>\n",
       "      <th>K</th>\n",
       "      <td>-1</td>\n",
       "      <td>-5</td>\n",
       "      <td>0</td>\n",
       "      <td>0</td>\n",
       "      <td>-5</td>\n",
       "      <td>-2</td>\n",
       "      <td>0</td>\n",
       "      <td>-2</td>\n",
       "      <td>5</td>\n",
       "      <td>-3</td>\n",
       "      <td>0</td>\n",
       "      <td>1</td>\n",
       "      <td>-1</td>\n",
       "      <td>1</td>\n",
       "      <td>3</td>\n",
       "      <td>0</td>\n",
       "      <td>0</td>\n",
       "      <td>-2</td>\n",
       "      <td>-3</td>\n",
       "      <td>-4</td>\n",
       "    </tr>\n",
       "    <tr>\n",
       "      <th>L</th>\n",
       "      <td>-2</td>\n",
       "      <td>-6</td>\n",
       "      <td>-4</td>\n",
       "      <td>-3</td>\n",
       "      <td>2</td>\n",
       "      <td>-4</td>\n",
       "      <td>-2</td>\n",
       "      <td>2</td>\n",
       "      <td>-3</td>\n",
       "      <td>6</td>\n",
       "      <td>4</td>\n",
       "      <td>-3</td>\n",
       "      <td>-3</td>\n",
       "      <td>-2</td>\n",
       "      <td>-3</td>\n",
       "      <td>-3</td>\n",
       "      <td>-2</td>\n",
       "      <td>2</td>\n",
       "      <td>-2</td>\n",
       "      <td>-1</td>\n",
       "    </tr>\n",
       "    <tr>\n",
       "      <th>M</th>\n",
       "      <td>-1</td>\n",
       "      <td>-5</td>\n",
       "      <td>-3</td>\n",
       "      <td>-2</td>\n",
       "      <td>0</td>\n",
       "      <td>-3</td>\n",
       "      <td>-2</td>\n",
       "      <td>2</td>\n",
       "      <td>0</td>\n",
       "      <td>4</td>\n",
       "      <td>6</td>\n",
       "      <td>-2</td>\n",
       "      <td>-2</td>\n",
       "      <td>-1</td>\n",
       "      <td>0</td>\n",
       "      <td>-2</td>\n",
       "      <td>-1</td>\n",
       "      <td>2</td>\n",
       "      <td>-4</td>\n",
       "      <td>-2</td>\n",
       "    </tr>\n",
       "    <tr>\n",
       "      <th>N</th>\n",
       "      <td>0</td>\n",
       "      <td>-4</td>\n",
       "      <td>2</td>\n",
       "      <td>1</td>\n",
       "      <td>-3</td>\n",
       "      <td>0</td>\n",
       "      <td>2</td>\n",
       "      <td>-2</td>\n",
       "      <td>1</td>\n",
       "      <td>-3</td>\n",
       "      <td>-2</td>\n",
       "      <td>2</td>\n",
       "      <td>0</td>\n",
       "      <td>1</td>\n",
       "      <td>0</td>\n",
       "      <td>1</td>\n",
       "      <td>0</td>\n",
       "      <td>-2</td>\n",
       "      <td>-4</td>\n",
       "      <td>-2</td>\n",
       "    </tr>\n",
       "    <tr>\n",
       "      <th>P</th>\n",
       "      <td>1</td>\n",
       "      <td>-3</td>\n",
       "      <td>-1</td>\n",
       "      <td>-1</td>\n",
       "      <td>-5</td>\n",
       "      <td>0</td>\n",
       "      <td>0</td>\n",
       "      <td>-2</td>\n",
       "      <td>-1</td>\n",
       "      <td>-3</td>\n",
       "      <td>-2</td>\n",
       "      <td>0</td>\n",
       "      <td>6</td>\n",
       "      <td>0</td>\n",
       "      <td>0</td>\n",
       "      <td>1</td>\n",
       "      <td>0</td>\n",
       "      <td>-1</td>\n",
       "      <td>-6</td>\n",
       "      <td>-5</td>\n",
       "    </tr>\n",
       "    <tr>\n",
       "      <th>Q</th>\n",
       "      <td>0</td>\n",
       "      <td>-5</td>\n",
       "      <td>2</td>\n",
       "      <td>2</td>\n",
       "      <td>-5</td>\n",
       "      <td>-1</td>\n",
       "      <td>3</td>\n",
       "      <td>-2</td>\n",
       "      <td>1</td>\n",
       "      <td>-2</td>\n",
       "      <td>-1</td>\n",
       "      <td>1</td>\n",
       "      <td>0</td>\n",
       "      <td>4</td>\n",
       "      <td>1</td>\n",
       "      <td>-1</td>\n",
       "      <td>-1</td>\n",
       "      <td>-2</td>\n",
       "      <td>-5</td>\n",
       "      <td>-4</td>\n",
       "    </tr>\n",
       "    <tr>\n",
       "      <th>R</th>\n",
       "      <td>-2</td>\n",
       "      <td>-4</td>\n",
       "      <td>-1</td>\n",
       "      <td>-1</td>\n",
       "      <td>-4</td>\n",
       "      <td>-3</td>\n",
       "      <td>2</td>\n",
       "      <td>-2</td>\n",
       "      <td>3</td>\n",
       "      <td>-3</td>\n",
       "      <td>0</td>\n",
       "      <td>0</td>\n",
       "      <td>0</td>\n",
       "      <td>1</td>\n",
       "      <td>6</td>\n",
       "      <td>0</td>\n",
       "      <td>-1</td>\n",
       "      <td>-2</td>\n",
       "      <td>2</td>\n",
       "      <td>-4</td>\n",
       "    </tr>\n",
       "    <tr>\n",
       "      <th>S</th>\n",
       "      <td>1</td>\n",
       "      <td>0</td>\n",
       "      <td>0</td>\n",
       "      <td>0</td>\n",
       "      <td>-3</td>\n",
       "      <td>1</td>\n",
       "      <td>-1</td>\n",
       "      <td>-1</td>\n",
       "      <td>0</td>\n",
       "      <td>-3</td>\n",
       "      <td>-2</td>\n",
       "      <td>1</td>\n",
       "      <td>1</td>\n",
       "      <td>-1</td>\n",
       "      <td>0</td>\n",
       "      <td>2</td>\n",
       "      <td>1</td>\n",
       "      <td>-1</td>\n",
       "      <td>-2</td>\n",
       "      <td>-3</td>\n",
       "    </tr>\n",
       "    <tr>\n",
       "      <th>T</th>\n",
       "      <td>1</td>\n",
       "      <td>-2</td>\n",
       "      <td>0</td>\n",
       "      <td>0</td>\n",
       "      <td>-3</td>\n",
       "      <td>0</td>\n",
       "      <td>-1</td>\n",
       "      <td>0</td>\n",
       "      <td>0</td>\n",
       "      <td>-2</td>\n",
       "      <td>-1</td>\n",
       "      <td>0</td>\n",
       "      <td>0</td>\n",
       "      <td>-1</td>\n",
       "      <td>-1</td>\n",
       "      <td>1</td>\n",
       "      <td>3</td>\n",
       "      <td>0</td>\n",
       "      <td>-5</td>\n",
       "      <td>-3</td>\n",
       "    </tr>\n",
       "    <tr>\n",
       "      <th>V</th>\n",
       "      <td>0</td>\n",
       "      <td>-2</td>\n",
       "      <td>-2</td>\n",
       "      <td>-2</td>\n",
       "      <td>-1</td>\n",
       "      <td>-1</td>\n",
       "      <td>-2</td>\n",
       "      <td>4</td>\n",
       "      <td>-2</td>\n",
       "      <td>2</td>\n",
       "      <td>2</td>\n",
       "      <td>-2</td>\n",
       "      <td>-1</td>\n",
       "      <td>-2</td>\n",
       "      <td>-2</td>\n",
       "      <td>-1</td>\n",
       "      <td>0</td>\n",
       "      <td>4</td>\n",
       "      <td>-6</td>\n",
       "      <td>-2</td>\n",
       "    </tr>\n",
       "    <tr>\n",
       "      <th>W</th>\n",
       "      <td>-6</td>\n",
       "      <td>-8</td>\n",
       "      <td>-7</td>\n",
       "      <td>-7</td>\n",
       "      <td>0</td>\n",
       "      <td>-7</td>\n",
       "      <td>-3</td>\n",
       "      <td>-5</td>\n",
       "      <td>-3</td>\n",
       "      <td>-2</td>\n",
       "      <td>-4</td>\n",
       "      <td>-4</td>\n",
       "      <td>-6</td>\n",
       "      <td>-5</td>\n",
       "      <td>2</td>\n",
       "      <td>-2</td>\n",
       "      <td>-5</td>\n",
       "      <td>-6</td>\n",
       "      <td>17</td>\n",
       "      <td>0</td>\n",
       "    </tr>\n",
       "    <tr>\n",
       "      <th>Y</th>\n",
       "      <td>-3</td>\n",
       "      <td>0</td>\n",
       "      <td>-4</td>\n",
       "      <td>-4</td>\n",
       "      <td>7</td>\n",
       "      <td>-5</td>\n",
       "      <td>0</td>\n",
       "      <td>-1</td>\n",
       "      <td>-4</td>\n",
       "      <td>-1</td>\n",
       "      <td>-2</td>\n",
       "      <td>-2</td>\n",
       "      <td>-5</td>\n",
       "      <td>-4</td>\n",
       "      <td>-4</td>\n",
       "      <td>-3</td>\n",
       "      <td>-3</td>\n",
       "      <td>-2</td>\n",
       "      <td>0</td>\n",
       "      <td>10</td>\n",
       "    </tr>\n",
       "  </tbody>\n",
       "</table>\n",
       "</div>"
      ],
      "text/plain": [
       "   A   C  D  E  F  G  H  I  K  L  M  N  P  Q  R  S  T  V   W   Y\n",
       "A  2  -2  0  0 -3  1 -1 -1 -1 -2 -1  0  1  0 -2  1  1  0  -6  -3\n",
       "C -2  12 -5 -5 -4 -3 -3 -2 -5 -6 -5 -4 -3 -5 -4  0 -2 -2  -8   0\n",
       "D  0  -5  4  3 -6  1  1 -2  0 -4 -3  2 -1  2 -1  0  0 -2  -7  -4\n",
       "E  0  -5  3  4 -5  0  1 -2  0 -3 -2  1 -1  2 -1  0  0 -2  -7  -4\n",
       "F -3  -4 -6 -5  9 -5 -2  1 -5  2  0 -3 -5 -5 -4 -3 -3 -1   0   7\n",
       "G  1  -3  1  0 -5  5 -2 -3 -2 -4 -3  0  0 -1 -3  1  0 -1  -7  -5\n",
       "H -1  -3  1  1 -2 -2  6 -2  0 -2 -2  2  0  3  2 -1 -1 -2  -3   0\n",
       "I -1  -2 -2 -2  1 -3 -2  5 -2  2  2 -2 -2 -2 -2 -1  0  4  -5  -1\n",
       "K -1  -5  0  0 -5 -2  0 -2  5 -3  0  1 -1  1  3  0  0 -2  -3  -4\n",
       "L -2  -6 -4 -3  2 -4 -2  2 -3  6  4 -3 -3 -2 -3 -3 -2  2  -2  -1\n",
       "M -1  -5 -3 -2  0 -3 -2  2  0  4  6 -2 -2 -1  0 -2 -1  2  -4  -2\n",
       "N  0  -4  2  1 -3  0  2 -2  1 -3 -2  2  0  1  0  1  0 -2  -4  -2\n",
       "P  1  -3 -1 -1 -5  0  0 -2 -1 -3 -2  0  6  0  0  1  0 -1  -6  -5\n",
       "Q  0  -5  2  2 -5 -1  3 -2  1 -2 -1  1  0  4  1 -1 -1 -2  -5  -4\n",
       "R -2  -4 -1 -1 -4 -3  2 -2  3 -3  0  0  0  1  6  0 -1 -2   2  -4\n",
       "S  1   0  0  0 -3  1 -1 -1  0 -3 -2  1  1 -1  0  2  1 -1  -2  -3\n",
       "T  1  -2  0  0 -3  0 -1  0  0 -2 -1  0  0 -1 -1  1  3  0  -5  -3\n",
       "V  0  -2 -2 -2 -1 -1 -2  4 -2  2  2 -2 -1 -2 -2 -1  0  4  -6  -2\n",
       "W -6  -8 -7 -7  0 -7 -3 -5 -3 -2 -4 -4 -6 -5  2 -2 -5 -6  17   0\n",
       "Y -3   0 -4 -4  7 -5  0 -1 -4 -1 -2 -2 -5 -4 -4 -3 -3 -2   0  10"
      ]
     },
     "execution_count": 295,
     "metadata": {
      "tags": []
     },
     "output_type": "execute_result"
    }
   ],
   "source": [
    "# Loading scoring matrix PAM250\n",
    "pd.options.display.max_columns = None\n",
    "scoring_matrix_pam250 = pd.read_csv('D:/Data Science/Data/Comparing genes, proteins, genome/PAM250.txt',\n",
    "                            sep = '\\s+')\n",
    "scoring_matrix_pam250"
   ]
  },
  {
   "cell_type": "code",
   "execution_count": null,
   "metadata": {
    "colab": {},
    "colab_type": "code",
    "id": "GlPRlaoWLF7b"
   },
   "outputs": [],
   "source": [
    "\"\"\"Local alignment with scoring matrix\"\"\"\n",
    "def get_local_alignment(v, w, scoring_matrix, sigma):\n",
    "    back_track = np.array([[\"\" for j in range(len(w)+1)] for i in range(len(v)+1)])\n",
    "    s = np.zeros((len(v) + 1, len(w) + 1))\n",
    "    score = scoring_matrix.loc[list(v), list(w)]\n",
    "    # Get values of nodes that is in side edges of matrix s  \n",
    "    for i in range(1, len(v) + 1):\n",
    "        s[i, 0] = s[i-1, 0] - sigma\n",
    "    for j in range(1, len(w) + 1):\n",
    "        s[0, j] = s[0, j-1] - sigma\n",
    " \n",
    "    for i in range(1, len(v) + 1):\n",
    "        for j in range(1, len(w) + 1):\n",
    "            # Recurrent algorithm for s\n",
    "            s[i, j] = max(0, \n",
    "                          s[i-1, j] - sigma, \n",
    "                          s[i, j-1] - sigma, \n",
    "                          s[i-1, j-1] + score.iloc[i-1, j-1])\n",
    "            # Build back_track matrix\n",
    "            if s[i, j] == 0:\n",
    "                back_track[i, j] = \"f\"\n",
    "            elif s[i, j] == s[i, j-1] - sigma:\n",
    "                back_track[i, j] = \"r\"\n",
    "            elif s[i, j] == s[i-1, j] - sigma:\n",
    "                back_track[i, j] = \"d\"\n",
    "            elif s[i, j] == s[i-1, j-1] + score.iloc[i-1, j-1]:\n",
    "                back_track[i, j] = \"m\"\n",
    "    # Find suffix of v and w\n",
    "    score = np.amax(s) # Maximum score in matrix s\n",
    "    index = np.where(s == score)\n",
    "    end_v = index[0][0] \n",
    "    end_w = index[1][0] \n",
    "    \n",
    "    return(back_track, end_v, end_w, score)"
   ]
  },
  {
   "cell_type": "code",
   "execution_count": null,
   "metadata": {
    "colab": {},
    "colab_type": "code",
    "id": "lRWaMMxDLF7d"
   },
   "outputs": [],
   "source": [
    "\"\"\"Output a local alignment\"\"\"\n",
    "def output_local_alignment(back_track, v, w, i, j):\n",
    "    lcs = []\n",
    "    if i == 0 or j == 0:\n",
    "        return (\"\")\n",
    "    # Output v, w after alignment\n",
    "    v_ali = [] \n",
    "    w_ali = []\n",
    "    \n",
    "    while i > 0 or j > 0:\n",
    "        if back_track[i, j] == \"m\": # Backtrack at match or mismatch \n",
    "            v_ali.append(v[i-1])\n",
    "            w_ali.append(w[j-1])\n",
    "            if v[i-1] == w[j-1]:\n",
    "                lcs.append(v[i-1])\n",
    "            i = i - 1\n",
    "            j = j - 1\n",
    "        elif back_track[i, j] == \"d\": # Backtrack at deletion \n",
    "            v_ali.append(v[i-1])\n",
    "            w_ali.append('-')\n",
    "            i = i - 1\n",
    "        elif back_track[i, j] == \"r\": # Backtrack at insertion\n",
    "            v_ali.append('-')\n",
    "            w_ali.append(w[j-1])\n",
    "            j = j - 1\n",
    "        elif back_track[i, j] == \"f\": # Algorithm is stop when score of a node equal to zero.\n",
    "            i = 0\n",
    "            j = 0\n",
    "        \n",
    "    return(\"\".join(reversed(lcs)), \"\".join(reversed(v_ali)), \"\".join(reversed(w_ali)))"
   ]
  },
  {
   "cell_type": "code",
   "execution_count": null,
   "metadata": {
    "colab": {},
    "colab_type": "code",
    "id": "WyaKZMx5LF7h"
   },
   "outputs": [],
   "source": [
    "v=\"QEFIAEGMDKDIPIGKWLTCWCRNDACTFIGPLCHITCQKGADCATNLPTLVVGFPCFLGEMLDWYYLMRSKAARLEIEQRNMIRQGCMGDPPPEAYNGQSQGRLMYSYQAIVIYWYTSAAWPPWFMNRNDKNGFHISIPSVENCFIFKWSKKRSDIQKAAAASPWNWNDACPKTFTFIVFKQKRDQVADQGCMLFELIQHQQRGPRILIGFFFICIHPHIFPAAAQEANQYGWQSQDHNGCSQYGMKRNWQKWGIHFECQRGNNEIGDKFLVMDHCVYTDTMEWECAYTETYHCIHWRQKGHGASEFASFLADDGRWAEWNIGICLPTRINPVWFCFWHGVQTAPYYTFWNMPTHTDNLGTCIKHSWRKEKSNHAHMMPNTSDWSMMFTLAGKFKYNRYTYEPWHIVLDIRHVMAWLSMSWAEWLEFPSHFNMVVSDNKMAYDITYIWKEFLYPVICEPLGYTWCQFTAIMKMPWINLTFWMSKSHTEVNDSKCSHFSCYFQKEPVFCPPLFRIYTYQLGMWTAFGHQRWKDSRMYCQLMVFGTKWPRFDEGYRHPDKWMAHRTPGARFFYGSDTHSTKNSFIYQLIFTMYACFGIYPDEQISTATTNDALNQYLTPNDPPNIEIFYRGMGMAHCEQMHVNDDVLQCCIHAAWHAYMPRGRWGHACIDSHIIQRGCGPMESAHRFNEWTQFEYDNAWTNGAIRQAANQRNVGSHDFQDHLQHFSWMCIETHSWGSGDMPCLHLCHKNHNPDWQGNDIWEQCDCQWGLQQQWWACLIIFWLIWWARFSISLTCDQHYRLYMTRMWPQFEHQMDKMEKAQAYMIPPLEICDVNQNWSFRSFFIKKIWAGNYGVYTWWCLIHHVPGGDCGASCYHACISSTNADLEQMCHENLNPGEYEAFR\"\n",
    "w=\"IIWQDQCQDWVWGINSNANKEAQIDAVEHMYPVNYICPGTWIIHYITDHTAPTTMTRDYTEECFECVKRWKCICCDEMYMSLFHTMWWVPNLCGPLPDAFPCPNTVFCWNCSSHLCCPTDCETTCIVNVMQMQPWEPNKDPMYWELVASDLSQVRTIFRCIMGGGFPPLDVFHNVCTACQHKRTSMLRKGCSRSFFEQHMIPLWHRIKHLAAGRHHWMQAQGMVMCTNQQYNGYLRCRWDHFIHQGHADCDGYGNLYAFDWQVEFECQRGNNEEGDKFLWMDHCVYTDTMEWECAYTFASFLGRWAEWNIGIECLQNGMAQAQPTRINPVWFCFWHGWQTAFWNMPLETDSLGTCIKHKSNHAHMMPNTSDWSMMFNAYNRPWHIVLDLSMFWYEWLVVSDNDMADDIHAPMYPKEFLYPVRPQLMWYICSQWAFTAIMKMPVYPIEGQDINLYQKDSDEKFWMSKSHMWSLEVMDKKVGEDKSLRIYYFSCYFPGLQPCFCPCLFRIYTYQLAHNIMEPHMWTAFGHQRWKDSRMYCLLMVFGTKWPRAGCTAPWELWHLPLHPDKWMAHRTLGSDTIGTKNSECKIYQLIFTMLACFGILPDEQISTNDALNQYLTPNDPPNIEIFYTIWQRGGQRYCNPEFGDYWDMMLTEQKVFVPKQFPERNMRKWPHCQKWFHFWVWMQAGPDFHQSHEENYSTKTINTTFQSWQIHGNDTQMKELQNCALTAMHGRRCHMLLRISISEIKIFGWQITHHSTRDTHCSCNKDMGVDMLTSRFMRFVRRPTSRGVKQRKVHGEKTSLMDQYYHNKDIISCVKMDGNQPTSRKDFFNQLIHDDFQMCEHAECWKFECEPVCLDEETNKRFDWFRWTTCTADKGRIHLRWQGIIIECGKLNGGCSGHNMMGPYNAADL\""
   ]
  },
  {
   "cell_type": "code",
   "execution_count": null,
   "metadata": {
    "colab": {},
    "colab_type": "code",
    "id": "QiqjxCpiLF7j",
    "outputId": "e5a736bc-2dff-4851-edcf-fa5d7baa6b94"
   },
   "outputs": [
    {
     "data": {
      "text/plain": [
       "1114.0"
      ]
     },
     "execution_count": 299,
     "metadata": {
      "tags": []
     },
     "output_type": "execute_result"
    }
   ],
   "source": [
    "back_track, end_v, end_w, score = get_local_alignment(v, w, scoring_matrix_pam250, 5)\n",
    "score"
   ]
  },
  {
   "cell_type": "code",
   "execution_count": null,
   "metadata": {
    "colab": {},
    "colab_type": "code",
    "id": "lJ1XYhZxLF7m",
    "outputId": "8e48f4a1-395d-4289-b737-3b73266041a9"
   },
   "outputs": [
    {
     "data": {
      "text/plain": [
       "('KRGCFEIRGQNYWHCYGWFECQRGNNEGDKFLMDHCVYTDTMEWECAYTWGELGAPTRINPVWFCFWHGQTAFWNMPTDLGTCIKHKSNHAHMMPNTSDWSMMFAYNRPWHIVLDLSMWEWLMDAYKEFLYPVYWFTAIMKMPILFWMSKSHEVKFSCYFPFCPLFRIYTYQLMWTAFGHQRWKDSRMYCLMVFGTKWPRGPWHRGSDTTKNSIYQLIFTMACFGIPDEQISTNDALNQYLTPNDPPNIEIFYGCDDLRRWHCHMFENTIHCHMLWQCCSTQHDKMQICWFWWCGILCNGYA',\n",
       " 'KQKRDQVADQGC-M-LFE--LIQHQQRGPRILIG-FFFICIHPHIFPAAAQEANQY-G--W-Q-SQD-HNGCSQYGMKRNWQKWGIHFECQRGNNEIGDKFLVMDHCVYTDTMEWECAYT-ETYHCIHWRQKGHGASEFASFLADDGRWAEWNIGICLPTRINPVWFCFWHGVQTAPYYTFWNMPTHTDNLGTCIKHSWRKEKSNHAHMMPNTSDWSMMFTLAGKFKYNRYTYEPWHIVLDIRHVMAWLSMSWAEWLEFPSHFNMVVSDNKMAYDITYIWKEFLYPVICEPLGY--T-WCQFTAIMKMP-W-I---N--L----T---FWMSKSH--T-EV-N----DSKC-S-H-FSCYFQK-EPVFCPPLFRIYTYQLG---M----WTAFGHQRWKDSRMYCQLMVFGTKWPRFDEGYRHP-DKW-MA-HRTP--GARFFYGSDTHSTKNS-F-IYQLIFTMYACFGIYPDEQISTATTNDALNQYLTPNDPPNIEIFY--RGMGMAH-CEQMHVND--DV-L-QCCIHAAWHAYMPRG-R-WGHACIDS-HI-IQRGCGPMESAHRFNEWTQFEYDNAWTNGAIRQAANQRNVGSHDFQDHLQHFSWMC-IET-HSWGSGDMPCLHLCHKNHNP-DWQ-GND-IWE-QCDCQWGLQQQWWACLIIFWLIWWARFSISLTCDQHYRLYMTRMWPQFEHQMD-----KMEKAQA-----Y---MIPP-LEICDVNQNWSFRSFFIKKIWAGNYGVYTW--W--CLIHHVPGGDCGASCYHACISSTNADLEQMCH-ENLNPGEYEA',\n",
       " 'QHKRTSMLRKGCSRSFFEQHMIPLWHRIKHLAAGRHHWMQAQGMVM-CTNQQYNGYLRCRWDHFIHQGHADCDGYGNLYAFD-WQVEFECQRGNNEEGDKFLWMDHCVYTDTMEWECAYTFASFLG-RWAEWNIGI-E--C-L-QNGM-AQ-A-Q---PTRINPVWFCFWHGWQTA----FWNMPLETDSLGTCIKH---K--SNHAHMMPNTSDWSMMFN-A----YNR----PWHIVLD-------LSMFWYEWLVVSDN-DM--ADDIHA-PM-YP-KEFLYPVRPQLMWYICSQW-AFTAIMKMPVYPIEGQDINLYQKDSDEKFWMSKSHMWSLEVMDKKVGEDKSLRIYYFSCYFPGLQPCFCPCLFRIYTYQLAHNIMEPHMWTAFGHQRWKDSRMYCLLMVFGTKWPR-A-GCTAPWELWHLPLHPDKWMAHRTL-GSDTIGTKNSECKIYQLIFTMLACFGILPDEQIST---NDALNQYLTPNDPPNIEIFYTIWQRGGQRYCNP-EFGDYWDMMLTEQKVFVPKQ-FPERNMRKWPH-CQKWFHFWV-W----MQAGPDFHQ-SH-E-ENYSTK-TINTTFQSWQI--HGNDTQMKELQ-NCALTAMHGRRC-HML-LRISISEIKIFGWQITHHSTRDTHCSCNKDMGVDMLTSRFM-RFVRRPT-SRGVK-QRKVHGEKTSLMDQYYHNKDIISCVKMDGNQPTSRKDFFNQLIHDDFQMCEHAECWKFECEPVCLD-EETNKRFDWFRWTTC-TAD-KG-RIHLR-WQGIIIEC-GKLNGGCSGHNMM-GPYNA')"
      ]
     },
     "execution_count": 300,
     "metadata": {
      "tags": []
     },
     "output_type": "execute_result"
    }
   ],
   "source": [
    "output_local_alignment(back_track, v, w, end_v, end_w)"
   ]
  },
  {
   "cell_type": "markdown",
   "metadata": {},
   "source": [
    "Bibliography:<br>\n",
    "[5] Smith, T. F., and M. S. Waterman. “Identification of Common Molecular Subsequences.” <i>Journal of Molecular Biology</i> 147, no. 1 (March 25, 1981): 195–97. https://doi.org/10.1016/0022-2836(81)90087-5."
   ]
  },
  {
   "cell_type": "markdown",
   "metadata": {
    "colab_type": "text",
    "id": "3sr4_MtfLF7q"
   },
   "source": [
    "#### 4.3 The changing faces of sequence alignment<a name=\"changing-faces\"></a>"
   ]
  },
  {
   "cell_type": "markdown",
   "metadata": {
    "colab_type": "text",
    "id": "UXIb9piCLF7q"
   },
   "source": [
    "<b>Bài toán 1: Edit distance</b><br>\n",
    "Năm 1966, Vladimir Levenshtein đã đưa ra khái niệm khoảng cách chỉnh sửa giữa hai chuỗi (edit distance) là số lượng thao tác chỉnh sửa tối thiểu cần thiết để chuyển đổi một chuỗi thành chuỗi khác [6]. Ở đây, một thao tác chỉnh sửa là chèn (insertion), xóa (deletion) hoặc thay thế (substitution) một ký hiệu. Nhắc lại cách tính điểm của alignment như sau:$$\\alpha.matches - \\mu.mismatches - \\sigma.indels$$"
   ]
  },
  {
   "cell_type": "markdown",
   "metadata": {
    "colab_type": "text",
    "id": "QRcmUi71LF7q"
   },
   "source": [
    "Ví dụ tính edit distance của hai chuỗi được cho dưới đây với $\\alpha$ = 0, $\\mu$ = 1, và $\\sigma$ = 1."
   ]
  },
  {
   "cell_type": "code",
   "execution_count": null,
   "metadata": {
    "colab": {},
    "colab_type": "code",
    "id": "2fQGPqNQLF7t"
   },
   "outputs": [],
   "source": [
    "\"\"\"Build global alignment\"\"\"\n",
    "def build_global_alignment(v, w, alpha, mu, sigma):\n",
    "    back_track = np.array([[\"\" for j in range(len(w)+1)] for i in range(len(v)+1)])\n",
    "    s = np.zeros((len(v) + 1, len(w) + 1))\n",
    "    # Get values of nodes that is in side edges of matrix s.\n",
    "    for i in range(1, len(v) + 1):\n",
    "        s[i, 0] = s[i-1, 0] - sigma\n",
    "    for j in range(1, len(w) + 1):\n",
    "        s[0, j] = s[0, j-1] - sigma    \n",
    "        \n",
    "    for i in range(1, len(v) + 1):\n",
    "        for j in range(1, len(w) + 1):\n",
    "            # Assign values to match and mismatch.\n",
    "            if v[i-1] != w[j-1]: # Mismatch,\n",
    "                match_mismatch = -mu\n",
    "            elif v[i-1] == w[j-1]: # Match.\n",
    "                match_mismatch = alpha \n",
    "            # Recurrent algorithm for s.    \n",
    "            s[i, j] = max(s[i-1, j] - sigma, \n",
    "                          s[i, j-1] - sigma,\n",
    "                          s[i-1, j-1] + match_mismatch)\n",
    "            # Build back_track matrix\n",
    "            if s[i, j] == s[i, j-1] - sigma:\n",
    "                back_track[i, j] = \"r\"\n",
    "            elif s[i, j] == s[i-1, j] - sigma:\n",
    "                back_track[i, j] = \"d\"\n",
    "            elif s[i, j] == s[i-1, j-1] + match_mismatch:\n",
    "                back_track[i, j] = \"m\"\n",
    "    # Find maximum score\n",
    "    score = s[len(v), len(w)]\n",
    "    \n",
    "    return(back_track, score)"
   ]
  },
  {
   "cell_type": "code",
   "execution_count": null,
   "metadata": {
    "colab": {},
    "colab_type": "code",
    "id": "m2KKFzppLF7w"
   },
   "outputs": [],
   "source": [
    "v = \"QCSNGWGHGKTCWDTLMSVEEMMRSYDINCEKIWMKINWRKMWGIIFPQTCNSRASMGLRSGSPWYKWFFMCEWDWGAHKVLTRQTGTERYYGGMLLETCPSIMIQGYTDRQSGNPLYGIGSGWQEHYPYTRCLWNDDAAMDQPGPFMQSWHMAQSELNFFHNRVQMNYYEFITFFRPHIVDLANTCGNMINIQHDVQYAMWACFQLEAMYQLHVYRHCAPVHPREVNHNPAGWDLIDIIMRQALTSRLNGDEVHKEQHVDCQRRWDPNSMVGPQTHVYRAFNDNFFWPCQHIDQDKAERTATTDTDPCDLHDMDWHLKYKHTKLECQTRWKHTMCPTDGCMYWELWWSVKLVKLLVAWLAVTLQRSMTAVCFIGSGAEELLKLEGIFLTMYVTYYFSNFMVSTWANIRFGIIGTWCFCAIFKSWDMIVSVKTWIYPRHHWGITMHMNEILKLDVVDCDRRTDGQVVKTREDIDELMPCKGRFSWAPWQASFHKVTCSGFQLTKAKIKEEGWNRDVGPRHDSRTFKHLTHTDCFVYNAGLFHRPIVNGQACWRISELRGIGCCMANTEFNACHCNMVFEPEDCQAQWIMFRCLIQAVGDLDGEVVPWPHIWKDWDMPDQASHEYSLENYMHVHNHYDMIEGTSNAHNRRVNKSESDHIPPSTDRSFFTWNWIIETQNKRLDMMYDIWVVSDMYGDENKFFDLECPEEYPHRQVKFEFPRTKTEIQSQMNQY\"\n",
    "w = \"QISIGWGHGSSTIKWIFNNVNAKFVGSVLSVFEMMRKYHINCEMQDHIWEWRKMNGIIFPQRCWRCNGEVWYKWFFMCEWDKGIHEVLGCYPFHYGTERYYITGGMLLETCPSIMIQQSGMPLYGIRWTYSGWQEHNPYRRCYDTHLVNDDAAMDQKCKGPFMQSWHMAQSELNFFANQVQMNYYEFITFFRPHIVDLANTCGNMQNIQMDVQYAMWARFIPLWGNLEAMLQLLRYYHCAPVHPAEVNHGPAGWEVQVQGADDNIVWWIMRQALGDHHHEGASYVHKWKICQRRKDGPAGQEMQKKECKYFNYHGYWIMSYIMMWWCQHLDQDKNMGCAERWKSMPCLGATTRCDPCDLHDHLLGHHTRVFKTIIYTMCPTYGMMYWEGEECKLPLTWSVKGYMIAVTQQRSMTAGWGIFYATTMYVTYYFSNSHWANIRWCFCAIFKSWDMIVSVKTWIWANVIRHHWGITMCYMNEILKLDFVDCDRRTDGQVVKRVQNEDHALWKGRFSWACFQASFHTVTCSGQQLTKAKIKEEGWNKYDRGHRHDSRYKTQAKHLTHTDCFVNAILFHQACSRLCCMVNTEFNACHCESYLHDHLEVFKGLANFTGGPEDCRAQWGGIMIQAVGDRDGEVVPWPHIWEDWCDVLTDRDQAMHEYNWLDNMLENYMQVHNHWSVHISPSTDCQIETQNKRLDLNYDIWVVSDMYEDENKFFVLECAVRSMICDNNMYVRFEAPRTKTEIQSQNVQRNQY\""
   ]
  },
  {
   "cell_type": "code",
   "execution_count": null,
   "metadata": {
    "colab": {},
    "colab_type": "code",
    "id": "NsFut1KELF7y"
   },
   "outputs": [],
   "source": [
    "back_track, _ = build_global_alignment(v, w, 0, 1, 1)"
   ]
  },
  {
   "cell_type": "code",
   "execution_count": null,
   "metadata": {
    "colab": {},
    "colab_type": "code",
    "id": "YXURDVPHLF7z",
    "outputId": "f5f9d306-f1bc-4b30-feb6-5d63d8566eab"
   },
   "outputs": [
    {
     "name": "stdout",
     "output_type": "stream",
     "text": [
      "Edit Distance:  356\n"
     ]
    }
   ],
   "source": [
    "dim = back_track.shape\n",
    "# Get suffix of v and w\n",
    "i = dim[0] - 1\n",
    "j = dim[1] - 1\n",
    "\n",
    "comon, v_ali, w_ali = output_global_alignment(back_track, v, w, i, j)\n",
    "edit_distance = len(v_ali) - len(comon)\n",
    "print(\"Edit Distance: \", edit_distance)"
   ]
  },
  {
   "cell_type": "markdown",
   "metadata": {
    "colab_type": "text",
    "id": "VDBd0RwGLF72"
   },
   "source": [
    "Cũng với hai chuỗi trên nhưng thay các tham số $\\alpha$ và $\\mu$ bằng scoring matrix, ta thiết kế lại thuật toán global alignment như sau."
   ]
  },
  {
   "cell_type": "code",
   "execution_count": null,
   "metadata": {
    "colab": {},
    "colab_type": "code",
    "id": "bGtQmHVQLF72"
   },
   "outputs": [],
   "source": [
    "def get_global_alignment(v, w, scoring_matrix, sigma):\n",
    "    \n",
    "    back_track = np.array([[\"\" for j in range(len(w)+1)] for i in range(len(v)+1)])\n",
    "    s = np.zeros((len(v) + 1, len(w) + 1))\n",
    "    score = scoring_matrix.loc[list(v), list(w)]\n",
    "    \n",
    "    # Get values of nodes that is in side edges of matrix s.\n",
    "    for i in range(1, len(v) + 1):\n",
    "        s[i, 0] = s[i-1, 0] - sigma\n",
    "    for j in range(1, len(w) + 1):\n",
    "        s[0, j] = s[0, j-1] - sigma    \n",
    "        \n",
    "    for i in range(1, len(v) + 1):\n",
    "        for j in range(1, len(w) + 1):\n",
    "            # Recurrent algorithm for s.    \n",
    "            s[i, j] = max(s[i-1, j] - sigma, \n",
    "                          s[i, j-1] - sigma,\n",
    "                          s[i-1, j-1] + score.iloc[i-1, j-1])\n",
    "            # Build back_track matrix\n",
    "            if s[i, j] == s[i, j-1] - sigma:\n",
    "                back_track[i, j] = \"r\"\n",
    "            elif s[i, j] == s[i-1, j] - sigma:\n",
    "                back_track[i, j] = \"d\"\n",
    "            elif s[i, j] == s[i-1, j-1] + score.iloc[i-1, j-1]:\n",
    "                back_track[i, j] = \"m\"\n",
    "    # Find maximum score\n",
    "    score = s[len(v), len(w)]\n",
    "    \n",
    "    return(back_track, score)"
   ]
  },
  {
   "cell_type": "code",
   "execution_count": null,
   "metadata": {
    "colab": {},
    "colab_type": "code",
    "id": "BoFBaEAiLF76",
    "outputId": "1404ace8-ceac-41a0-83f8-3a14ef3e6361"
   },
   "outputs": [
    {
     "name": "stdout",
     "output_type": "stream",
     "text": [
      "Edit Distance:  360\n"
     ]
    }
   ],
   "source": [
    "back_track, _ = get_global_alignment(v, w, scoring_matrix_blosum62, 5)\n",
    "comon, v_ali, w_ali = output_global_alignment(back_track, v, w, len(v), len(w))\n",
    "edit_distance = len(v_ali) - len(comon)\n",
    "print(\"Edit Distance: \", edit_distance)"
   ]
  },
  {
   "cell_type": "markdown",
   "metadata": {},
   "source": [
    "Bibliography: <br>\n",
    "[6] Levenshtein. “Binary Codes Capable or Correcting Deletions, Insertions, and Reversals.” <i>Soviet Physics Dok-Lady</i> 163, no. 4 (August, 1965): https://nymity.ch/sybilhunting/pdf/Levenshtein1966a.pdf."
   ]
  },
  {
   "cell_type": "markdown",
   "metadata": {
    "colab_type": "text",
    "id": "CpzO-k3RLF79"
   },
   "source": [
    "<b>Bài toán 2: Fitting alignment.</b><br>"
   ]
  },
  {
   "cell_type": "markdown",
   "metadata": {
    "colab_type": "text",
    "id": "fn2NpC37LF79"
   },
   "source": [
    "Chúng ta sẽ so sánh synthetase NRP dài khoảng 20.000 axit từ Bacillus brevis với [A-domain](#a-domain) dài khoảng 600 axit amin từ Streptomyces roseosporus, vi khuẩn tạo ra kháng sinh mạnh Daptomycin. Chúng ta hy vọng tìm thấy một khu vực trong chuỗi protein v dài hơn có độ tương tự cao với tất cả các chuỗi ngắn hơn w. Global alignment sẽ không hoạt động tốt vì nó cố gắng dóng hàng toàn bộ chuỗi v với toàn bộ chuỗi w; local alignment cũng sẽ không cho kết quả tốt vì nó cố gắng dóng hàng các chuỗi con của cả v và w. Vì vậy, chúng ta có một phương pháp dóng hàng riêng biệt được gọi là Bài toán dóng hàng phù hợp (fitting alignment)."
   ]
  },
  {
   "cell_type": "markdown",
   "metadata": {
    "colab_type": "text",
    "id": "EIABipeyLF7-"
   },
   "source": [
    "\"Fitting\" w tới v yêu cầu tìm một chuỗi con v' của v để tối đa hóa global alignment score giữa v′ và w trong số tất cả các chuỗi con của v. Ví dụ: dóng hàng best fitting, global và local của v = CGTAGGCTTAAGGTTA và w = ATAGATA được hiển thị trong hình bên dưới (với các hằng số phạt mismatch và indel bằng 1)."
   ]
  },
  {
   "cell_type": "markdown",
   "metadata": {
    "colab_type": "text",
    "id": "7Y8PxFsYLF7-"
   },
   "source": [
    "<a><img src=\"https://imgur.com/hKGkfzf.jpg\" width=\"600\" align=\"center\"> "
   ]
  },
  {
   "cell_type": "markdown",
   "metadata": {
    "colab_type": "text",
    "id": "j2BpML8TLF7-"
   },
   "source": [
    "Lưu ý trong hình là optimal local alignment (với score 3) không phải là căn chỉnh phù hợp. Mặt khác, score của global alignment tối ưu là (6 - 9 - 1 = -4) nhỏ hơn so với the best fitting alignment (5 - 2 - 2 = +1)."
   ]
  },
  {
   "cell_type": "code",
   "execution_count": null,
   "metadata": {
    "colab": {},
    "colab_type": "code",
    "id": "-aAB_mBjLF7-"
   },
   "outputs": [],
   "source": [
    "\"\"\"Buid fitting alignment\"\"\"\n",
    "def get_fitting_alignment(v, w, alpha, mu, sigma):\n",
    "    back_track = np.array([[\"\" for j in range(len(w)+1)] for i in range(len(v)+1)])\n",
    "    s = np.zeros((len(v) + 1, len(w) + 1))\n",
    "    # Get values of nodes that is in vertical side edge of matrix s.\n",
    "    for i in range(1, len(v) + 1):  \n",
    "        s[i, 0] = 0\n",
    "    for j in range(1, len(w) + 1):\n",
    "        s[0, j] = s[0, j-1] - sigma\n",
    "        \n",
    "    for i in range(1, len(v) + 1):\n",
    "        for j in range(1, len(w) + 1):\n",
    "            # Assign values to match and mismatch.\n",
    "            if v[i-1] != w[j-1]: # Mismatch,\n",
    "                match_mismatch = -mu\n",
    "            elif v[i-1] == w[j-1]: # Match.\n",
    "                match_mismatch = alpha\n",
    "            # Recurrent algorithm for s.     \n",
    "            s[i, j] = max(s[i-1, j] - sigma, \n",
    "                          s[i, j-1] - sigma, \n",
    "                          s[i-1, j-1] + match_mismatch)\n",
    "            # Build back_track matrix\n",
    "            if s[i, j] == s[i, j-1] - sigma:\n",
    "                back_track[i, j] = \"r\"\n",
    "            elif s[i, j] == s[i-1, j] - sigma:\n",
    "                back_track[i, j] = \"d\"\n",
    "            elif s[i, j] == s[i-1, j-1] + match_mismatch:\n",
    "                back_track[i, j] = \"m\"\n",
    "    # Find suffix of v and w.            \n",
    "    score = np.amax(s[:, -1])\n",
    "    index = np.where(s[:, -1] == score)\n",
    "    end_v = index[0][0] \n",
    "    end_w = s.shape[1] - 1\n",
    "    \n",
    "    return(back_track, end_v, end_w, score)"
   ]
  },
  {
   "cell_type": "code",
   "execution_count": null,
   "metadata": {
    "colab": {},
    "colab_type": "code",
    "id": "eATavhwNLF8A"
   },
   "outputs": [],
   "source": [
    "\"\"\"Output a fitting alignment\"\"\"\n",
    "def output_fitting_alignment(back_track, v, w, i, j):\n",
    "    lcs = []\n",
    "    if i == 0 or j == 0:\n",
    "        return (\"\")\n",
    "    # Output v, w after alignment\n",
    "    v_ali = [] \n",
    "    w_ali = []\n",
    "    \n",
    "    while j > 0:\n",
    "        if back_track[i, j] == \"m\": # Backtrack at match or mismatch \n",
    "            v_ali.append(v[i-1])\n",
    "            w_ali.append(w[j-1])\n",
    "            if v[i-1] == w[j-1]:\n",
    "                lcs.append(v[i-1])\n",
    "            i = i - 1\n",
    "            j = j - 1\n",
    "        elif back_track[i, j] == \"d\": # Backtrack at deletion \n",
    "            v_ali.append(v[i-1])\n",
    "            w_ali.append('-')\n",
    "            i = i - 1\n",
    "        elif back_track[i, j] == \"r\": # Backtrack at insertion\n",
    "            v_ali.append('-')\n",
    "            w_ali.append(w[j-1])\n",
    "            j = j - 1\n",
    "        \n",
    "    return(\"\".join(reversed(lcs)), \"\".join(reversed(v_ali)), \"\".join(reversed(w_ali)))"
   ]
  },
  {
   "cell_type": "code",
   "execution_count": null,
   "metadata": {
    "colab": {},
    "colab_type": "code",
    "id": "3DzGmaqlLF8B"
   },
   "outputs": [],
   "source": [
    "v = \"AAATTTAGACCGATCAAATAGGTTAATACAGTGGCCTTTGGTACGGGTACGGTGTGCTTTGGAACAATAAAGTAGCCGTATTACCGTTAAGAACTTACTCTACTGCCGATCTACAGTCCACCCGCCCACTTACAGGGAGGTTTGTATTGTTTAATCATGAATTCAAGCCTTGCGGCATCCGTACGTCTCGAATCTTAACGACCCACATGTCTAAAAAAGAAGCAACTCACCCTTCAGTCGACGAGTTGTTTGAAGGTCATCGATCACTAAATCAGAAATTTTCGCGACATTCGGTATCATGGCGCGCGTATCGTGCACCTGCAACGAGGGGCTTTATCGCTGTCGCTCACGCCGCCTAACTGGTCATCGCGACATCTATCCGCGTTGAACGCAAGAGATTAACTCCTTAGTTTTTTTCTACAACGGCCGCCCGCAAGAGACAACAAAAGAATCCTCCAGATGTCTCGGGGACAGCCTCGTGGAGATTTCTTGCGTAGAAGGAAACTAATGCAGCAATACACTCGGCGGCGCGGGGATGATGCTAGGCGGGCTGACGTGCTATCGTAGCACATAACACCGGCGCTTGCTTGTTAGGCATCATCGAACTCATTTAGAAGATCGAGGTGCCGCAATCAGGACTGTATTGAGGACGGAACCCGATAGGAGCCAGTAAGGTCTGCATAAGATTTGAAGTACTAAGACGCCTACGAGCTTTTTTCGATATGACGACACTGACAGTGTAATGGCTTGCGTCGTTGGAAACCGCCGGTGGGTTGTCAGCAGTAGACTTCTCTCGCATCGATGATCTGAGCCTTAGCGTAGCCATTC\"\n",
    "w = \"TACTGCAGTCTATCTCTGTGCAACAGGATGCACACCCTGTGTATCGGGGACTGCCATCACAGCGGCCCGCGAAACTCCGTAGCTTAG\""
   ]
  },
  {
   "cell_type": "code",
   "execution_count": null,
   "metadata": {
    "colab": {},
    "colab_type": "code",
    "id": "kn3AUJ8KLF8C",
    "outputId": "54c3b438-145e-497c-901a-3a5d75654af6"
   },
   "outputs": [
    {
     "name": "stdout",
     "output_type": "stream",
     "text": [
      "19.0\n",
      "-AC-G-AGGGGCTTTATCGCTGTCGCT-CACGCCGC-CTAAC-TG-GTCATCGCG-ACAT-CTATC-C-GCGTTGAACGCAAGAGATTAACTCCTTAG-TT--\n",
      "TACTGCAGT--CT--ATCTCTGT-GCAACAGGATGCAC-ACCCTGTGT-ATCGGGGAC-TGCCATCACAGCG--GCCCGC--GA-A--A-CTCCGTAGCTTAG\n"
     ]
    }
   ],
   "source": [
    "back_track, end_v, end_w, score = get_fitting_alignment(v, w, 1, 1, 1)\n",
    "print(score)\n",
    "common, v_ali, w_ali = output_fitting_alignment(back_track, v, w, end_v, end_w)\n",
    "print(v_ali)\n",
    "print(w_ali)"
   ]
  },
  {
   "cell_type": "markdown",
   "metadata": {
    "colab_type": "text",
    "id": "fiz9Pk6nLF8E"
   },
   "source": [
    "<b>Bài toán 3: Overlap Alignment</b><br>\n",
    "Các lần đọc chồng nhau (overlaping reads) thường được sử dụng để giải trình tự bộ gen, vấn đề trở nên phức tạp hơn khi xuất hiện lỗi trong các lần đọc. Dóng hàng các các điểm cuối của các lần đọc giả định (hypothetical reads) được hiển thị bên dưới đưa ra một cách để tìm sự chồng chéo giữa các lần đọc dễ bị lỗi (error-prone reads)."
   ]
  },
  {
   "cell_type": "markdown",
   "metadata": {
    "colab_type": "text",
    "id": "Wfb4OVrZLF8E"
   },
   "source": [
    "<a><img src=\"https://imgur.com/ZlsXiE0.jpg\" width=\"170\" align=\"center\"> "
   ]
  },
  {
   "cell_type": "markdown",
   "metadata": {
    "colab_type": "text",
    "id": "YkRmHs6qLF8E"
   },
   "source": [
    "Overlap alignment của chuỗi v = $v_1 ... v_n$ và w = $w_1 ... w_m$ là global alignment của hậu tố v với tiền tố w. Một overlap alignment tối ưu của chuỗi v và w tối đa hóa global alignment score giữa hậu tố i của v và tiền tố j của w (tức là, giữa $v_i ... v_n$ và $w_1 ... w_j$) giữa tất cả i và j."
   ]
  },
  {
   "cell_type": "code",
   "execution_count": null,
   "metadata": {
    "colab": {},
    "colab_type": "code",
    "id": "s4ZqsNfhLF8F"
   },
   "outputs": [],
   "source": [
    "\"\"\"Buid overlap alignment\"\"\"\n",
    "def get_overlap_alignment(v, w, alpha, mu, sigma):\n",
    "    \n",
    "    back_track = np.array([[\"\" for j in range(len(w)+1)] for i in range(len(v)+1)])\n",
    "    s = np.zeros((len(v) + 1, len(w) + 1))\n",
    "    \n",
    "    # Get values of nodes that is in vertical side edge of matrix s.\n",
    "    for i in range(1, len(v) + 1):  \n",
    "        s[i, 0] = 0\n",
    "    for j in range(1, len(w) + 1):\n",
    "        s[0, j] = s[0, j-1] - sigma\n",
    "  \n",
    "    for i in range(1, len(v) + 1):\n",
    "        for j in range(1, len(w) + 1):\n",
    "            # Assign values to match and mismatch.\n",
    "            if v[i-1] != w[j-1]: # Mismatch,\n",
    "                match_mismatch = -mu\n",
    "            elif v[i-1] == w[j-1]: # Match.\n",
    "                match_mismatch = alpha\n",
    "                \n",
    "            # Recurrence algorithm for s.  \n",
    "            s[i, j] = max(s[i-1, j] - sigma, \n",
    "                          s[i, j-1] - sigma, \n",
    "                          s[i-1, j-1] + match_mismatch)\n",
    "                \n",
    "            # Build back_track matrix\n",
    "            if s[i, j] == s[i, j-1] - sigma:\n",
    "                back_track[i, j] = \"r\"\n",
    "            elif s[i, j] == s[i-1, j] - sigma:\n",
    "                back_track[i, j] = \"d\"\n",
    "            elif s[i, j] == s[i-1, j-1] + match_mismatch:\n",
    "                back_track[i, j] = \"m\"\n",
    "                \n",
    "    # Find suffix of v and w.            \n",
    "    score = np.amax(s[-1, :])\n",
    "    index = np.where(s[-1, :] == score)\n",
    "    end_w = index[0][0] \n",
    "    end_v = s.shape[0] - 1\n",
    "\n",
    "    return(back_track, end_v, end_w, score)"
   ]
  },
  {
   "cell_type": "code",
   "execution_count": null,
   "metadata": {
    "colab": {},
    "colab_type": "code",
    "id": "qLxe6qi-LF8G"
   },
   "outputs": [],
   "source": [
    "v = \"AGCAAGCCCCCCTGTTCCCATCAATTCGGTTTGTAGGTTAATCCAGACTTTACGGTCATGTCTGCGGACACATGGCGAATCTTATCTTCTAAAGACTGATCATAGTATGGTTCTCCATGTCAGGACGCCGCGAGGTCGCCAGACCTGAGCCGAGGCAGTGCGACGTCAAGCATCCCGTGCGGGTTGCTGCACAACTTCCGGTACGCGGCACCAGGTCTGCCAATAACCTTTGCAATCAACTGGGCCTCATCATATATGAACTGCGAACCCGTGATCAAATTTCGCGAGATCCACGATGAAGAAACCTCGGTGAGCGTCGATCCCCTCGGCCATTGCCTAGAATCATGGCGACTAACTGTAGGTCCTGAGCGTACATTGGGGGACTCCTGTTTTGCTACAACGTGCACCAGAGATACTGCGATCCTTCAAGATGAATAAAAATGATACGTAAGCCATCAACTAGTGACTCAACGACTGCCCGATAGACACACAGCTACGCTCGCCCTCTAAGCCCAGGCCTTCGGCATCTATTTGTTCGGCCCAACCCGTATAAAAGGCCAGTCGTCGCCTCAACGGGGGGCGTCAGCGCACGGAAGCCGGAACTCAGCGCCAATCAGCGTACCGCTCATCATGTAACCATGAGAGGTATCGTTCCTGCGTCTTTTGGAACTAACCTAAATGCAGGTCCCTCAGGACTAGTAGAGTCTTCGGGTTCTCCATGCGTTCGTGAGAAGAGCTAAAGGTTTTTATGAGTTAGGACGCCTGCAGTATGAAACCCAGGCGCGCGCGAAGACAGACATCCTGAAGTGGCGCTCAATGGGTCCGGGAATACCATACAGTATCCCCTGCTCAGAAAAAGAGTATGGTCCAAGCGTCGATATCGCTCCAATGTAAAACCTTCCCAGCACGCCCAACCAGCCGTTGAAATCTGCTATGCAGCGTGAGC\"\n",
    "w = \"CTCCGGGATCAAGAGTCCCTCGGGATTCTATGCGTCTGTGAGGACAGCTAAAACTTTCATAAGTTAGGCGCCTGGTAGTATGAACCCGGACGCCGCGTAAAGCAACACCTGGAGTGCAGCTCGAGGGACTCTGGGAAGAGCATGCAGAATCCTCCTCCTCAGAAGAAGGGTGTGGCCCGAAAGCGATACAGCCTCCGATGTGAAACCTCCAGCACGCCCAACCCGCACCATTGGAACTGCTTAACAAGGAGCGGTGCCAAAGAAGGCTGATCCATACGGTCAGTTGTTTGGACGTATGCGGGCTTAACAGAAATCATGCTTCCCGCGGCATAGCGATTAGAGTACGAATAGCGAATTTGCAAGAGTTCCCACGACGGCTTATCACAGGGGCACACATTCCAGCTTCGCACGCTTCTGAGGCAAAATTTAGGGAAGCGACTAGCGACCATAATATCCTTGATAGAACACCTTCGCTAGTGAAAAGCGTAGATTGAAAGACAGAAGCGTCTCGCCAAGGACAGTTCCGATTAAACGGACGTCCCTCCCACTGCGCCGTGGCTGCCGTAACATCAACACGTCAGATGACGCAGGAGCGCGGACGAACGCACGGCCAAAGGGCGCTGAGCTGCATGTTCCCTTGACGAGTCAGCAACACCGTATGACGATGCATTTTGATACCTCTAACTTGGTCAAGGAGAGTCTTGTGAGGCAAGGATCCCTGAACACGGTATGCACGGCCATTGCGACTACTGACATGTCGACTGGAAAGGGTAAGCCGGCTGCCTGAATATCGGAGGAGGTTCTTTGTCCTGAAGTGGGAGATGTTCGCCCAAGTTATCTTCCATTATAAAATGGCCTGTCCTATCCTCATATAAAACTTCTGACTGGGAAGGCGTCACATTAGTCGCTACATGTAGTGAGCCTAGCGGG\""
   ]
  },
  {
   "cell_type": "code",
   "execution_count": null,
   "metadata": {
    "colab": {},
    "colab_type": "code",
    "id": "xDYccugULF8H",
    "outputId": "133e8532-8cb8-42e6-b54a-d851a25fb060"
   },
   "outputs": [
    {
     "name": "stdout",
     "output_type": "stream",
     "text": [
      "Score:  58.0\n",
      "v alignment:  CTCAGG-ACT-AGTAGAGTCT-TCGGG-TTCTCCATGCGTTC-GTGAGAAGAGCTAAAGGTTTTTATGAGTTAGGACGCCTGC-AGTATGAAACCCAGG-CGCGCGCG-AAGA-CAGACATCCTGAAGTGGC-GCTCAATGGGTC-C-GGGAATACCATACAGTATCC-CCTGCTCAGAAAAAGAGTATGGTCC-AAGCGTCGATATC-GC-TCCAATGTAAAACCTTCCCAGCACGCCCAACCAGC-CG-TTGAAATCTGCTATG-CAGCGTGAGC\n",
      "w alignment:  CTCCGGGA-TCA--AGAGTCCCTCGGGATTCT--ATGCGT-CTGTGAGGACAGCTAAAACTTTC-ATAAGTTAGG-CGCCTGGTAGTATGAA-CCC-GGACGC-CGCGTAA-AGCA-ACA-CCTGGAGTG-CAGCTCGA-GGGACTCTGGGAAGAGCATGCAGAATCCTCCTCCTCAGAAGAAGGGTGTGGCCCGAAA-G-CGATA-CAGCCTCCGATGTGAAACCT-CC-AGCACGCCCAACCCGCACCATTGGAA-CTGCT-TAACAA-G-GAGC\n"
     ]
    }
   ],
   "source": [
    "back_track, end_v, end_w, score = get_overlap_alignment(v, w, 1, 2, 2)\n",
    "common, v_ali, w_ali = output_fitting_alignment(back_track, v, w, end_v, end_w)\n",
    "print('Score: ', score)\n",
    "print('v alignment: ', v_ali)\n",
    "print('w alignment: ', w_ali)"
   ]
  },
  {
   "cell_type": "markdown",
   "metadata": {
    "colab_type": "text",
    "id": "m9rm43krLF8I"
   },
   "source": [
    "### 5 Penalizing Insertions and Deletions in Sequence Alignment<a name = \"penalizing\"></a>"
   ]
  },
  {
   "cell_type": "markdown",
   "metadata": {
    "colab_type": "text",
    "id": "0Xp5W2cqLF8I"
   },
   "source": [
    "#### 5.1 Mô hình phạt khoảng trống Affine (Affine gap penalty)"
   ]
  },
  {
   "cell_type": "markdown",
   "metadata": {
    "colab_type": "text",
    "id": "5D9hfUnJLF8K"
   },
   "source": [
    "Việc phạt các mismatch và indel có thể tạo ra một global alignment chính xác hơn về mặt sinh học. Tuy nhiên, với các mô hình tính điểm tuyến tính như trên, alignment miền A mà chúng ta đã xây dựng trước đó (với indel penalty σ = 4) vẫn chỉ hiển thị 6 trong số 8 cột màu tím được bảo tồn:"
   ]
  },
  {
   "cell_type": "markdown",
   "metadata": {
    "colab_type": "text",
    "id": "hXzYumgBLF8L"
   },
   "source": [
    "<a><img src=\"https://imgur.com/n6SIJb5.jpg\" width=\"600\" align=\"center\"> "
   ]
  },
  {
   "cell_type": "markdown",
   "metadata": {
    "colab_type": "text",
    "id": "EgWYutDNLF8L"
   },
   "source": [
    "Đột biến thường được gây ra bởi lỗi sao chép DNA chèn hoặc xóa toàn bộ khoảng k nucleotide thay vì k inserttion hoặc deletion độc lập. Do đó, việc phạt một indel có độ dài k như vậy bằng $-\\sigma.k$ thể hiện một hình phạt quá mức. Ví dụ: dóng hàng bên phải phù hợp hơn so với dóng hàng bên trái, nhưng hiện tại chúng đang nhận được cùng số điểm."
   ]
  },
  {
   "cell_type": "markdown",
   "metadata": {
    "colab_type": "text",
    "id": "a7o1asMPLF8L"
   },
   "source": [
    "<a><img src=\"https://imgur.com/5qYCObf.jpg\" width=\"200\" align=\"center\"> "
   ]
  },
  {
   "cell_type": "markdown",
   "metadata": {
    "colab_type": "text",
    "id": "kiGQ787ILF8L"
   },
   "source": [
    "Để giải quyết vấn đề này ta đưa ra mô hình Affine gap penalty (phạt khoảng trống Affine) thay vì mô hình tính điểm tuyến tính (linear scoring model) gồm có:<br><br>\n",
    "&emsp;+) Gap opening penalty ($\\sigma$): phạt khoảng mở, mà là kí tự đầu tiên trong gap.<br>\n",
    "&emsp;+) Gap extension penalty ($\\epsilon$): phạt khoảng kéo dài, mà là các kí tự tiếp theo trong gap sau kí tự đầu tiên.<br><br>\n",
    "Giá trị phạt $\\sigma$ lớn hơn $\\epsilon$, một gap gồm k ký tự sẽ bị phạt $-\\sigma-(k-1).\\epsilon$."
   ]
  },
  {
   "cell_type": "markdown",
   "metadata": {
    "colab_type": "text",
    "id": "BQObCsxYLF8M"
   },
   "source": [
    "#### 5.2 Đồ thị Manhattan ba cấp<a name=\"three_levels\"></a>"
   ]
  },
  {
   "cell_type": "markdown",
   "metadata": {
    "colab_type": "text",
    "id": "wME1i9QxLF8M"
   },
   "source": [
    "Xây dựng ba đồ thị Manhattan tương ứng với ba cấp:<br><br>\n",
    "&emsp;+) Đồ thị lower: chỉ gồm các cạnh đại diện cho các deletion extension, do đó chúng có hướng từ trên xuống dưới. Các cạnh này được đánh trọng số $-\\epsilon$.<br>\n",
    "&emsp;+) Đồ thị middle: chỉ gồm các cạnh đại diện cho các match hoặc mismatch, chúng có hướng theo đường chéo. Các cạnh này được tính điểm theo scoring matrix.<br>\n",
    "&emsp;+) Đồ thị upper: chỉ gồm các cạnh đại diện cho các insertion extension, chúng có hướng từ trái sang phải. Các cạnh này được đánh trọng số $-\\epsilon$.<br><br>\n",
    "Trong khi đó, các gap opening tương ứng với các cạnh có hướng từ nút $middle_{i-1, j}$ xuống nút $lower_{i, j}$ hoặc từ nút $middle_{i, j-1}$ lên nút $upper_{i, j}$, các cạnh  này được đánh trọng số $-\\sigma$. Cuối cùng, các gap closing tương ứng với các cạnh có hướng từ nút $lower_{i, j}$ lên nút $middle_{i, j}$ hoặc từ nút $upper_{i, j}$ xuống nút $middle_{i, j}$, các cạnh này được đánh trọng số bằng 0. "
   ]
  },
  {
   "cell_type": "markdown",
   "metadata": {
    "colab_type": "text",
    "id": "JR4ae49QLF8M"
   },
   "source": [
    "<a><img src=\"https://imgur.com/4msoaPr.jpg\" width=\"600\" align=\"center\"> "
   ]
  },
  {
   "cell_type": "markdown",
   "metadata": {
    "colab_type": "text",
    "id": "LUJvCFW3LF8M"
   },
   "source": [
    "DAG mà chúng ta vừa xây dựng có thể phức tạp, nhưng nó chỉ sử dụng $\\mathcal{O} (n . m)$ cạnh với các chuỗi có độ dài n và m mà vẫn xây dựng được một dóng hàng tối ưu nhờ áp dụng mô hình phạt khoảng trống Affine. Đồ thị dóng hàng ba cấp chuyển thành hệ ba quan hệ hồi quy được hiển thị bên dưới. Ở đây, $low_{i, j}$, $middle_{i, j}$ và $upper_{i, j}$, là độ dài của các đường dài nhất từ source đến $(i, j)_{lower}$, $(i, j)_{middle}$ và $(i, j)_{upper}$."
   ]
  },
  {
   "cell_type": "markdown",
   "metadata": {
    "colab_type": "text",
    "id": "rui7fCinLF8N"
   },
   "source": [
    "<a><img src=\"https://imgur.com/t39ZJzX.jpg\" width=\"350\" align=\"center\"> "
   ]
  },
  {
   "cell_type": "code",
   "execution_count": null,
   "metadata": {
    "colab": {},
    "colab_type": "code",
    "id": "Sg8LrsfhLF8N"
   },
   "outputs": [],
   "source": [
    "import numpy as np\n",
    "import pandas as pd\n",
    "from math import inf"
   ]
  },
  {
   "cell_type": "code",
   "execution_count": null,
   "metadata": {
    "colab": {},
    "colab_type": "code",
    "id": "sKMSHqUQLF8O"
   },
   "outputs": [],
   "source": [
    "def get_global_alignment_affine_gap_penalties(v, w, scoring_matrix, sigma, epsilon):\n",
    "    \n",
    "    # Create scoring matrix for v and w. \n",
    "    score = scoring_matrix.loc[list(v), list(w)]\n",
    "    # Create initial backtrack matrix.\n",
    "    back_track_lower = np.array([[0 for j in range(len(w)+1)] for i in range(len(v)+1)])\n",
    "    back_track_middle = np.array([[0 for j in range(len(w)+1)] for i in range(len(v)+1)])\n",
    "    back_track_upper = np.array([[0 for j in range(len(w)+1)] for i in range(len(v)+1)])\n",
    "    # Create initial lower, middle and upper matrix.\n",
    "    lower = np.zeros((len(v) + 1, len(w) + 1))\n",
    "    middle = np.zeros((len(v) + 1, len(w) + 1))\n",
    "    upper = np.zeros((len(v) + 1, len(w) + 1))\n",
    "    \n",
    "    \"\"\"Find left and top edge values of lower, upper, and middle matrix.\n",
    "    We must to ensure that middle[i, 0] equals to lower[i, 0] and middle[0, j] equals to upper[0, j],\n",
    "    exceptly middle[0, 0] equals to 0; lower[0, 0] and upper[0, 0] equal to -infinitive\"\"\" \n",
    "    \n",
    "    lower[1, 0] = -sigma # To ensure that gap opening penalty equals to sigma.\n",
    "    upper[:, 0] = -inf # Because upper only moves in horizontal line.\n",
    "    middle[1, 0] = lower[1, 0]\n",
    "    upper[0, 1] = -sigma # To ensure that gap opening penalty equals to sigma.\n",
    "    lower[0, :] = -inf # Because lower only moves in vertical line.\n",
    "    middle[0, 1] = upper[0, 1]\n",
    "    \n",
    "    for i in range(2, len(v) + 1):\n",
    "        lower[i, 0] = lower[i-1, 0] - epsilon # Gap extension penalty equals to epsilon.\n",
    "        middle[i, 0] = lower[i, 0] \n",
    "    for j in range(2, len(w) + 1):\n",
    "        upper[0, j] = upper[0, j-1] - epsilon # Gap extension penalty equals to epsilon.\n",
    "        middle[0, j] = upper[0, j]\n",
    "    \n",
    "    for i in range(1, len(v) + 1):\n",
    "        for j in range(1, len(w) + 1):\n",
    "            \"\"\"Recurrence relations of three levels. Firstly, we update lower and upper;\n",
    "            finally, we update middle.\"\"\" \n",
    "            lower_scores = [lower[i-1, j] - epsilon, middle[i-1, j] - sigma]\n",
    "            lower[i, j] = max(lower_scores)\n",
    "            back_track_lower[i, j] = np.argmax(lower_scores)\n",
    "            \n",
    "            upper_scores = [upper[i, j-1] - epsilon, middle[i, j-1] - sigma]\n",
    "            upper[i, j] = max(upper_scores)\n",
    "            back_track_upper[i, j] = np.argmax(upper_scores)\n",
    "            \n",
    "            middle_scores = [lower[i, j], middle[i-1, j-1] + score.iloc[i-1, j-1], upper[i, j]]\n",
    "            middle[i, j] = max(middle_scores)\n",
    "            back_track_middle[i, j] = np.argmax(middle_scores)\n",
    "   \n",
    "            n = len(v)\n",
    "            m = len(w)\n",
    "         \n",
    "            matrix_scores = [lower[n, m], middle[n, m], upper[n, m]]\n",
    "            max_score = max(matrix_scores)\n",
    "            back_track_index = np.argmax(matrix_scores)\n",
    "\n",
    "    return(back_track_index, back_track_lower, back_track_middle, back_track_upper, max_score)"
   ]
  },
  {
   "cell_type": "code",
   "execution_count": null,
   "metadata": {
    "colab": {},
    "colab_type": "code",
    "id": "1zEdRFdyLF8P"
   },
   "outputs": [],
   "source": [
    "\"\"\"Output global alignment affine gap penalties\"\"\"\n",
    "def output_global_alignment_affine_gap_penalties(back_track_index, back_track_lower, \n",
    "                                                 back_track_middle, back_track_upper,\n",
    "                                                 v, w, i, j):\n",
    "    lcs = []\n",
    "    if i == 0 or j == 0:\n",
    "        return (\"\")\n",
    "    # Output v, w after alignment\n",
    "    v_ali = []\n",
    "    w_ali = []\n",
    "    \n",
    "    while i > 0 or j > 0:\n",
    "        \n",
    "        if back_track_index == 0: # Lower bactrack matrix\n",
    "            if back_track_lower[i, j] == 1:\n",
    "                back_track_index = 1\n",
    "            v_ali.append(v[i-1])\n",
    "            w_ali.append('-')\n",
    "            i = i - 1\n",
    "            \n",
    "        elif back_track_index == 1: # Middle backtrack matrix\n",
    "            if back_track_middle[i, j] == 0:\n",
    "                back_track_index = 0\n",
    "            elif back_track_middle[i, j] == 2:\n",
    "                back_track_index = 2\n",
    "            else:\n",
    "                lcs.append(v[i-1])\n",
    "                v_ali.append(v[i-1])\n",
    "                w_ali.append(w[j-1])\n",
    "                i = i - 1 \n",
    "                j = j - 1 \n",
    "                \n",
    "        elif back_track_index == 2: # Upper backtrack matrix\n",
    "            if back_track_upper[i, j] == 1:\n",
    "                back_track_index = 1\n",
    "            v_ali.append('-')\n",
    "            w_ali.append(w[j-1])\n",
    "            j = j - 1   \n",
    "        \n",
    "    return(\"\".join(reversed(lcs)), \"\".join(reversed(v_ali)), \"\".join(reversed(w_ali)))"
   ]
  },
  {
   "cell_type": "code",
   "execution_count": null,
   "metadata": {
    "colab": {},
    "colab_type": "code",
    "id": "YqwnYwq9LF8R"
   },
   "outputs": [],
   "source": [
    "v = \"YAFDLGYTCMFPVLLGGGELHIVQKETYTAPDEIAHYIKEHGITYIKLTPSLFHTIVNTASFAFDANFESLRLIVLGGEKIIPIDVIAFRKMYGHTEFINHYGPTE\"\n",
    "w = \"AFDVSAGDFARALLTGGQLIVCPNEVKMDPASLYAIIKKYDITIFEATPALVIPLMEYIYEQKLDISQLQILIVGSDSCSMEDFKTLVSRFGSTIRIVNSYGVTEA\""
   ]
  },
  {
   "cell_type": "code",
   "execution_count": null,
   "metadata": {
    "colab": {},
    "colab_type": "code",
    "id": "hBuG9L9DLF8T",
    "outputId": "cfd96dee-9814-44c0-ca89-e6de5a0933df"
   },
   "outputs": [
    {
     "name": "stdout",
     "output_type": "stream",
     "text": [
      "71.0\n"
     ]
    },
    {
     "data": {
      "text/plain": [
       "('AFDLGYTCMFPVLLGGGELHIVQKETYTAPDEIAHYIKEHGITYIKLTPSLIVNTASFAFDANFESLRLIVLGGEKIIPIDVIAFRKMYGHTEFINHYGPTE',\n",
       " 'YAFDLGYTCMFPVLLGGGELHIVQKETYTAPDEIAHYIKEHGITYIKLTPSLFHTIVNTASFAFDANFE--SLRLIVLGGEKIIPIDVIAFRKMYGHT-EFINHYGPTE-',\n",
       " '-AFDVSAGDFARALLTGGQLIVCPNEVKMDPASLYAIIKKYDITIFEATPAL---VIPLMEYIYEQKLDISQLQILIVGSDSCSMEDFKTLVSRFGSTIRIVNSYGVTEA')"
      ]
     },
     "execution_count": 316,
     "metadata": {
      "tags": []
     },
     "output_type": "execute_result"
    }
   ],
   "source": [
    "back_track_index, back_track_lower, back_track_middle, back_track_upper, score = get_global_alignment_affine_gap_penalties(v, w, scoring_matrix_blosum62, 11, 1)\n",
    "print(score)\n",
    "output_global_alignment_affine_gap_penalties(back_track_index, back_track_lower, \n",
    "                                             back_track_middle, back_track_upper,\n",
    "                                             v, w, len(v), len(w)\n",
    "                                             )"
   ]
  },
  {
   "cell_type": "markdown",
   "metadata": {
    "colab_type": "text",
    "id": "NQKZXeIELF8V"
   },
   "source": [
    "#### 5.3 Affine gap penalty for local alignment<a name = \"affine_local\"></a>"
   ]
  },
  {
   "cell_type": "markdown",
   "metadata": {
    "colab_type": "text",
    "id": "t7Na0gsZLF8V"
   },
   "source": [
    "Cũng giống như local alignment được trình bày ở phần trước, ta đưa thêm điều kiện 0 vào trong các quan hệ đệ quy của lower, middle, và upper. Điều này tương ứng với việc thêm các cạnh với trọng số bằng 0 vào 3 ma trận lower, middle, và upper. Điểm cuối của free taxi trên đoạn đầu tiên được xác định khi score bằng 0, đây cũng là điểm kết thúc của flank area đầu tiên tính từ source. Điểm cuối của local alignment được xác định khi element score đạt giá trị lớn nhất trên bất kì ma trận nào trong ba ma trận kể trên. Khác với global alignment affine gap penalty, ở đây chúng ta sẽ đặt giá trị của các nút trên các cạnh trái đầu tiên và trên cùng của cả ba đồ thị bằng 0. "
   ]
  },
  {
   "cell_type": "markdown",
   "metadata": {
    "colab_type": "text",
    "id": "PfxIfFCPLF8W"
   },
   "source": [
    "<a><img src=\"https://imgur.com/1UloYUv.jpg\" width=\"350\" align=\"center\"> "
   ]
  },
  {
   "cell_type": "code",
   "execution_count": null,
   "metadata": {
    "colab": {},
    "colab_type": "code",
    "id": "WjQQZBVQLF8Y"
   },
   "outputs": [],
   "source": [
    "def get_local_alignment_affine_gap_penalties(v, w, scoring_matrix, sigma, epsilon):\n",
    "    \n",
    "    # Create scoring matrix for v and w. \n",
    "    score = scoring_matrix.loc[list(v), list(w)]\n",
    "    # Create initial backtrack matrix.\n",
    "    back_track_lower = np.array([[0 for j in range(len(w)+1)] for i in range(len(v)+1)])\n",
    "    back_track_middle = np.array([[0 for j in range(len(w)+1)] for i in range(len(v)+1)])\n",
    "    back_track_upper = np.array([[0 for j in range(len(w)+1)] for i in range(len(v)+1)])\n",
    "    # Create initial lower, middle and upper matrix.\n",
    "    lower = np.zeros((len(v) + 1, len(w) + 1))\n",
    "    middle = np.zeros((len(v) + 1, len(w) + 1))\n",
    "    upper = np.zeros((len(v) + 1, len(w) + 1))\n",
    "    \n",
    "    \"\"\"Find left and top edge values of lower, upper, and middle matrix.\n",
    "    We must to ensure that middle[i, 0] equals to lower[i, 0] and middle[0, j] equals to upper[0, j],\n",
    "    exceptly middle[0, 0] equals to 0; lower[0, 0] and upper[0, 0] equal to -infinitive\"\"\" \n",
    "    \n",
    "    #lower[1, 0] = -sigma # To ensure that gap opening penalty equals to sigma.\n",
    "    upper[:, 0] = -inf # Because upper only moves in horizontal line.\n",
    "    #middle[1, 0] = lower[1, 0]\n",
    "    #upper[0, 1] = -sigma # To ensure that gap opening penalty equals to sigma.\n",
    "    lower[0, :] = -inf # Because lower only moves in vertical line.\n",
    "    #middle[0, 1] = upper[0, 1]\n",
    "    \n",
    "    #for i in range(2, len(v) + 1):\n",
    "        #lower[i, 0] = lower[i-1, 0] - epsilon # Gap extension penalty equals to epsilon.\n",
    "        #middle[i, 0] = lower[i, 0] \n",
    "    #for j in range(2, len(w) + 1):\n",
    "        #upper[0, j] = upper[0, j-1] - epsilon # Gap extension penalty equals to epsilon.\n",
    "        #middle[0, j] = upper[0, j]\n",
    "    \n",
    "    for i in range(1, len(v) + 1):\n",
    "        for j in range(1, len(w) + 1):\n",
    "            \"\"\"Recurrence relations of three levels. Firstly, we update lower and upper;\n",
    "            finally, we update middle.\"\"\" \n",
    "            lower_scores = [lower[i-1, j] - epsilon, middle[i-1, j] - sigma, 0]\n",
    "            lower[i, j] = max(lower_scores)\n",
    "            back_track_lower[i, j] = np.argmax(lower_scores)\n",
    "            \n",
    "            upper_scores = [upper[i, j-1] - epsilon, middle[i, j-1] - sigma, 0]\n",
    "            upper[i, j] = max(upper_scores)\n",
    "            back_track_upper[i, j] = np.argmax(upper_scores)\n",
    "            \n",
    "            middle_scores = [lower[i, j], middle[i-1, j-1] + score.iloc[i-1, j-1], upper[i, j], 0]\n",
    "            middle[i, j] = max(middle_scores)\n",
    "            back_track_middle[i, j] = np.argmax(middle_scores)\n",
    "            \n",
    "    \"\"\"Find substring of v and w\"\"\"\n",
    "    # Maximum score in three matrix\n",
    "    score_lower = np.amax(lower) \n",
    "    score_middle = np.amax(middle)\n",
    "    score_upper = np.amax(upper)\n",
    "    \n",
    "    # Find the matrix that has max score element.\n",
    "    matrices = [lower, middle, upper]\n",
    "    matrix_scores = [score_lower, score_middle, score_upper]\n",
    "    max_score = max(matrix_scores)\n",
    "    back_track_index = np.argmax(matrix_scores)\n",
    "    \n",
    "    # Find suffix of v and w.\n",
    "    index = np.where(matrices[back_track_index] == max_score)\n",
    "    end_v = index[0][0] \n",
    "    end_w = index[1][0]\n",
    "  \n",
    "    return(back_track_index, back_track_lower, back_track_middle, back_track_upper, end_v, end_w, max_score)"
   ]
  },
  {
   "cell_type": "code",
   "execution_count": null,
   "metadata": {
    "colab": {},
    "colab_type": "code",
    "id": "iGgGvcc3LF8a"
   },
   "outputs": [],
   "source": [
    "\"\"\"Output global alignment affine gap penalties\"\"\"\n",
    "def output_local_alignment_affine_gap_penalties(back_track_index, back_track_lower, \n",
    "                                                 back_track_middle, back_track_upper,\n",
    "                                                 v, w, i, j):\n",
    "    lcs = []\n",
    "    if i == 0 or j == 0:\n",
    "        return (\"\")\n",
    "    # Output v, w after alignment\n",
    "    v_ali = []\n",
    "    w_ali = []\n",
    "    \n",
    "    while i> 0 and j > 0:\n",
    "        \n",
    "        if back_track_index == 0: # Lower bactrack matrix\n",
    "            if back_track_lower[i, j] == 1:\n",
    "                back_track_index = 1\n",
    "            elif back_track_lower[i, j] == 2:\n",
    "                break\n",
    "            v_ali.append(v[i-1])\n",
    "            w_ali.append('-')\n",
    "            i = i - 1\n",
    " \n",
    "        elif back_track_index == 1: # Middle backtrack matrix\n",
    "            if back_track_middle[i, j] == 0:\n",
    "                back_track_index = 0\n",
    "            elif back_track_middle[i, j] == 2:\n",
    "                back_track_index = 2\n",
    "            elif back_track_middle[i, j] == 3:\n",
    "                break\n",
    "            else:\n",
    "                lcs.append(v[i-1])\n",
    "                v_ali.append(v[i-1])\n",
    "                w_ali.append(w[j-1])\n",
    "                i = i - 1 \n",
    "                j = j - 1 \n",
    "\n",
    "        elif back_track_index == 2: # Upper backtrack matrix\n",
    "            if back_track_upper[i, j] == 1:\n",
    "                back_track_index = 1\n",
    "            elif back_track_upper[i, j] == 2:\n",
    "                break\n",
    "            v_ali.append('-')\n",
    "            w_ali.append(w[j-1])\n",
    "            j = j - 1\n",
    "\n",
    "    return(\"\".join(reversed(lcs)), \"\".join(reversed(v_ali)), \"\".join(reversed(w_ali)))"
   ]
  },
  {
   "cell_type": "code",
   "execution_count": null,
   "metadata": {
    "colab": {},
    "colab_type": "code",
    "id": "v_SmFvkQLF8e"
   },
   "outputs": [],
   "source": [
    "v = \"YAFDLGYTCMFPVLLGGGELHIVQKETYTAPDEIAHYIKEHGITYIKLTPSLFHTIVNTASFAFDANFESLRLIVLGGEKIIPIDVIAFRKMYGHTEFINHYGPTE\"\n",
    "w = \"AFDVSAGDFARALLTGGQLIVCPNEVKMDPASLYAIIKKYDITIFEATPALVIPLMEYIYEQKLDISQLQILIVGSDSCSMEDFKTLVSRFGSTIRIVNSYGVTEA\""
   ]
  },
  {
   "cell_type": "code",
   "execution_count": null,
   "metadata": {
    "colab": {},
    "colab_type": "code",
    "id": "T24-eRv2LF8f",
    "outputId": "cc45e8c3-7841-4207-d7ae-49b317e3585b"
   },
   "outputs": [
    {
     "name": "stdout",
     "output_type": "stream",
     "text": [
      "93.0\n"
     ]
    },
    {
     "data": {
      "text/plain": [
       "('AFDLGYTCMFPVLLGGGELHIVQKETYTAPDEIAHYIKEHGITYIKLTPSLIVNTASFAFDANFESLRLIVLGGEKIIPIDVIAFRKMYGHTEFINHYGPTE',\n",
       " 'AFDLGYTCMFPVLLGGGELHIVQKETYTAPDEIAHYIKEHGITYIKLTPSLFHTIVNTASFAFDANFE--SLRLIVLGGEKIIPIDVIAFRKMYGHT-EFINHYGPTE',\n",
       " 'AFDVSAGDFARALLTGGQLIVCPNEVKMDPASLYAIIKKYDITIFEATPAL---VIPLMEYIYEQKLDISQLQILIVGSDSCSMEDFKTLVSRFGSTIRIVNSYGVTE')"
      ]
     },
     "execution_count": 320,
     "metadata": {
      "tags": []
     },
     "output_type": "execute_result"
    }
   ],
   "source": [
    "back_track_index, back_track_lower, back_track_middle, back_track_upper, end_v, end_w, max_score = get_local_alignment_affine_gap_penalties(v, w, scoring_matrix_blosum62, 11, 1)\n",
    "print(max_score)\n",
    "output_local_alignment_affine_gap_penalties(back_track_index, back_track_lower, \n",
    "                                            back_track_middle, back_track_upper,\n",
    "                                            v, w, end_v, end_w)"
   ]
  },
  {
   "cell_type": "markdown",
   "metadata": {
    "colab_type": "text",
    "id": "yUtpIucHLF8k"
   },
   "source": [
    "### 6 Space-Efficient Sequence Alignment<a name = \"space-efficient\"></a>"
   ]
  },
  {
   "cell_type": "markdown",
   "metadata": {
    "colab_type": "text",
    "id": "taGugFhdLF8k"
   },
   "source": [
    "Thời gian chạy của thuật toán lập trình động để dóng hàng hai chuỗi có độ dài n và m tỷ lệ thuận với số cạnh trong đồ thị dóng hàng của chúng, là $\\mathcal{O} (n · m)$. Vì chúng ta cần lưu trữ các tham chiếu quay lui nên bộ nhớ được yêu cầu bởi thuật toán này cũng là $\\mathcal{O} (n · m)$. Bây giờ chúng ta sẽ xây dựng một dóng hàng chỉ với không gian lưu trữ  $\\mathcal{O} (n)$ với chi phí gấp đôi thời gian chạy (có nghĩa là thời gian chạy vẫn là $\\mathcal{O} (n · m)$). Trong phần này, để đơn giản, chúng ta sẽ xem xét trường hợp global alignment với non-affine gap penalties, tức là các ký tự \"-\" trong một gap bị phạt giống nhau -$\\sigma$.\n",
    "\n",
    "Thuật toán chia để trị thường được áp dụng khi lời giải của một bài toán lớn được xây dựng từ các lời giải của các bài toán nhỏ hơn. Một chiến lược như vậy tiến hành trong hai giai đoạn. Giai đoạn phân chia một bài toán thành các trường hợp nhỏ hơn và giải quyết chúng; giai đoạn chinh phục kết hợp các lời giải nhỏ hơn thành một lời giải cho bài toán ban đầu."
   ]
  },
  {
   "cell_type": "markdown",
   "metadata": {
    "colab_type": "text",
    "id": "ParO3gZ6LF8l"
   },
   "source": [
    "Trước khi tiến hành chia để trị chúng ta phải thiết kết một thuật toán để không gian lưu trữ chỉ là $\\mathcal{O}(n)$. Nếu trong các thuật toán trước, để tìm một LCS ta cần lưu tất cả score tại các nút của ma trận score thì nay ta chỉ lưu các score này tại hai cột liên tiếp nhau j và j + 1, các score của các cột ở trước j sẽ không được lưu. Như vậy, không gian lưu trữ giờ chỉ là hai lần số nút của một cột, tức là $\\mathcal{O}(n)$. Các con trỏ quay lui lúc này cũng chỉ được lưu từ cột j đến cột j + 1 và không gian lưu trữ cũng chỉ là $\\mathcal{O}(n)$. "
   ]
  },
  {
   "cell_type": "markdown",
   "metadata": {
    "colab_type": "text",
    "id": "F__R3FhJLF8l"
   },
   "source": [
    "<a><img src=\"https://imgur.com/nXN77xq.jpg\" width=\"600\" align=\"center\"> "
   ]
  },
  {
   "cell_type": "markdown",
   "metadata": {
    "colab_type": "text",
    "id": "NCQ-1Xw2LF8l"
   },
   "source": [
    "#### 6.1 Bài toán tìm cạnh giữa (giai đoạn chia) <a name = \"middle_edge\"></a>"
   ]
  },
  {
   "cell_type": "markdown",
   "metadata": {
    "colab_type": "text",
    "id": "JwMyfEuCLF8m"
   },
   "source": [
    "Cho các chuỗi $v = v_1 ... v_n$ và $w = w_1 ... w_m$, ta đặt middle = [m / 2]. Cột giữa của AlignGraph (v, w) là cột chứa tất cả các nút (i, middle) với $0 \\leq i \\leq n$. Đường dài nhất từ source đến sink trong đồ thị dóng hàng phải đi qua nút giao của cột giữa này và một hàng nào đó và nhiệm vụ đầu tiên của chúng ta là tìm ra nút này mà chỉ sử dụng $\\mathcal{O}(n)$ bộ nhớ. Trong hình bên dưới, middle = 3 và đường dóng hàng tối ưu đi qua cột giữa tại nút giữa (4, 3).\n",
    "\n",
    "Chúng ta có thể tìm thấy nút giữa mà LCS đi qua mà không phải xây dựng đường này này trong đồ thị dóng hàng. Gọi một đường từ source tới sink là đường i nếu nó đi qua cột giữa ở hàng i. Ví dụ: đường được tô sáng bên dưới là đường 4 vì nó đi qua cột giữa ở hàng 4. Đối với các i trong khoảng từ 0 đến n, chúng ta sẽ tìm độ dài của đường i dài nhất."
   ]
  },
  {
   "cell_type": "markdown",
   "metadata": {
    "colab_type": "text",
    "id": "9KTwkM0ULF8m"
   },
   "source": [
    "<a><img src=\"https://imgur.com/H6zJmhu.jpg\" width=\"400\" align=\"center\"> "
   ]
  },
  {
   "cell_type": "markdown",
   "metadata": {
    "colab_type": "text",
    "id": "Hr543-fKLF8m"
   },
   "source": [
    "Nhận thấy rằng các đường đi từ source đến sink trong đồ thị dóng hàng sẽ chỉ đi qua phần trên bên trái của nút giữa và phần dưới bên phải của nút giữa. Do đó, ta sẽ tiếp tục tìm các nút giữa trong hai phần này của đồ thị, quá trình tiếp tục đến khi không thể phân chia thành các phần nhỏ hơn."
   ]
  },
  {
   "cell_type": "markdown",
   "metadata": {
    "colab_type": "text",
    "id": "wMFQNLkhLF8n"
   },
   "source": [
    "<a><img src=\"https://imgur.com/r1QRb7w.jpg\" width=\"600\" align=\"center\"> "
   ]
  },
  {
   "cell_type": "markdown",
   "metadata": {
    "colab_type": "text",
    "id": "H2yv3pEgLF8o"
   },
   "source": [
    "Thời gian tính toán của thuật toán chính bằng tổng diện tích của các phần chia:$$n.m+\\dfrac{n.m}{2}+\\dfrac{n.m}{4}+...<2.n.m = \\mathcal{O}(n.m)$$"
   ]
  },
  {
   "cell_type": "markdown",
   "metadata": {
    "colab_type": "text",
    "id": "TVNbFcdxLF8o"
   },
   "source": [
    "Kết hợp với việc tìm nút giữa (middle node) ta có thể tìm luôn cạnh giữa (middle edge) thuộc LCS xuất phát từ nút giữa này. \n",
    "Khi tìm thấy cạnh giữa, chúng ta lại thấy hai hình chữ nhật mà qua đó LCS phải đi ở hai bên của cạnh giữa. Bây giờ hai hình chữ nhật này chiếm ít hơn một nửa diện tích của đồ thị dóng hàng (xem hình bên dưới), đó là một lợi thế của việc chọn cạnh giữa thay vì nút giữa."
   ]
  },
  {
   "cell_type": "markdown",
   "metadata": {
    "colab_type": "text",
    "id": "cqlbisKtLF8o"
   },
   "source": [
    "<a><img src=\"https://imgur.com/dNtTm0k.jpg\" width=\"600\" align=\"center\"> "
   ]
  },
  {
   "cell_type": "markdown",
   "metadata": {
    "colab_type": "text",
    "id": "UER9MseALF8p"
   },
   "source": [
    "6.2 Linear Space Alignment (giai đoạn trị) <a name = \"linear-space\"></a>"
   ]
  },
  {
   "cell_type": "markdown",
   "metadata": {
    "colab_type": "text",
    "id": "eOzkQvR1LF8p"
   },
   "source": [
    "Chúng ta sẽ xây dựng cách tìm đệ quy một đường dẫn dài nhất trong đồ thị dóng hàng được xây dựng cho một chuỗi con $v_{top }$ ... $v_{bottom}$ của v và một chuỗi con $w_{left}$ ... $w_{right}$ của w. Hàm GetMiddleEdge(top, bottom, left, right) được thiết kế để trả về tọa độ i của nút giữa (middle node) (i, j) và cạnh giữa (middle edge) được xác định bởi các chuỗi $v_{top}$ ... $v_{bottom}$ và $w_{left}$ ... $w_{right}$ , các cạnh giữa có hướng là →, ↓ hoặc ↘ tùy thuộc vào việc cạnh giữa là ngang, dọc hoặc chéo. Dóng hàng không gian tuyến tính của chuỗi v và w được xây dựng bằng cách gọi hàm GetLinearSpaceAlignment (0, n, 0, m). Trường hợp left = right mô tả alignment của một chuỗi trống so với chuỗi $v_{top}$...$v_{bottom}$, trường hợp top = bottom mô tả alignment của một chuỗi trống so với chuỗi $w_{left}$ ... $w_{right}$. Hình dưới đây mô tả quá trình đệ quy để xây dựng global alignment của hai chuỗi v = PLEASANTLY và w = MEANLY. "
   ]
  },
  {
   "cell_type": "markdown",
   "metadata": {
    "colab_type": "text",
    "id": "sF9ht7EWLF8p"
   },
   "source": [
    "<a><img src=\"https://imgur.com/6YAo3t2.jpg\" width=\"800\" align=\"center\"> "
   ]
  },
  {
   "cell_type": "code",
   "execution_count": null,
   "metadata": {
    "colab": {},
    "colab_type": "code",
    "id": "EVrrEZA0LF8p"
   },
   "outputs": [],
   "source": [
    "import numpy as np\n",
    "import pandas as pd"
   ]
  },
  {
   "cell_type": "markdown",
   "metadata": {
    "colab_type": "text",
    "id": "oroLBMWDLF8q"
   },
   "source": [
    "Thực tế khi chạy chương trình nếu sử dụng data frame của pandas thời gian chạy sẽ lâu hơn, do đó chúng ta chuyển scoring matrix về dạng dictionary, các score sẽ được truy xuất từ các kí tự. Dưới đây là dạng dictionary của  scoring matrix BLOSUM62."
   ]
  },
  {
   "cell_type": "code",
   "execution_count": 37,
   "metadata": {
    "colab": {},
    "colab_type": "code",
    "id": "7KQ2re_QLF8r"
   },
   "outputs": [],
   "source": [
    "BLOSUM62={'A': {'A': 4, 'C': 0, 'E': -1, 'D': -2, 'G': 0, 'F': -2, 'I': -1, 'H': -2, 'K': -1, 'M': -1, 'L': -1, 'N': -2, 'Q': -1, 'P': -1, 'S': 1, 'R': -1, 'T': 0,  'W': -3, 'V': 0, 'Y': -2},\n",
    "\n",
    "          'C': {'A': 0, 'C': 9, 'E': -4, 'D': -3, 'G': -3, 'F': -2, 'I': -1, 'H': -3, 'K': -3, 'M': -1, 'L': -1, 'N': -3, 'Q': -3, 'P': -3, 'S': -1, 'R': -3, 'T': -1, 'W': -2, 'V': -1, 'Y': -2},\n",
    "\n",
    "          'E': {'A': -1, 'C': -4, 'E': 5, 'D': 2, 'G': -2, 'F': -3, 'I': -3, 'H': 0, 'K': 1, 'M': -2, 'L': -3, 'N': 0, 'Q': 2, 'P': -1, 'S': 0, 'R': 0, 'T': -1, 'W': -3, 'V': -2, 'Y': -2},\n",
    "\n",
    "          'D': {'A': -2, 'C': -3, 'E': 2, 'D': 6, 'G': -1, 'F': -3, 'I': -3, 'H': -1, 'K': -1, 'M': -3, 'L': -4, 'N': 1, 'Q': 0, 'P': -1, 'S': 0, 'R': -2, 'T': -1,  'W': -4, 'V': -3, 'Y': -3},\n",
    "\n",
    "          'G': {'A': 0, 'C': -3, 'E': -2, 'D': -1, 'G': 6, 'F': -3, 'I': -4, 'H': -2, 'K': -2, 'M': -3, 'L': -4, 'N': 0, 'Q': -2, 'P': -2, 'S': 0, 'R': -2, 'T': -2, 'W': -2, 'V': -3, 'Y': -3},\n",
    "\n",
    "          'F': {'A': -2, 'C': -2, 'E': -3, 'D': -3, 'G': -3, 'F': 6, 'I': 0, 'H': -1, 'K': -3, 'M': 0, 'L': 0, 'N': -3, 'Q': -3, 'P': -4, 'S': -2, 'R': -3, 'T': -2, 'W': 1, 'V': -1, 'Y': 3},\n",
    "\n",
    "          'I': {'A': -1, 'C': -1, 'E': -3, 'D': -3, 'G': -4, 'F': 0, 'I': 4, 'H': -3, 'K': -3, 'M': 1, 'L': 2, 'N': -3, 'Q': -3, 'P': -3, 'S': -2, 'R': -3, 'T': -1, 'W': -3, 'V': 3, 'Y': -1},\n",
    "\n",
    "          'H': {'A': -2, 'C': -3, 'E': 0, 'D': -1, 'G': -2, 'F': -1, 'I': -3, 'H': 8, 'K': -1, 'M': -2, 'L': -3, 'N': 1, 'Q': 0, 'P': -2, 'S': -1, 'R': 0, 'T': -2, 'W': -2, 'V': -3, 'Y': 2},\n",
    "\n",
    "          'K': {'A': -1, 'C': -3, 'E': 1, 'D': -1, 'G': -2, 'F': -3, 'I': -3, 'H': -1, 'K': 5, 'M': -1, 'L': -2, 'N': 0, 'Q': 1, 'P': -1, 'S': 0, 'R': 2, 'T': -1,  'W': -3, 'V': -2, 'Y': -2},\n",
    "\n",
    "          'M': {'A': -1, 'C': -1, 'E': -2, 'D': -3, 'G': -3, 'F': 0, 'I': 1, 'H': -2, 'K': -1, 'M': 5, 'L': 2, 'N': -2, 'Q': 0, 'P': -2, 'S': -1, 'R': -1, 'T': -1,  'W': -1, 'V': 1, 'Y': -1},\n",
    "\n",
    "          'L': {'A': -1, 'C': -1, 'E': -3, 'D': -4, 'G': -4, 'F': 0, 'I': 2, 'H': -3, 'K': -2, 'M': 2, 'L': 4, 'N': -3, 'Q': -2, 'P': -3, 'S': -2, 'R': -2, 'T': -1,  'W': -2, 'V': 1, 'Y': -1},\n",
    "\n",
    "          'N': {'A': -2, 'C': -3, 'E': 0, 'D': 1, 'G': 0, 'F': -3, 'I': -3, 'H': 1, 'K': 0, 'M': -2, 'L': -3, 'N': 6, 'Q': 0, 'P': -2, 'S': 1, 'R': 0, 'T': 0, 'W': -4, 'V': -3, 'Y': -2},\n",
    "\n",
    "          'Q': {'A': -1, 'C': -3, 'E': 2, 'D': 0, 'G': -2, 'F': -3, 'I': -3, 'H': 0, 'K': 1, 'M': 0, 'L': -2, 'N': 0, 'Q': 5, 'P': -1, 'S': 0, 'R': 1, 'T': -1, 'W': -2,'V': -2, 'Y': -1},\n",
    "\n",
    "          'P': {'A': -1, 'C': -3, 'E': -1, 'D': -1, 'G': -2, 'F': -4, 'I': -3, 'H': -2, 'K': -1, 'M': -2, 'L': -3, 'N': -2, 'Q': -1, 'P': 7, 'S': -1, 'R': -2, 'T':  -1, 'W': -4, 'V': -2, 'Y': -3},\n",
    "\n",
    "          'S': {'A': 1, 'C': -1, 'E': 0, 'D': 0, 'G': 0, 'F': -2, 'I': -2, 'H': -1, 'K': 0, 'M': -1, 'L': -2, 'N': 1, 'Q': 0, 'P': -1, 'S': 4, 'R': -1, 'T': 1, 'W': -3, 'V': -2, 'Y': -2},\n",
    "\n",
    "          'R': {'A': -1, 'C': -3, 'E': 0, 'D': -2, 'G': -2, 'F': -3, 'I': -3, 'H': 0, 'K': 2, 'M': -1, 'L': -2, 'N': 0, 'Q': 1, 'P': -2, 'S': -1, 'R': 5, 'T': -1,  'W': -3, 'V': -3, 'Y': -2},\n",
    "\n",
    "          'T': {'A': 0, 'C': -1, 'E': -1, 'D': -1, 'G': -2, 'F': -2, 'I': -1, 'H': -2, 'K': -1, 'M': -1, 'L': -1, 'N': 0, 'Q': -1, 'P': -1, 'S': 1, 'R': -1, 'T': 5,  'W': -2, 'V': 0, 'Y': -2},\n",
    "\n",
    "          'W': {'A': -3, 'C': -2, 'E': -3, 'D': -4, 'G': -2, 'F': 1, 'I': -3, 'H': -2, 'K': -3, 'M': -1, 'L': -2, 'N': -4, 'Q': -2, 'P': -4, 'S': -3, 'R': -3, 'T': -2, 'W': 11, 'V': -3, 'Y': 2},\n",
    "\n",
    "          'V': {'A': 0, 'C': -1, 'E': -2, 'D': -3, 'G': -3, 'F': -1, 'I': 3, 'H': -3, 'K': -2, 'M': 1, 'L': 1, 'N': -3, 'Q': -2, 'P': -2, 'S': -2, 'R': -3, 'T': 0, 'W': -3, 'V': 4, 'Y': -1},\n",
    "\n",
    "          'Y': {'A': -2, 'C': -2, 'E': -2, 'D': -3, 'G': -3, 'F': 3, 'I': -1, 'H': 2, 'K': -2, 'M': -1, 'L': -1, 'N': -2, 'Q': -1, 'P': -3, 'S': -2, 'R': -2, 'T':  -2, 'W': 2, 'V': -1, 'Y': 7}}"
   ]
  },
  {
   "cell_type": "code",
   "execution_count": null,
   "metadata": {
    "colab": {},
    "colab_type": "code",
    "id": "WrqlUDm2LF8s"
   },
   "outputs": [],
   "source": [
    "# Get column scores with space O(n)\n",
    "def get_column_scores(v, w, scoring_matrix, sigma, col):\n",
    "        \n",
    "    n = len(v)\n",
    "    m = len(w)\n",
    "    s = np.zeros((n + 1, 2))\n",
    "    back_track = [0]*(n + 1)\n",
    "    \n",
    "    score = scoring_matrix\n",
    "    # Get values of nodes that is in side edges of matrix s  \n",
    "    for i in range(1, n + 1):\n",
    "        s[i, 0] = s[i-1, 0] - sigma\n",
    "    s[0, 1] = -sigma\n",
    " \n",
    "    for j in range(1, col):\n",
    "        for i in range (1, n + 1):\n",
    "            # Recurrent algorithm for s before the last columns\n",
    "            s[i, 1] = max(s[i-1, 1] - sigma, \n",
    "                          s[i, 0] - sigma, \n",
    "                          s[i-1, 0] + score[v[i-1]][w[j-1]])\n",
    "         \n",
    "        s[:, 0] = s[:, 1]\n",
    "        s[0, 1] = s[0, 1] - sigma\n",
    "    # Recurrent algorithm for s at the last columns   \n",
    "    for i in range(1, n + 1):\n",
    "        s[i, 1] = max(s[i-1, 1] - sigma, \n",
    "                      s[i, 0] - sigma, \n",
    "                      s[i-1, 0] + score[v[i-1]][w[col-1]])\n",
    "        \n",
    "        if s[i, 1] == s[i-1, 1] - sigma:\n",
    "            back_track[i] = \"d\"\n",
    "        elif s[i, 1] == s[i, 0] - sigma:\n",
    "            back_track[i] = \"r\"\n",
    "        else:\n",
    "            back_track[i] = \"m\"\n",
    "         \n",
    "    return(s, back_track)"
   ]
  },
  {
   "cell_type": "code",
   "execution_count": null,
   "metadata": {
    "colab": {},
    "colab_type": "code",
    "id": "6Q-6C9ULLF8t"
   },
   "outputs": [],
   "source": [
    "def get_middle_column(w):\n",
    "    m = len(w)\n",
    "    middle_from_source = int(m/2)\n",
    "    middle_from_sink = m - middle_from_source\n",
    "    return(middle_from_source , middle_from_sink)"
   ]
  },
  {
   "cell_type": "code",
   "execution_count": null,
   "metadata": {
    "colab": {},
    "colab_type": "code",
    "id": "M6Ymka1BLF8u"
   },
   "outputs": [],
   "source": [
    "def get_middle_edge(v, w, scoring_matrix, sigma, top, bottom, left, right):\n",
    "    # Get subsequence of v and w.    \n",
    "    v = v[top:bottom]\n",
    "    w = w[left:right]\n",
    "    # Find middle of the alignment graph.\n",
    "    middle_from_source, middle_from_sink = get_middle_column(w)\n",
    "    score_from_source, _ = get_column_scores(v, w, scoring_matrix, sigma, middle_from_source)\n",
    "    score_from_sink, back_track = get_column_scores(v[::-1], w[::-1], scoring_matrix, sigma, middle_from_sink)\n",
    "    # Max score\n",
    "    max_score = max(score_from_source[:, 1] + score_from_sink[::-1][:, 1])\n",
    "    # Row of middle node\n",
    "    i_middle = np.argmax(score_from_source[:, 1] + score_from_sink[::-1][:, 1])\n",
    "    # Backtrack control of right side.\n",
    "    control = back_track[::-1][i_middle]\n",
    "    # Find middle edge basing on backtrack control.\n",
    "    if control == \"d\":\n",
    "        i_next = i_middle + 1\n",
    "        middle_node = (i_middle + top, middle_from_source + left)    \n",
    "        middle_next = (i_next + top, middle_from_source  + left)\n",
    "    elif control == \"r\":\n",
    "        i_next = i_middle\n",
    "        middle_node = (i_middle + top, middle_from_source + left)    \n",
    "        middle_next = (i_next + top, middle_from_source + 1 + left)\n",
    "    else:\n",
    "        i_next = i_middle + 1\n",
    "        middle_node = (i_middle + top, middle_from_source + left)    \n",
    "        middle_next = (i_next + top, middle_from_source + 1 + left)\n",
    "        \n",
    "    return ((middle_node, middle_next), control, max_score)"
   ]
  },
  {
   "cell_type": "code",
   "execution_count": null,
   "metadata": {
    "colab": {},
    "colab_type": "code",
    "id": "iNFgj02dLF8v"
   },
   "outputs": [],
   "source": [
    "v = \"MDCIQAKQFFMYTEYFRTGLAQFRNAPAQIAMRGSYTWSCMFVVFMVVWQWQIVATMWLPNMSAFMITFHSMEAICYVNVPMNSKDMSVQQQRNDWCQSFYSTSMISDDHFHDPSFPFFLQFHEDLRRICEILAEINKSQNGGKYYDIIVWHCAHMYTNETNTHTLRPWMTITSNGGVNAWQKQGISKLWEYHAPDSYIELHPHEAEEGTNFTVAQAIYNSTEQHYCEEWCAISHLIPREWMQASPSPPFEYHQFWWDWNLPYLGSADVMMTQMYKSDKDNHVDTLIWKWQKAAKIPWPWHKFVEGDTSWWHCIWVATIMMNICWINSFHMNDFEVGNQPYHQGCWCNTWPPVWKGWTDLHKSASMPTYCHCWWYVLRMPEWVAPQFFDRNARVQRKWHWMMACFTVNWDWMVAELATDYAYSWMIQSRYMAAGRAAYYWNWPEMEYCLYTSMCTYIIVKHVNTWWDCFDSRYMSCKWADCTAIQEDKPVRRYHWTPLKATQNGPYFFFCAKATNNQKSSAKLWYFHPVFFCGDKALNVAAPVTCCLFGGNRAICYYNCYCNWNQTMMPFFFATPWQHGKATYSDMADLYYREDFVEVSFKLMFFGGQRPKMGPTEDDQEWIIRWMCTDKERNWNFFARKPIWCPNELMDCSFYPVDSGMAQYVTVTDCPMAPMVIMGWHHKHKVESDNNHSAAFKTIRPIEDRVFHLYECGYNISRTPFEELRRHVCCHCTCDGQNYMARWNKCIVCRERRKHTEYEVRVIVSMYWRHRHIVAPFPHTDAYNWYYYMPMHNWYFKAIYRPHSLLSRQFPMLNKTQQSYHTDCMYEDPNLFFINMQGMQTYSTRMFQLMAAMNLMCCIDCDKYQFTMAWCHLRIECSKPAKHQYRHQPASVCKLPWNTNHDDAEPQVIWDPWCLGNTASCITSGNACREEIEADKEWMYHMLVRQSYEWCKLNPTRQVFTMRNRLDNQTYPMTCCPASGMETESFLSLQSKAQLFCNINYLFSKFIHVWHEDLVAEGKLESNAQNDKFNFHIWCS\"\n",
    "w = \"RCGQELNRWTEGCQNKDHLRIYWDSHKFRQQHGMEKFIGFRPEDGKCSHYEAILTRANMSSPEGYWKRYWRLNGFEHIVIIDLDYSHEHTGHWSIGMVACHQRNSKPIEWMLVTDYCRQKGKKYPVWWRHSHHPKRKIGWSDSTVVEATTGHMFLFVQQKQQTGAGVDPNDAHGHHVLVRGNVPPDSKSMAHFLSGKGANVCTGLRPMHWFWPSGQYTEWWYWRKYDIVQGPGMTDSMDQIYFWEAGIHHWQKFWMGKQHDNNTGASFKPKAWYWGFKVEYCRFDKQLWSMFMKGPIQERKCNIKWCWQYEENQCQWGEFCDFWDHGHFEEKQFTCNFIDCSPMIGVPNFHCGRHTAKLMGVVYEKNLYNRRKSLYPVLYLEKYCYEREYIQYISDMTKMSPLIWFACKTLKMTFKHYEVMAMCSMMQLCHVYDVIAECCPWILNEEHQLTSMVNTQIRKDSRYVSMTDMCSDDKKADCAHFFEVPRPEAMGMACMDCKDEDKRRAYWTDRRSHWTPLKATQNGWYFFVINVHFFCKSSAKNWYFHPVFVCGNIAVKALNVAAPVTACLFACNRAICYYNTMMPPFFATPWQHGKATYPDSGYDRRPSIPVDDMLWEHRNMTKHMLGFWKSCDWHMHQGFKCEKCVLTVDEIGQVIFKHLARPQEVFRVKLCNIAGYWYHWPHNKMLTEKLDEFTVIPVDPTIEEGQACFWIPYVESMCKTADQLRQLGEEMVLNACQYHEEKIAVIDPVKNYPVPVMQQTFHHINNICCHKAPCWMHNKAIGYVKVQTLSKWCKHCIHMKHIPHYYGWVATFNGEQHSLTHVDVFIQHAIFYFEPRMWSIPDRCQDASYIYHHNCNMQVYKQCYQQQPIRMSGENAIYSMMVMKSVEYEWMTLELMWLLWQKIPKDLANFPHCSCHCHVINTYRVWKELEDSWHPQWVQVPHYYSIRCQSPKVNELKVANDLYWKYWKWKDAKDEWKGEPIVLGEKADVILCIRHDSVTQVHDELWKPCGDRAETMLRLAQDTKASGSMPQAFTRAQRMYADLQNRAMTP\""
   ]
  },
  {
   "cell_type": "code",
   "execution_count": null,
   "metadata": {
    "colab": {},
    "colab_type": "code",
    "id": "_c720u8gLF8x",
    "outputId": "d3b80905-b2c0-49b1-a7cc-cc83decb053f"
   },
   "outputs": [
    {
     "name": "stdout",
     "output_type": "stream",
     "text": [
      "Middle edge:  ((506, 525), (507, 526)) Max score:  245.0\n"
     ]
    }
   ],
   "source": [
    "middle_edge, control, max_score= get_middle_edge(v, w, scoring_matrix_blosum62, 5, 0, len(v), 0, len(w))\n",
    "print(\"Middle edge: \", middle_edge, \"Max score: \", max_score)"
   ]
  },
  {
   "cell_type": "code",
   "execution_count": null,
   "metadata": {
    "colab": {},
    "colab_type": "code",
    "id": "Sth4U36JLF8z"
   },
   "outputs": [],
   "source": [
    "\"\"\"Get global alignment with space O(n) and runtime O(n.m)\"\"\"\n",
    "def get_linear_space_alignment(v, w, scoring_matrix, sigma, top, bottom, left, right):\n",
    "    # Basic case for recursion.\n",
    "    if left == right:\n",
    "        return(v[top:bottom], '-'*(bottom - top))\n",
    "    if top == bottom:\n",
    "        return('-'*(right - left), w[left:right])\n",
    "    # Divide alignment graph to two sides.\n",
    "    middle = int((left + right)/2)\n",
    "    mid_edge, control, _ = get_middle_edge(v, w, scoring_matrix, sigma, top, bottom, left, right)\n",
    "    mid_node = mid_edge[0][0]\n",
    "    # Recursion for finding global alignment.  \n",
    "    A = get_linear_space_alignment(v, w, scoring_matrix, sigma, top, mid_node, left, middle)  \n",
    "    # Recursion bases on middle edge.\n",
    "    middle_edge = ('', '')\n",
    "    \n",
    "    if control == \"d\":\n",
    "        middle_edge = (v[mid_node:(mid_node + 1)], '-')\n",
    "        mid_node = mid_node + 1\n",
    "            \n",
    "    if control == \"m\":\n",
    "        middle_edge = (v[mid_node:(mid_node + 1)], w[middle:(middle+1)])\n",
    "        mid_node = mid_node + 1\n",
    "        middle = middle + 1\n",
    "            \n",
    "    if control == \"r\":\n",
    "        middle_edge = ('-', w[middle:(middle+1)])\n",
    "        middle = middle + 1      \n",
    "\n",
    "    B = get_linear_space_alignment(v, w, scoring_matrix, sigma, mid_node, bottom, middle, right)\n",
    "    # Combine results from recursion.\n",
    "    alignment = tuple(zip(A, middle_edge, B))\n",
    "        \n",
    "    return(\"\".join(alignment[0]), \"\".join(alignment[1]))"
   ]
  },
  {
   "cell_type": "code",
   "execution_count": null,
   "metadata": {
    "colab": {},
    "colab_type": "code",
    "id": "-wduV75ELF83",
    "outputId": "a5e0cf0f-ddea-42b3-f9c2-8ca5fb2e421c"
   },
   "outputs": [
    {
     "data": {
      "text/plain": [
       "('PLEASANTLY', '-MEA--N-LY')"
      ]
     },
     "execution_count": 52,
     "metadata": {
      "tags": []
     },
     "output_type": "execute_result"
    }
   ],
   "source": [
    "v = \"PLEASANTLY\"\n",
    "w = \"MEANLY\"\n",
    "get_linear_space_alignment(v, w, BLOSUM62, 5, 0, len(v), 0, len(w))"
   ]
  },
  {
   "cell_type": "code",
   "execution_count": null,
   "metadata": {
    "colab": {},
    "colab_type": "code",
    "id": "JRgHS5cMLF84"
   },
   "outputs": [],
   "source": [
    "v = \"LNTPWRCKWPVQYMIQHQKERNQWWSAEWVDAIRCADMKPPHCQAWGGDYVPTKHPMYTRSGLMMVGKQVNVDEVEKEQLMYFQFCMWCTCCGHENGGTFNKLSDAACPYTLPEKDLFPTNVGAFRNCAKKVVIDANAYGSHRGKRQWAMICQTPKNILHYSYVQDFPKHLWAGSLCKFVIEATEPIEQIHKNLMDNFGNWKGVSGNAFKKEGEMFQFDCPDCVADEEPNRMCAALDWYWGLPAAVYVCAQFCHNLITNQGLVYQRSKKRVNQSRLDMGMPKIWMSRHCHNRGPMVACASIQGTWPCCHWCYRWVFKLDHNFTFTIQEPGPTLDDNMQWCLIVEGGTDLPTVGSNDKYYKCNWLGPTMSQSTMQCFWLNGKDSEQAAHKTMQWMPMYDFVRSVVQKFNIHYHDCIQVTYMKIKNCIECDPYFFQNEHKTRWLLTVNYRCPCKRTGGWPHKRCALSDQLCHPEAVMTLHEIQHQVQSMLRHSNSMCWPVWCKRKGNTNSEVDLIKMKTCLNQPEVSRDDYTNYDAVIHWWPMSLQYWSAQDQNSYDEFHQIWAVYCEPSKHFHYPYESTLFAVPLWKHKRPHGQQLANVFGYWRQFMEHTRICCQTDELLKHKYVQFQLISHQTGCMLKGTTMMCQRLKSWNNIMVEDRNNGVLTLSIPLYVVISHWWEICYPNSAASWQPCSKPFLVNDYLAKQNCQFMMERCLQALRVGCQFECQNYHTHAWHSPQLEEWDLQWRKHTAFLKYSKDYSHYMFNWNEEDKQPSTGTMIPTGQYSVNMDTRWPLEVRLKYFLYPWLTDMKGGGYCPIISPYLGINSSRCPSKTHCQMYERWGMVTGHEWKLEYIHWQCWQGSCPPALQQHFHMGYMSGFGKNTNKLLDAKTYAGHFGLRQNTWHITIKCICNDERFQTRNSPAISVLPCIAQMVGAWGSTNQNKKDRLTTYLLKPDYGWLLRDLEYEYMFFAMMTRVWIANEAMTGLVEGGPHVAYVPANFGHQYKCEWKGEWTFNEYVEQWFTWMMKQLFARTNASDTVQSKVQLGECQCEMFANMVLDLQTRPMWNLPDNALVMAFWMRAPFDEELYLPLNLRWCILITVLHWQVWHAWHYQASHIGPPTHEMHRARRGNCYYMICVADEETQTRIVLSWWWLVMRYIWGTSKHMPMRCFMMMDEVWNDAKIRQPISRWACRQGIMIDKGFTNAWMFDELCAFHWWGCQENHSSYFPDKVMHAMEVCVWNSPERFPYRMQYWNRLYVPEWHDVWDCRPSQTTSELVTFYMAILYMEGQARYFNFCMQNIPVVTRTEAQGQDFYIMQNNATMPNKFGRDEPGACLCINVVNVHHMRHNPGMKMTSWYEDVFQQPLIFQWCDTWCIDTGYHHRKFFQGSRLCYEDHPDEPLGHMTFKQTFKDHPANTFLQSNYDTSFNNNEISANIPYPYAYGAYTSARHRRWWNVSPPQQYLTEAISSKNTVGEVYIKPIVEFPPIPSYNQCNSSLTRARHCTFMCCKYPVALMPAQITNFFETTHTMKYYLGGAPIPMHMEAPPSVSLHGVYTMFLFKEDQQAGHIQVEIDHMYLSIIMKWYLEHTTFAQHGTVDFMFKDMKGEGTSVACSWLVRSYGRHPIKNALFLAKQGFGRIHLRAMAPVAQMFKMRCFWVSVATEQTLADHPRSLLMHRICITDTMHHMVSWITKRAILVPMSWYTVMTMTTAKGSHGNIDATPNGKLVFLDGCQQRAKCTWTKPGMFFDVEGNGGCNFMQSNCKPDVSMWQPMHSDCVARFSKGPVQGISPKYAWIVERTGQFLMIEQAGVSAAFSTRGPEPDTTNARVCTDKISFNWSKIYHYSIPTDWIDWKTMTWNGEINTPARKVIDENESTIMADGLNEMEVINEWQSFAGGELNGLGDNYMVAFGYLDRHYHVYCVEPAGGHAHLVEFYLLEETLGDAIAYENALAEISPGHWYTEAFGRYLGTKMQKFDEQKDTNIWWSSTSVWTYCSHNWAVMHDHRAEYKSQMHRVADRAHQFIRLHHEYVMTTLQLTFGLCECANLFHFYYEYTQPQCYEIKWNSYSWVDSAPPQQTMGRRMVKDVRYNSPPFLSNDQITLTAWMHKSQSWEATNCIHWEASYVHCNIDGVTLSAIMCDEVGRCVPSYRPSIIGSAISHMNGETVFSPFSTEARDWYFFGILDCNLDHKSMVSGYRKQCWCIRNASYCKPHCGNANAPLPLIVYIVDCHWWYKNQHGDWEGFVAGGLCQDLRLFDKGMRFQMFWQRDYNQQLSRSWDFWCMGAFQIQFALCENPLFPLRWQEQGHLHRTEDMIWELHPCKVDVWWTNLPTVNIMLFWQYYMANILFFMSFEVQCEGQTDDREGGLHRGMTRCQTIAAIMVWGKIIDPSVWLVQMQVQPFNSVDNNGIGDRTYIAKVTSAIMQNVPLDKTQDKRVHMYSYWFAFYIMMIQRQPEVGHNESITNVQDLYYSRKVSEAHVGAVHNAHDPMLKPHTQQTEMPAYYNVYTDIYQHNLCMDDVRVKWYECMRDPFYKDAGVTPAVIRLTAKYFMIPNEVTPCIPSAWYPVPLLMPYMDVNIDVNDHEIKGLHPGVYHSKMDQQNFIIYHHCEWNSKRRNPDPWNSNFGIDPKQHPTREYPHTHFVDVCRFACSCIIYCDTFEPTGNSEKCWQVDHILQRTFSNIAYFSNHQPELVIWAVIKHWGSPASKEANSDPAPWELSNLSGGGRKWQQDEISWLGRLCYIVADSQFQCAGVQHCKYNMVAGMAPLHPIHNFMIRNDWYNIICMPDQLQAPMRFFVRRDENQMATLFYQHSMIHVPVAFRYYPYMYFPTRKDQQRLQCLDCANVCTDCSIEHDSTWFEYLDCGGGPPLGWVPKDMDKFRQPLSTTHYEHLVPPLRSMICHKERWLLVNQPYMEGYWTEDYMYWWSCKRMWCPPWSVMMKYIAIQGGSHCWKVADGADQLEMMHWRFMAILPGTPIPGCEKGPLLLEAAYFEHCVTVYWAARCHWMCTSANMMMAFSPLKLHKAYHSRTHGYGGTDVKWRVPETLFYSMDEPSCEKDKNKCFDHDQCDSEVLIRAFFCGQPLLWTEQGHGYTERITEHSRPAHLTEVKCQRHIPVNYLWPHEQEHVSLETIAMMEDQMTWANFRAEHRCGSGNSNTYSDTSSPMDKKCFCTFVDPHATPKNGCTGNIMRYHTITYAGAVLDDFKFVCPHFRHKIPWLFVISEQFCFGWQRCRCRRDNYNGRALGEGNDTFRNPVYAKYLECRMCYQLRDKEFAAFDERCTSFLSYAHSDAYVKTDMCIMHTMYYECNHTEHMCWRMWQMNEHYIFQGVFPCAVGATRCEHRMSDMLVTHYYQLVVVLDWANHAAHVWIFIPVRPWCRFNMFNNTPTTMAFMLMNCMLFRNSCHYFRVDKNETPSPYQWTMHEPMGSNNQVRHEFAKHQIDNRPWCILVRKYNRQKGGDQLFTILTPHFNDHQVWQMHHGLFMHQVHGTNMSAHQYKHISEGQHLHLQGMPCCSLQCYKVVDMHDDDNWDVQDSDDYWDGSAKEQHEMSAVCTDHQASNDNKMMPSETFMCVQPMQRQYMGLRWPFIDQKDLMEPFQHMNKRPAVHFRHHVQRHPQCVTGAHEYTVAQNELTVVGRHQLIYTDWGITSSHGPKLLCWAIKGQIATSLWGLIKQDRDEDERDDSLVLHGIMPQFNAEECGDVCECQSMPGVCVLKCLYMDLTSATLCQWLAQKEDIRLGFDYHGAIIEMIKFHSMGSAYKFCMWHSLESMDHNMQWRPEMDFPSMDLEDVGAYHGIMILDDAFDTIVSGTQIIFRFSNWYVMCICNDTLIVKYTRFHFKFDLTTMVPSPYVWDQVPRRFKSKFLQEDKESKHDLMEQDGLRYHPEFCANATECNSFIWAHPNKKMPWEIPNRCVIVQQEIPFPYAYVDTACYIMWLPSYYVHQPHYFCYWEFYSCGGFRTWSGDCHDYD\"\n",
    "w = \"FWISNAYVPIMFTHFDRCCPCFWKICYVGWCECEFKNENLQRIYCKQHELDCPWVQINVLLREWSSGWESTDGPHVFMRPFGCDVPWWKWTYKMGIPVMHMQINWTAVELEECIGIMDRPNGHMEAFMYPCQRPWGYVFIGGTPQCWLGITIPRYGMQYGNIIGPSFPWVETIEISLDYPHWNACAGHCYITGANIIAINTDVNHPNHTSPRKWDDRKPKRQGVWWGQTEDLPESPCHEENSTYCIYHRFGSTGCKSPPNWWVTHFCCCFMECDCTGFEIEFSLELKITKHIQAYVHIDGLTGQRKKHRYEGMQPLFDQIWLRCHMDSMSFPLIYDFLHACDIQPLNGSRQQDHPMLMSYALGEKDLPTYKWQEMFGRDCQMRLKYVEYHQLWLPNAEKVMRTFKMALNDYEMTIPKWEAMKVAPDRVEIQNKQKNRKYQDFCVDMFIPNRGITKSTHMLYPTCRAEGLDFRLEEIIEGPSSNIKMQHNSFGFTTSKQRDGGFYLWHANYFIGLYLVRVPHRPRPYAGAHHHKQDNVPFTSDTESAMSGGDSLPSMCQIIWWENHTEWQWTKEYFFFASQCRWDFHLTQRCGDNAEFCEANCSNCQHINSVLHAQQFNPMDHILYYYCGCLHIHGTTMAITYWDKMAAVFVCMPHRVEMWYLDDDKFDFPEGPKSPEKIWDHHYFWCDMSGRGHYWSMTQCIETAVSGKVNQHWDHNQHERVRLHYNDAYDGYMPESWPRNNMWVQCVANRMKMACNPHTAELIAMWFFLNYAFGSQCTWKCLDWIPTMRSGNCVVFCMRAKATETTKRYYCIQLNKFLFNGKDSSHMMRYRQVTTTHSFPWGLILWGYDFGCMSWAENFSTEQGGLNLWQLANVCPGPSDDREDAIHRMMRAIEFKEVKWLIYKWNHENHKWTTYGRHQYNWIHCNKAMFKKCLYLAEWHPNIHHAGMTDYKRVSYTERCRCSASHVGVYWEPCWSYVQGDGECPKDFNCMIALTSYTYKCWSCYLCAWKQATAYTCEINGSTPAMKYTSNPAYPHASHIPQWGCFGVICTYSSSPTFIKMPDDNFQSRSKSWITQYQSAIYSPKQWPVESEECNPHWAVGRTITQCGQCVHVPEEDCTDFSVFDRALHSWMQRQQGNSMQWVKDDWHQKTFRRAALMQQEWGWWTAEFNDTSWFQPCRSRYDGHIWEEVQDPNDKREWHQYCPTMFYKYFPMMILPNYHLLVPDDSEEYWGRCNQKGIVWINIHMKSNPAYWACYSTQIFIKNNWYFYYSGQHCCESVCIHCEKWFDNEIQPGNDLIYFQYDMYHDAMMAQTVGDIRQLAHWRHHNSQVPTHWPIYSYSSCQNSYHFCLSGQGEGFNNCMFQFMFMLHEWAPNTQNPSILTVPMEWHMTKGIHEKTSFEHNAWNGLWHIWDKGQARGNNFMNDYGISVECPMRPMDVMSSLLEYCPLHKSFEEQARLYRNWHHQLLNDDPLMGGWTDNHGKWIEAYGPCWCGFNQQHRLGLRKDCPMWFATDHVFLIFWRNCFSLLLGMTQPFGMRFTWRAPFLSRSLEYNTSYVLGPQMQEDEFNAAVQFTFTTADYFPKVWFNIWMFTVSSYLFWADCWFYDDRWECSYKTACLYQIGEKGWKHKNIKFVHRAQTTNNNQWMLMMRLKTLWTKVVDATQRDSSRNGARVFFKEFQWWIQGQYEVGKPDHMYMRLVTVRHIDCMAAIPCHHWGNPTNWRAGKTRCPHKLPPYKVQGRAHWWGNVPFHDHFSTIVYLPYNWLDEFIGLCLSGCCDSWWPCWQKAVMWAGVWKCWQCPGLMIEQAGVSLAFSTRGPEPDTTHARVCEYCTCIEDKISQNWSKIYHYSCGTDWDWMTWNCHCHWEVIPEMCYPRAKLHLKMAESTIMAPGLNESEEEVVPNYKEAINHGGVIHRNWPAIFRWQSFAGGELMVAFLYLDRHYHVYCQGDHDFGHAMLVYLLIMMHQPESKETLGDALASENALAEISPFGRKLAFYCMKMQKFDEQKDTNIWWRTTSSTSVWTYCSHVHGFRGWMIRAEEKSQCHRTPKFQHQFIRLHHEYVKGQSWLLFGVWRWGLCHEYTQPQCKINMQYEQINCLKWNSWVDSAPDGQFHYQTTGRRMVKDFNQHEHRYCIAFVKFQRPPALSNDEITLTAWMQSWEAMWKNCGIMQSYHHCIKDGVTLSAIMCSRIGSAISHMNGEGAIDPVARWRFSMRHFDRWCGVYLNLVVRYMHPCQNDPKRCGLSQNHGMEGCNARDSNQSRPYMSRAYTPCTNLRFCFVRKTLEKFNQGQTQQYVHIPIVWHDTHDFIELWKFCYFYISSSSSTYLKCKFCRLEQYVLFLGNSCTYKELWAWLIGVSPKDHDKAQYGEPTHAFWQVIYTRPTVYKCYCNWESGAICSMNPFRMICKNVGNAHECLCLHWHVADQGNLKPATPYCPQSYKQKMSITYFLKPDNHSDVTCWSMDVIWCFRCCCYTHWYPHILWFACLQEYSCNCLPVPHDVWLLVPPPTPKRPQMQWMTYSWLVTQMLAYHEAAPSRNCGTCSDGKHKCVRLDTIQTVAHWCVGTHAMHWWFGQYHTKRISGWQIETWFTNENKYIMDLMMYPKTHKPMDRVRLNIHYMKGASVRLYHHRMMTEGQKQVMKHMPFTEYLVCHWYFNLVRGAFNWVYSFRNRWVGHYWSMCSMAYNIYINWWCWSSDKTEPNFAIHGYQLHLCNGFCDYHIGNFSQSTCMPRVYQDCVMKQFRTCDKILAFEDKMADFTELQQRYIRAGGDRHNVMEMHEINHQMLECTNLLIGPMYIDSVNWQWEDKQEMSGCASSRCNRMWHEACMNWQSQQDQFHYVFTFWFHEHKGRHAKAWWCACSDYKLNIFHAEASNNGGIQPRYWIGTDKSWENDICSPLCWVIQQRCYRTDECGEPELWVAMRARLFTSQCWEKENFKCKKVAMPYRHHIQQQFLEDGKRCMADWCYAETQPDRWVMVVIGSKTCWESPMDGPNFIIVKLSDYMTMAYVNSNVDCTVIFDNHLMAPQDCELKVQLDFDMDFRHEEAQTHPDTCKFQLFILAKWLNYCWLIPVEKIQRLCCLSHLLIHTNRNIWQLWLVMNDQKNDPTHARYERNKWNMQEEELRSEHLCYAHSINWKLNHWTRLVSNAIAENRSLWSTQMMDNCETVTLHYNDHILNRLPKQTDMVPNQAVIAHAQNWFIVDQMIFEQCHFRMYQFTYRLKHCDHMPDPMHILNTIVHLTANTDHIKKKAQMRHTDWKMPYHVCDMYGRWSKVNCFDAKHYMDESLNIIQKEMFLFTSWTSYDMPPYWFPAMLLYTISTHSKPEHQCAFWFFGYYTLWPSELMRWGLHNAPTSKAPVMPKSLRKIHVNEIIRCQKGQARAHDVEFSVGGKNSFLFDQNYIALMWHACYRFICATSIAWLACGQCNYRESNTRKTNEWFCKCYPGKCGEKGKRINSWMQYKNFSFSHAFLHYLCGSVCVHTCPSTPLQTFMEEVFKEELFEPEPVYHWRYDDHDDAKLWEKTQCQNRSTTDYGPATATFYFHCWMAKNKMNSWFPYFKREQYDRYRDSTQWDRILVDQSMPQYVGEVFKGPVALGHAWNCRILNQENEDFYHFEWHMTPKCDPQESDKKTFTWCKHMFFGLMVWTSCHQDSMLQRQLHLQWGGRTTLIHVNHQDLWGKDTSPASNGFYEFQWEFQRHWDGMTGSDGEYSEGRGIRWNHSILKGNEMEGHNNVAWYHGTKTMLWNWVTNTTTEVMPDAWASMYLKRSCNAHKISMRTNCIFTFSDRGMETWADSYPYMYSYEHKKGHLKGEALRDMEVDMVCVSCNICWWWHADCQRKHYIHWNIWMWNIVRSYDARETDARCSLHFKHLSHSYRHWYNPNNPPVFLPVEPAVYYRKEGDKHISHLIGHRGDMLAGVSWWCWNRCIFWHYVTWWFAPPTACSLAQHTRYHFFMKWETKLVKKVFKIYDVAHNKPSWAYGTNNRGEREEERIIMELMCSRTCRLGRP\""
   ]
  },
  {
   "cell_type": "code",
   "execution_count": null,
   "metadata": {
    "colab": {},
    "colab_type": "code",
    "id": "fYrJlDVxLF85",
    "outputId": "b5596386-78ef-4df7-e591-add42b1dd251"
   },
   "outputs": [
    {
     "name": "stdout",
     "output_type": "stream",
     "text": [
      "Length of v:  3960 , length of w:  3999\n"
     ]
    }
   ],
   "source": [
    "print(\"Length of v: \", len(v), \",\", \"length of w: \", len(w))"
   ]
  },
  {
   "cell_type": "code",
   "execution_count": null,
   "metadata": {
    "colab": {},
    "colab_type": "code",
    "id": "KDoIVDHhLF86",
    "outputId": "973209e8-8574-421b-b4ca-2b48673bbd0a"
   },
   "outputs": [
    {
     "name": "stdout",
     "output_type": "stream",
     "text": [
      "Max score:  544.0\n"
     ]
    }
   ],
   "source": [
    "_, _, max_score = get_middle_edge(v, w, BLOSUM62, 5, 0, len(v), 0, len(w))\n",
    "print('Max score: ', max_score)"
   ]
  },
  {
   "cell_type": "code",
   "execution_count": null,
   "metadata": {
    "colab": {},
    "colab_type": "code",
    "id": "k4uBQGQxLF87",
    "outputId": "fc149d38-2947-4a56-ea9d-bb74a4589900"
   },
   "outputs": [
    {
     "data": {
      "text/plain": [
       "('LNTPWRCKWPVQYMIQH-QKERNQWWSAEWVDAIRCADMKPPHCQ-AWGGDYVPTKHPMYTRSGLMMVGKQVNVDEVEKEQLMYFQF-C-M-WCTCCGHENG-GTFN-KLS-DAA-CPYTLPEKDLFPT-NVGAFR-NCAKK---VVI-DA-NAY-G-S-HR-GKRQWA-MICQT-P-KNILHYSYVQDFPKHLW-A-GSLCKFVIEAT-EPIE-QI-HKNLMDNFGNWKGVSGNAFKKEGEMF-QF-DCPDCVADEEPNRMCAALDW-YWGL--PAAVYVCAQFCHNLI-TN-QGLVYQRS-KKRVNQS-RLDMGMPKIWMSRHCHN-RGPMVACASIQGTWPCCHWCYRWVFKLDHNFTFTIQ-EP--GPTLDDN-MQWCLIVEGGTDLPTVGSNDKYYKCNWLGPTMSQSTMQCFWLNGKDSEQAAHKTMQWMPMYDFVRSVVQKFNIHYHDCIQVTYMKIKNC-IECDPYFFQNEHKTR-WL-LTVNYRCPCKRTGGWPHKRCALSDQLCHPEAV-MTLHE-IQHQVQSM-LRHSNSMCWPVWCKRKGNTNS-EVD-LIKMKTCLNQPEVSRDDYTN-YDAVIHWWPMSLQYWSAQD-QNSYDEFHQ-IWAVYCEPSKHFHYPYESTLFAVPL-WKHKRPHGQQLANVFGYWRQFMEHTRICCQ-TDELL-KHKYVQF-QLISHQTGCM-LKGTTMMCQRLKSWNNIMVEDRNNGVLTLSIPLYVVISHWWEICY-PNSAAS-WQPCSKPFLVNDYLAKQNCQFMMERCLQ-AL--RVGCQFECQNYHTHA-WHSPQLEEWDLQWRKHTAFLKYSKDYSHYMFNWNEEDKQPSTGTMIPTGQYSVNMDTRWPLEVRLKYFLYPWLTDMKGGGYCPIISPYLGINSSRCPSKTHC-QMYERWGMVTGHEWKLEYIHWQCWQGSCPPALQQHFHM-GYMSGFGKNTNKLLDAKTYAGHFGLRQNTWHITIKCI-CNDERFQT--RNSPAISVLPCIAQMVGAWGSTNQNKKDRLTTYLLKPDYGWLLRDLEYEYMF-FAMMTRVWIANEAMTGLVEGGPHVAYVP-ANFGHQY-KCEWKGEWTF--NE-YVEQWFTWMMKQLFART-NA-SDTVQS-KVQLGECQCEMFANM-VLDLQTRPMW----NLPD-NAL-VMAFWMRAP-F---DEELYLPLNLRWCILI-TVLHWQVWHAWHYQASHIGPPTH-EMHRA-RR-GNCYYM---ICVADEETQTRIVLSWWWLVM-RYI-WGTSK-HM-PM-RCFMMMDE-VWNDAKIRQPISRW--ACRQGIMIDKGFTNAW--MFDELCAFHWWG-CQENHSSYFPDKVMHAMEVCVWNSPERFPYRM-Q---YWNRLYVPEWHDVWDCRPSQTTSELVTFYMAILYMEGQARYFNFCMQNIPVVTRTEAQ-GQDFYIMQNNATMPNKFGRDEPGACLCINVVNVHHMRHNPGMKMTSW--YEDVFQQPLIFQWCDTWCIDTGYHH-R-KF-FQGSRLC-YEDHPD--E-PL-GHMT--F-KQT-FKDHPA-N-TF-LQSNYDTSFNN--NE--ISANIPY-PY-AYGAYTS-A-RHRRWWNVSP-PQQYLTEAISSKNTVGEVYIKPIVEFPPIPSYNQCNSSLTRARHCTFMCCKYPVALMPAQITNFFETTHTMKYYLG-GAPIPMHM--EAP-PSVSL-HGV-YTMF-LFKEDQ-QAGHIQVEIDHM-YLSIIMKWY-LEHTTFAQH-GTVDFMFKDMKGE-GTSVACSWLVRSYG-RHPIKNALFLAK-QGFGRIHLRAMAPVAQMFKMRCFWVSVATEQTLADHPRSLLMHRICITDTMHHMV-SW-ITKRAILVPMSWYTV--M-TMTTAKGSH-GNIDATPNGKL-V-F-LDGCQQRAKCTWTKPGMFFDVEGNGGCNFMQSNCKPDVSMWQPMHSDCVARFSKGPV-Q-GISPKYAW-IVERTGQFLMIEQAGVSAAFSTRGPEPDTTNARV---CT---DKISFNWSKIYHYSIPTDWIDWKTMT----WN--GEINTPARKV-IDENESTIMADGLNEM--EVI-NEWQSF-AGGEL--N--GL-------GDNYMVAFGYLDRHYHVYCV-EPAGGHAHLVE-FYLL---E--ETLGDAIAYENALAEISP-GHWYTEAFGRYLGTKMQKFDEQKDTNIWW---SSTSVWTYCSHNWAVM-HDHRAEYKSQMHRVADRAHQFIRLHHEYVMTTLQLTFGLCECANLFHFYYEYTQPQC-----YE-I---KWNSYSWVDSAPP-Q---QTMGRRMVKDV-----RY-----N-S-PPFLSNDQITLTAWMHKSQSWEA--TNC-IHWEASYVHCNI-DGVTLSAIMCDEVGRCVPSYRPSIIGSAISHMNGETVFSPFSTEARDW---YF-FGI--L-DCNLDHKSM-VS-GYRKQCWC-IRNASYCKPHCGNANAPLPLIVY-IVDCHWWYK-NQHGDWEGFVAGGLC-QDLRLFDKGMRFQMFWQRDYNQQLSRSWDFWC-MGAFQIQFALCENPLFPLRWQEQ-GHLHRTEDMI-W-E-LHP-CKVDVWWTNLPTV-NIMLFWQYYMANILFFMSFEVQCEGQTDDREGGLHRGMTRCQTIAAIMVWGKIIDPSV-WLVQMQVQPFNSVDNNGIGDRTYIAKVTSAIMQNVPLDKTQDKRVHMYSY--WFA-FYIMMIQRQPEVGHNESITNVQDLYYSRKVSEAHVGAVHNAHDPMLKPHTQQTEMPAYYNVYT-DIYQHNLC--MDDVR-V-KWYECM-RDPFYKDAG-V-TPAVIRLTAKYFMIPNEVTPCIPSAWYPVPLLMPYMDVNIDVNDHEIKGLHPGVYHSK-MDQ-QNFIIYHHCEWNSKRRNPDPWNSNF--GIDPKQHPTREYPHTHFVDVCRFACSCII--YCDTFEPT-GN-SEKCWQVDHILQRTF-S-NIAYFS-NH-QPELVIWAVIKHWGSPASK-EANSDP-APW-EL-SN-L-SGGGR-K-WQQDEISWLGRL-C--YIVADSQFQCAGVQ-HCKYNMVAGMAPLHPIHNFMIRNDWYNIICMPDQLQAPMRF-F-V-R-RDENQ--MATLFYQHSMIHVPVAFR--YYP-YMYFPTRKDQQRLQCLDCANVCTDCSIEHDSTWFEYLDCGGGPPLGWVPKDMDKF-RQPLSTTHYE-HLVP-PLRSMICHKERWLLVNQPYM-EG-Y-WTE-D-Y-MYWWSCKRMW-CP---P-WSVM-MK-Y--IA-IQGGSHCWKVADG---ADQ-LEM-MHWRF-MAIL-PGTPI-PG-CEKGPLLLEAAYFEHC--VTVYWAAR--C--HWMC-TSANMMMAFSPLKLHKAYHSRTHG-YGGTDVKWRVPETLFYSMDEPSCEKDK-N-KCFDHDQCDSEVLIRAFFCGQPLLWTEQGHGYTERITEHSRPAH-LTEVKCQRH-IPVNYLWPHEQEHVSLETIAMMEDQMTWANFRAEHRCGSGNSNTYSDTSSPMDKKCFCTF-VDPHATPK-N-GCTGNIMRYHTI-TYAGAVLDDFK-FVCPHFRHKIPWLFVI-SEQFCF-GWQRCRCRRDNYNGRALGEGNDTFRNPVY-AKYLECRMCYQLRDKEFAAFD-ERC-TSFLS-YAHSDAYVKTDMCIMHTMYYECN-HTEHMCWRMWQMNEHYIF-QGVFPCAVGATRCEHRMSDMLVTHYYQLVV-VLDW--AN-HAAHVWIFIPVRPW-CRFNMFNNTPTTMAFMLMNCMLFRNS-CHYF--RVDKNETPS-PYQWTMHEPMGSNNQVRHEFAKH-QIDNRPWCILVRKYNRQKGGDQLFTILTPHFNDHQVWQMHHGLFMHQVHGTNMSAHQYKHISEGQHLHL-QGMPCCSLQCYK-VVDM-HDDDNWDV--QDSDDYWDGSAKEQHEMSAVCTDHQASNDNKMMPSETFMCVQPMQRQYMGLR-WPFIDQKDLMEPFQHMNKRPAVHFRHHVQRHPQCVTGAHEYTVAQNELTVVGRHQLIYTDW-GITSSHGPKLLCWAIKGQIATSLWGLIKQDRDEDERDDSLVLHGIMPQ-FNAEECGDVCECQSMPGVCVLKCLYMDLTSATLCQWLAQKEDIRLGFDYHGAIIEMIKFHSMGSAYKFCMWHSLE-SMDHNMQWRPEMDFPSMDLEDVGAYHGIMILDDAFDTIVSGTQIIFRFSNW-YVMCI-CNDTLIVKYT-RF-HFKFDLTTMV-P-SPYVWDQV-PRRFKSKFLQEDKESKHDLM-EQ-DGLRYHPEFCANATECNSFIWAHPNKKMPW-EIPNRCVIVQQ-EIPFPYAYVDTACYIMWLPSYYV-H-QPHY-F-C--YWEFYSCG-GFRTW-SGDCH-DYD',\n",
       " 'F---WISNAYVPIMFTHFDRCCPCFWKICYVGWCEC-EFKNENLQRIYCKQH-ELDCP-WVQINVLLREWSSGWESTDGPHVFMRPFGCDVPWWKWT-YKMGIPVMHMQINWTAVELEECIGIMDR-PNGHMEAFMYPCQRPWGYVFIGGTPQCWLGITIPRYG-MQYGNIIGPSFPWVETIEIS-L-DYP-H-WNACAGHC-YITGANIIAINTDVNHPNHTSP-RKW-D-DRKP-KRQGVWWGQTEDLPESPCHEENSTYCIYHRFGSTGCKSPPNWWV-THFCCCFMECDCTGFEIEFSLELKITKHIQAYVHIDGLTGQRKKHRYEG-MQPLFD-Q-IWLRCHMD-SMSFPLIYDFLHACDIQPLNGSRQQDHPMLMSYAL-GEKDLPT------Y-K--W--QEMF-GR-DC-QMRLKYVEY--HQ-L-WLP--N-AEKVMRTFKMALND-YEMTIPKWEAMKVAPDRVEIQNKQKNRKYQDFCVDMFIP-NR-G-IT-KSTHMLYPTCRAEGLDFRLEEIIEGPSSNIKMQH-NSFGFTTSKQRDGGFYLWHANYFIGLY-LVRVPHRPRP-YAGAHHHKQDNVPFTSDTESAMSGGDSLPSMCQIIW--W-ENHTEWQWTKEYFFFASQCRWDF---HLTQ--RC-GDNAEFCEANCSNCQHINSVLHAQQFNPMDHILYYYCGCLHIHGTTM-A--ITYWDK-MAA-VF-VCMPHRVEMWYLDDDKFDFPEGPKSPEKIWDH-HY-FWC-D-MSGRGHYWSMTQCIETAVSGKVNQHWD-HNQHERVRLHY-N-DAYD-GYMPE-SWPRNNM-WVQCVANRMKMACNPHTAELIAMW-FFLNY-A-FGSQCTWK-CL-DWIPTMRSGN-C-VVF-CMRAKATETTKRYYCIQL-NKF-LFNGKD-SSHMMRYR--QVTTTHSFPWGLILWGY-D-FGC-MSWAENFSTEQG--GL--NLWQLANVCPGPSDDREDAIHRMMRAIEFKE-VKWLIYKW-N-HENHK--WTTYG-RHQYNW-IH-CN-KAMFKKCLYLAEWHPNIHHAGMTD-YKRVSYTERCRCSASHVGVYWEPCWSYVQGDGECPKDFNCMIA-LTSYTYKCWSCYLCAWK-QATAYTCEINGSTPAMKYTSNPAYPHASHIPQWGCFGVICTYSSSPTFIKMPDDNFQSRSKSWITQYQSAI-YSP-KQWPVESEECNP--HWAVGRTITQCGQCVHVPEEDC-TDFSVFDRALHSWMQRQQGNSMQWVKDDWHQKTFRRAALMQQEWGWWTAEFND-TS-WFQPCRS--RYD-G--HIWEEVQDPNDKREWHQYCPTMFYKYFPMMILPNYHLLVPDDSEEYWGRCNQKGIVWINIHMKSNPAYWACYSTQIFIKN-NWYF-Y-Y-SGQHCCESVCI-HCEKWFDNEIQPGNDLIYFQYD--M---Y-HDAMMAQTVGDIRQLAHWRHHNSQVPTHWPIYSYSSCQN-SYHFCLSGQGE-GFNNCMFQFMFMLHEWAPNTQNPSILTVPMEWHMTKGIHEKTSF-EHNAWNGLWHIWDKGQARGNNFMNDYGISVECPMRPMDVMSSLLEYCPLHKSFEEQARLYRNWHHQLLNDDPLMGG-WTDNHGKW--IEAYGPCWCGFNQ-QHRLGLRKDCPMWFATDHVFLIF-WRNCFSLLLGMTQPFGMRFTWRAPFLSRSLEYNTSYVLGPQMQEDEFNAA-VQFTFTTADYFPKV--WFNIWMFTVSSYLFWADCWFYDDRWECSYKTACLYQIGEKGWKH--KNIKFVHRAQTTNN-N-QWM--L-MM-RLKTLWTKV-VDATQRDSSRNG-A-RVFFKEFQWWIQGQYEVGKPDHMY-MRLVTVRHIDCMAAIPCHHWGNPTNWRAGKTRCPHKLPPYKVQGRAHWWGNVPFHD-HFST-IVYLPYNWL-DEFIGLCL-SGC-CD-SWWPCWQKAVMWAGVWKCWQCPG--LMIEQAGVSLAFSTRGPEPDTTHARVCEYCTCIEDKISQNWSKIYHYSCGTDW-DWMTWNCHCHWEVIPEMCYPRAKLHLKMAESTIMAPGLNESEEEVVPNYKEAINHGGVIHRNWPAIFRWQSFAGGELMVAFLYLDRHYHVYCQGDHDFGHAMLVYLLIMMHQPESKETLGDALASENALAEISPFGR-KL-AF--YC-MKMQKFDEQKDTNIWWRTTSSTSVWTYCSHVHGFRGWMIRAEEKSQCHRTPKFQHQFIRLHHEYVKGQSWLLFGVWRW-GLCH---EYTQPQCKINMQYEQINCLKWNS--WVDSAPDGQFHYQTTGRRMVKDFNQHEHRYCIAFVKFQRPPALSNDEITLTAWM---QSWEAMWKNCGI-MQ-SYHHC-IKDGVTLSAIMCSRIGSAI-SHMNGE-G-AIDPV-ARWRFSMRHFD-R-WCGVYLNLVVRYMHPCQNDPKRCGLSQNHGME-GCNARDSNQSRPYMSRAYTPCTNLRFCFVR-KTLEKFNQ-GQTQQYVHIPIVWHDTHDFIELWKFCYFYISSSSSTYLKC-KF-CRLEQY-VLF-LGNSCTYKELWAWLIGVSPKDHDKAQYGEPTHAFWQV-I-YTR-PTVYKCYCNWE-SGA-ICSMNPFRMICKN-V----GNAHECL--CLH-WHVADQGN-LKPATPYCPQSYKQKM-SI-TYFLKPDNH-SDVTCWSMDVIWCFRC-CCYTHWYPHILWFACLQEYSCNCLP-VPHDVWLL-VPPPTPKRPQMQ-WM-TYSWLVTQMLAYH-EAA--PSR-NCGTCSDGKHK-CVRLDTIQTVAHW--CVGTHAMHWWFGQYHTKRISGWQIETWF-TNENKYIMDLMMYP-KTHKP-MD-RVRLNIHYMKGASVRLYHHRMMTEGQKQVM-KHMPF-TEYLVCH-WYFNLVRGAFNWVYSFRNRWVGHYWSMCSMAYNIYINWWCWSSDKTEPNFAIHGYQL-HLCNG-FCDYHIGNFSQSTCMPRVYQDCVMKQFRT-CDKILAFEDKMADFTELQQRYIRAGGDRHNVMEMHEINH-QMLECTNLLIGPMYIDSVNWQWEDKQEM-SGCASSR-C-NRMWHEACMNWQSQQDQFHYVFTFWFHEHKGRHAKAWWCACSDYKLNIFHAEASNNGGIQPRY-WIGTDKSWEN-D-I-CSPLCW-V-IQQ-RC-YRTDECGE-PEL-WVAMRARLFTSQCWEKENFKCKKVAMPYRHHI--QQQFLEDGKRCMADWCYAETQPDRWVMVVIGSKTCWESPMDGPNFIIVKLSDYMTMAYVNSNVDCTVIFDNHLMAPQDCELKVQLDFDMDFRHEEAQTHPDTC-KFQLFILAKWLNYCWLIPVEKIQRLCCLSHLLIHTNRNIWQLW--LVMNDQKNDPTHARYE-RN-KWNMQEEELRS--EHLCYAHSINWK-LNH-W--TRLVSNAIAENRSL-WSTQMMDNCETVTLHYND-HILNRLPKQTDMVPNQAVIAHAQNWFIVDQM-IFE-QCHFRMYQFTYRL-K-HCDHMPDPMHILNTIVHLTANTD-HIKKKAQMRHTDWKMPYHVCDMY-GR-WSKVNCFDAKHYMDE-S-LNIIQKEMFLFTSWTSYDMPPYWFPAMLLYTIS-THSKPEHQCAFWFFGY-YTLWPSELMRWGLHNAPTSKAPVMPKSLRKIHVNE-IIRCQKGQARAH-D-VEFSVGGKNS-FLFDQN-Y-IALMWHAC-YRF--ICATSIAWLACGQCNYRESNTRKTNEW-FCKCYPGKCG-EKGKRINSWMQYK--N-FSFSHAFLHYLCGSVCVHTCPSTPLQ-TFMEEVFKEELFEPEPVYHWRYDDHDDAKLWEKTQCQNRSTTDYGPATATFYFH-CWMAKNKMNSWFPYFKREQYDRYRDSTQWDRILVDQSMPQYVGEVFKGPVALGH-AWNCRILNQENEDFY--HF-EWH-MTPKC-DPQES-DKKTF---TW-C-KHM---FFGLMVWTSCHQDSMLQRQLHLQWGGRTTLI-HV-NH-QDLWGK-DTSPASNGFYEF-QWE-FQRHWDGMTGSDG-EY-SEG-RG-IRWN-HSILKGNEMEGHNNVAW-YHGTKTMLWN-WVTNTTTEV--MPDAWA-S-MYLK-RS---CN--AHKISMRTNCIF--TFSDR-GMETWADSYPY-M-YSYEHKKGH-LKGEALRDM-EVDMVCVSC-N-ICWWWHA-DC-QRKHYIHWNIWMWNIVRSYDARET-DARCSLHFKHLSHSYRHWYNPNNPPVFLPVEPAVYYRK--EGDKHISH-LIGHRGDMLAGVSWWCWN--RC-IF-W-H-YVTW-WFAPPTACSLAQHTRYHF-FMKWETKLVKKVFKIYDVAHNKPSWAYGTNNRGEREEERIIMELMCSRTCRLGRP')"
      ]
     },
     "execution_count": 40,
     "metadata": {
      "tags": []
     },
     "output_type": "execute_result"
    }
   ],
   "source": [
    "get_linear_space_alignment(v, w, BLOSUM62, 5, 0, len(v), 0, len(w))"
   ]
  },
  {
   "cell_type": "markdown",
   "metadata": {
    "colab_type": "text",
    "id": "uQlBxgUZLF89"
   },
   "source": [
    "### 7 Multiple Sequence Alignment<a name = \"multi-sequence\"></a>"
   ]
  },
  {
   "cell_type": "markdown",
   "metadata": {
    "colab_type": "text",
    "id": "bJGrT_6Fr8Ze"
   },
   "source": [
    "#### 7.1 Xây dựng đồ thị ba chiều<a name = \"three-manhattan\"></a>"
   ]
  },
  {
   "cell_type": "markdown",
   "metadata": {
    "colab_type": "text",
    "id": "R0fADz0dkXoz"
   },
   "source": [
    "Các chuỗi axit amin của protein có chức năng tương tự có trình tự khá giống nhau, nhưng những điểm tương đồng này có thể khó nắm bắt trong các loài xa. Nếu độ tương tự trình tự yếu, dóng hàng theo cặp có thể không xác định được trình tự liên quan đến sinh học. Tuy nhiên, so sánh đồng thời nhiều trình tự thường cho phép chúng ta tìm thấy những điểm tương đồng mà so sánh trình tự theo cặp không thể cho thấy được. "
   ]
  },
  {
   "cell_type": "markdown",
   "metadata": {
    "colab_type": "text",
    "id": "SWbuk7tfmoJL"
   },
   "source": [
    "Trong liên kết ba chiều của miền A từ phần giới thiệu, chúng ta đã tìm thấy 19 cột được bảo tồn:"
   ]
  },
  {
   "cell_type": "markdown",
   "metadata": {
    "colab_type": "text",
    "id": "vkY4rjf5mstX"
   },
   "source": [
    "<a><img src=\"https://imgur.com/GgtiVQ7.jpg\" width=\"700\" align=\"center\"> "
   ]
  },
  {
   "cell_type": "markdown",
   "metadata": {
    "colab_type": "text",
    "id": "vOT_6Rl6pc6B"
   },
   "source": [
    "Tuy nhiên, sự tương đồng giữa các miền A không bị giới hạn trong 19 cột này, vì chúng ta có thể tìm thấy <b><span style = \"color: cyan\">10</span></b> + <b><span style = \"color: purple\">9</span></b> + <b><span style = \"color: green\">12</span></b> = 31 cột bán bảo toàn, mỗi cột có hai axit amin phù hợp:"
   ]
  },
  {
   "cell_type": "markdown",
   "metadata": {
    "colab_type": "text",
    "id": "Gvs7oMAmp-fE"
   },
   "source": [
    "<a><img src=\"https://imgur.com/lXWHtgN.jpg\" width=\"700\" align=\"center\"> "
   ]
  },
  {
   "cell_type": "markdown",
   "metadata": {
    "colab_type": "text",
    "id": "L5YG14worrgq"
   },
   "source": [
    "Một dóng hàng đa trình tự $v^1, ..., v^t$, còn được gọi là dóng hàng theo t chiều, được xác định bởi một ma trận có t hàng, trong đó hàng thứ i chứa các ký tự $v^i$ xen kẽ với các ký tự trống. Giả sử không có cột nào trong dóng hàng đa trình tự chỉ chứa các ký tự trống. Trong dóng hàng 3 chiều bên dưới, kí hiệu có tần số lớn nhất trong mỗi cột được viết bằng chữ in hoa:"
   ]
  },
  {
   "cell_type": "markdown",
   "metadata": {
    "colab_type": "text",
    "id": "MMNH5nnmt_pA"
   },
   "source": [
    "<a><img src=\"https://imgur.com/0nbx3u0.jpg\" width=\"400\" align=\"center\"> "
   ]
  },
  {
   "cell_type": "markdown",
   "metadata": {
    "colab_type": "text",
    "id": "uYFcLvfMq7Fe"
   },
   "source": [
    "Ma trận dóng hàng đa trình tự là một khái quát của ma trận dóng hàng theo cặp với nhiều hơn hai chuỗi. Ba mảng được hiển thị ở dóng hàng bên dưới  ghi lại số lượng kí tự tương ứng trong <b><span style = \"color: red\">ATGTTATA</span></b>, <b><span style = \"color: green\">AGCGATCA</span></b> và <b><span style = \"color: cyan\">ATCGTCTC</span></b> đến một vị trí nhất định (không tính đến kí tự trống). Khi kết hợp với nhau, ba mảng này tương ứng với một đường dẫn trong lưới ba chiều:"
   ]
  },
  {
   "cell_type": "markdown",
   "metadata": {
    "colab_type": "text",
    "id": "UB2pZ4RFtfK6"
   },
   "source": [
    "<a><img src=\"https://imgur.com/Yadvyqm.jpg\" width=\"600\" align=\"center\">"
   ]
  },
  {
   "cell_type": "markdown",
   "metadata": {
    "colab_type": "text",
    "id": "7mGPmjc5wrbZ"
   },
   "source": [
    "Nếu đồ thị dóng hàng cho hai chuỗi là một lưới các hình vuông thì đồ thị dóng hàng cho ba chuỗi là một lưới các hình lập phương. Mỗi nút trong đồ thị dóng hàng 3 chiều có tối đa bảy cạnh đến."
   ]
  },
  {
   "cell_type": "markdown",
   "metadata": {
    "colab_type": "text",
    "id": "nJ3-KJXkx3TI"
   },
   "source": [
    "<a><img src=\"https://imgur.com/5NaHsfO.jpg\" width=\"400\" align=\"center\">"
   ]
  },
  {
   "cell_type": "markdown",
   "metadata": {
    "colab_type": "text",
    "id": "tpzsl12Ny2wm"
   },
   "source": [
    "Điểm của dóng hàng đa trình tự được định nghĩa là tổng số điểm của các cột căn chỉnh (hoặc trọng số của các cạnh trong đường dẫn dóng hàng), dóng hàng tối ưu đạt được khi điểm này lớn nhất. Trong trường hợp các ký tự theo bảng chữ cái của các axit amin, chúng ta có thể sử dụng phương pháp tính điểm tổng quát được xác định bởi ma trận t chiều chứa $21^t$ đầu vào mô tả điểm của tất cả các kết hợp có thể có t kí hiệu (đại diện cho 20 axit amin và ký hiệu trống) . Theo trực giác, chúng ta nên thưởng cho các cột được bảo tồn nhiều hơn với điểm số cao hơn."
   ]
  },
  {
   "cell_type": "markdown",
   "metadata": {},
   "source": [
    "Một thuật toán lập trình động đơn giản được áp dụng cho đồ thị dóng hàng t chiều giải quyết bài toán dóng hàng đa trình tự cho các chuỗi t. Đối với ba chuỗi v, w và u, gọi $s_{i, j, k}$ là độ dài của đường dẫn dài nhất từ source (0, 0, 0) đến nút (i, j, k) trong đồ thị dóng hàng. Thuật toán đệ quy cho $s_{i, j, k}$ trong trường hợp ba chiều tương tự như thuật toán đệ quy cho trường hợp hai chiều:"
   ]
  },
  {
   "cell_type": "markdown",
   "metadata": {},
   "source": [
    "<a><img src=\"https://imgur.com/mF0rJBM.jpg\" width=\"400\" align=\"center\">"
   ]
  },
  {
   "cell_type": "markdown",
   "metadata": {},
   "source": [
    "Trong trường hợp t chuỗi có độ dài n, đồ thị dóng hàng bao gồm $n^t$ nút và mỗi nút có tối đa $2^t - 1$ cạnh đến, tổng thời gian chạy là $\\mathcal{O} (n^t · 2^t)$. Khi t lớn, thuật toán lập trình động trở nên không khả thi. Nhiều phương pháp phỏng đoán cho dóng hàng đa trình tự dưới mức tối ưu đã được đề xuất để giải quyết nút thắt thời gian chạy này."
   ]
  },
  {
   "cell_type": "markdown",
   "metadata": {},
   "source": [
    "Trong ví dụ dưới đây chúng ta sẽ dóng hàng đa trình tự dựa trên việc xây dựng đồ thị ba chiều, điểm của một cột trong ma trận dóng hàng bằng 1 nếu tất cả các kí tự của cột đó giống nhau, ngược lại điểm này bằng 0 nếu chỉ một kí tự khác các kí tự còn lại."
   ]
  },
  {
   "cell_type": "code",
   "execution_count": 1,
   "metadata": {
    "colab": {},
    "colab_type": "code",
    "id": "SyLk_larLF89"
   },
   "outputs": [],
   "source": [
    "import numpy as np\n",
    "import pandas as pd\n",
    "from math import inf"
   ]
  },
  {
   "cell_type": "code",
   "execution_count": 2,
   "metadata": {
    "colab": {},
    "colab_type": "code",
    "id": "cfdeFeanLF8-"
   },
   "outputs": [],
   "source": [
    "\"\"\"Build multiple global alignment\"\"\"\n",
    "def build_multiple_global_alignment(v, w, u):\n",
    "    \n",
    "    # Create initial score matrix\n",
    "    s = np.zeros((len(v) + 1, len(w) + 1, len(u) + 1))  \n",
    "    # Create initial alignment of v, w, and u.\n",
    "    v_ali = []\n",
    "    w_ali = []\n",
    "    u_ali = []\n",
    " \n",
    "    for i in range(1, len(v) + 1):\n",
    "        for j in range(1, len(w) + 1):\n",
    "            for k in range(1, len(u) + 1):\n",
    "                # Recurrent algorithm for s.    \n",
    "                s[i, j, k] = max(s[i-1, j, k], \n",
    "                                 s[i, j-1, k],\n",
    "                                 s[i, j, k-1],\n",
    "                                 #s[i-1, j-1, k],\n",
    "                                 s[i-1, j, k-1],\n",
    "                                 s[i, j-1, k-1],\n",
    "                                 s[i-1, j-1, k-1] + int(v[i-1] == w[j-1] == u[k-1]))\n",
    "    # Find maximum score\n",
    "    score = s[len(v), len(w) ,len(u)]\n",
    "    # Get v, w, u after alignment \n",
    "    while i > 0 or j > 0 or k > 0:\n",
    "        if s[i, j, k] == s[i-1, j, k] and i > 0:\n",
    "            v_ali.append(v[i-1])\n",
    "            w_ali.append('-')\n",
    "            u_ali.append('-')\n",
    "            i = i - 1\n",
    "        elif s[i, j, k] == s[i, j-1, k] and j > 0:\n",
    "            v_ali.append('-')\n",
    "            w_ali.append(w[j-1])\n",
    "            u_ali.append('-')\n",
    "            j = j - 1\n",
    "        elif s[i, j, k] == s[i, j, k-1] and k > 0:\n",
    "            v_ali.append('-')\n",
    "            w_ali.append('-')\n",
    "            u_ali.append(u[k-1])\n",
    "            k = k - 1\n",
    "        elif s[i, j, k] == s[i-1, j-1, k] and i > 0 and j > 0:\n",
    "            v_ali.append(v[i-1])\n",
    "            w_ali.append(w[j-1])\n",
    "            u_ali.append('-')\n",
    "            i = i - 1\n",
    "            j = j - 1\n",
    "        elif s[i, j, k] == s[i-1, j, k-1] and i > 0 and k > 0:\n",
    "            v_ali.append(v[i-1])\n",
    "            w_ali.append('-')\n",
    "            u_ali.append(u[k-1])\n",
    "            i = i - 1\n",
    "            k = k -1\n",
    "        elif s[i, j, k] == s[i, j-1, k-1] and j > 0 and k > 0:\n",
    "            v_ali.append('-')\n",
    "            w_ali.append(w[j-1])\n",
    "            u_ali.append(u[k-1])\n",
    "            j = j - 1\n",
    "            k = k - 1\n",
    "        elif (s[i, j, k] == s[i-1, j-1, k-1] + int(v[i-1] == w[j-1] == u[k-1]) and \n",
    "              i > 0 and j > 0 and k > 0):\n",
    "            v_ali.append(v[i-1])\n",
    "            w_ali.append(w[j-1])\n",
    "            u_ali.append(u[k-1])\n",
    "            i = i - 1\n",
    "            j = j - 1\n",
    "            k = k - 1\n",
    "            \n",
    "    return(score, \"\".join(reversed(v_ali)), \"\".join(reversed(w_ali)), \"\".join(reversed(u_ali)))"
   ]
  },
  {
   "cell_type": "code",
   "execution_count": 3,
   "metadata": {
    "colab": {},
    "colab_type": "code",
    "id": "YMKdz7QyLF8_"
   },
   "outputs": [],
   "source": [
    "v = \"TGTTTAAAAATGTCCGCAACCATTTC\"\n",
    "w = \"GATATAAAACAGGGATAACTGCAATGG\"\n",
    "u = \"CCTGCTACTTTATGCCGTCTCCATATGCG\""
   ]
  },
  {
   "cell_type": "code",
   "execution_count": 4,
   "metadata": {
    "colab": {},
    "colab_type": "code",
    "id": "nRZAk5QZLF9A",
    "outputId": "70168555-89c0-4d61-8cc0-90b877de5164"
   },
   "outputs": [
    {
     "data": {
      "text/plain": [
       "(11.0,\n",
       " '---TG--T---T----------T-A--AAAATGTC-------CGCA-ACCAT-----TTC',\n",
       " '----G-AT--ATAAAACAGGGAT-AAC----TG-C----------A-A---T---GG---',\n",
       " 'CCT-GC-TAC-T----------TTA------TG-CCGTCTCC---ATA---TGCG-----')"
      ]
     },
     "execution_count": 4,
     "metadata": {},
     "output_type": "execute_result"
    }
   ],
   "source": [
    "build_multiple_global_alignment(v, w, u)"
   ]
  },
  {
   "cell_type": "markdown",
   "metadata": {},
   "source": [
    "#### 7.2 Thuật toán tham lam cho dóng hàng đa trình tự<a name = \"greedy-multi-alignment\"></a>"
   ]
  },
  {
   "cell_type": "markdown",
   "metadata": {},
   "source": [
    "Phần này được tham khảo tại http://compeau.cbd.cmu.edu/wp-content/uploads/2016/08/Ch06_MultAlign.pdf."
   ]
  },
  {
   "cell_type": "markdown",
   "metadata": {},
   "source": [
    "Cho trước một ma trận gồm các chuỗi DNA (chứa 4 kí tự A, C, T, G ), hoặc các chuỗi protein (chứa 20 loại axit amin). Một chiến thuật của thuật toán tham lam bao gồm các bước như sau:"
   ]
  },
  {
   "cell_type": "markdown",
   "metadata": {},
   "source": [
    "<b>Bước 1:</b> Chọn một cặp có trình tự tương đồng cao nhất.<br>\n",
    "<b>Bước 2:</b> Hợp nhất hai chuỗi ở bước 1 với nhau. Như vậy, bài toán dóng hàng cho k chuỗi trở thành bài toán dóng hàng cho k-1 chuỗi.<br>\n",
    "<b>Bước 3:</b> Quay trở lại bước 1 và bước 2.<br>"
   ]
  },
  {
   "cell_type": "markdown",
   "metadata": {},
   "source": [
    "Ví dụ dưới đây, hai chuỗi $u_1$ và $u_2$ có sự tương đồng cao nhất, chúng ta sẽ hợp nhất chúng lại thành chuỗi $u_1$ mới, bài toán với k chuỗi lúc này trở thành bài toán với k-1 chuỗi. Sau đó, ta lặp lại bước 1 và bước 2 cho đến khi chỉ còn một chuỗi duy nhất."
   ]
  },
  {
   "cell_type": "markdown",
   "metadata": {},
   "source": [
    "<a><img src=\"https://imgur.com/nlm38id.jpg\" width=\"600\" align=\"center\">"
   ]
  },
  {
   "cell_type": "markdown",
   "metadata": {},
   "source": [
    "Chú ý rằng chuỗi $u_1$ mới sẽ là chuỗi bao gồm các match hoặc mismatch của hai chuỗi ban đầu, ở đây, nếu là mismatch ta có thể chọn kí tự của một trong hai chuỗi. Ngoài ra, chuỗi mới này còn bao gồm các kí tự delete, và không lấy các kí tự trống. Dưới đây là 4 trình tự GATTCA, GTCTGA, GATATT, GTCAGC tương ứng với $C^2_4$ = 6 cặp dóng hàng:"
   ]
  },
  {
   "cell_type": "markdown",
   "metadata": {},
   "source": [
    "<a><img src=\"https://imgur.com/z6YjWQE.jpg\" width=\"600\" align=\"center\">"
   ]
  },
  {
   "cell_type": "markdown",
   "metadata": {},
   "source": [
    "<b>Bước 1</b> $S_2$ và $S_4$ là hai trình tự có sự giống nhau nhất với score = 2.<br>\n",
    "<b>Bước 2</b> Hợp nhất $S_2$ và $S_4$.<br>"
   ]
  },
  {
   "cell_type": "markdown",
   "metadata": {},
   "source": [
    "<a><img src=\"https://imgur.com/kAzmPgt.jpg\" width=\"350\" align=\"center\">"
   ]
  },
  {
   "cell_type": "markdown",
   "metadata": {},
   "source": [
    "<b>Bước 3</b> Quay trở lại bước 1 và bước 2 với 3 trình tự mới."
   ]
  },
  {
   "cell_type": "markdown",
   "metadata": {},
   "source": [
    "<a><img src=\"https://imgur.com/o9KQAh6.jpg\" width=\"200\" align=\"center\">"
   ]
  },
  {
   "cell_type": "markdown",
   "metadata": {},
   "source": [
    "Sau đây, chúng ta sẽ áp dụng global alignment với mô hình phạt khoảng trống Affine như phần [5](#penalizing) với bộ dữ liệu của các miền A. Lý do để áp dụng phương pháp này là chiều dài giữa các miền A không có sự chênh lệch quá nhiều, không gian lưu trữ không lớn, và số miền A lớn nên yêu cầu thời gian chạy nhanh. Với chương trình cũ chúng ta cần sử dụng scoring matrix BLOSUM62 dưới dạng dictionary và thêm vào các chuỗi hợp nhất từ hai chuỗi có điểm cao nhất. Đồng thời ta cũng cần đưa vào các kí tự khoảng trống phù hợp ở các chuỗi đã dóng hàng nếu các dóng hàng sau đó có phát sinh khoảng trống."
   ]
  },
  {
   "cell_type": "code",
   "execution_count": 44,
   "metadata": {
    "colab": {},
    "colab_type": "code",
    "id": "PZPow5LELF9G"
   },
   "outputs": [],
   "source": [
    "def get_global_alignment_affine_gap_penalties(v, w, scoring_matrix, sigma, epsilon):\n",
    "    \n",
    "    # Create scoring matrix for v and w. \n",
    "    score = scoring_matrix\n",
    "    \n",
    "    # Create initial backtrack matrix.\n",
    "    back_track_lower = np.array([[0 for j in range(len(w)+1)] for i in range(len(v)+1)])\n",
    "    back_track_middle = np.array([[0 for j in range(len(w)+1)] for i in range(len(v)+1)])\n",
    "    back_track_upper = np.array([[0 for j in range(len(w)+1)] for i in range(len(v)+1)])\n",
    "    # Create initial lower, middle and upper matrix.\n",
    "    lower = np.zeros((len(v) + 1, len(w) + 1))\n",
    "    middle = np.zeros((len(v) + 1, len(w) + 1))\n",
    "    upper = np.zeros((len(v) + 1, len(w) + 1))\n",
    "    \n",
    "    \"\"\"Find left and top edge values of lower, upper, and middle matrix.\n",
    "    We must to ensure that middle[i, 0] equals to lower[i, 0] and middle[0, j] equals to upper[0, j],\n",
    "    exceptly middle[0, 0] equals to 0; lower[0, 0] and upper[0, 0] equal to -infinitive\"\"\" \n",
    "    \n",
    "    lower[1, 0] = -sigma # To ensure that gap opening penalty equals to sigma.\n",
    "    upper[:, 0] = -inf # Because upper only moves in horizontal line.\n",
    "    middle[1, 0] = lower[1, 0]\n",
    "    upper[0, 1] = -sigma # To ensure that gap opening penalty equals to sigma.\n",
    "    lower[0, :] = -inf # Because lower only moves in vertical line.\n",
    "    middle[0, 1] = upper[0, 1]\n",
    "    \n",
    "    for i in range(2, len(v) + 1):\n",
    "        lower[i, 0] = lower[i-1, 0] - epsilon # Gap extension penalty equals to epsilon.\n",
    "        middle[i, 0] = lower[i, 0] \n",
    "    for j in range(2, len(w) + 1):\n",
    "        upper[0, j] = upper[0, j-1] - epsilon # Gap extension penalty equals to epsilon.\n",
    "        middle[0, j] = upper[0, j]\n",
    "    \n",
    "    for i in range(1, len(v) + 1):\n",
    "        for j in range(1, len(w) + 1):\n",
    "            \"\"\"Recurrence relations of three levels. Firstly, we update lower and upper;\n",
    "            finally, we update middle.\"\"\" \n",
    "            lower_scores = [lower[i-1, j] - epsilon, middle[i-1, j] - sigma]\n",
    "            lower[i, j] = max(lower_scores)\n",
    "            back_track_lower[i, j] = np.argmax(lower_scores)\n",
    "            \n",
    "            upper_scores = [upper[i, j-1] - epsilon, middle[i, j-1] - sigma]\n",
    "            upper[i, j] = max(upper_scores)\n",
    "            back_track_upper[i, j] = np.argmax(upper_scores)\n",
    "            \n",
    "            middle_scores = [lower[i, j], middle[i-1, j-1] + score[v[i-1]][w[j-1]], upper[i, j]]\n",
    "            middle[i, j] = max(middle_scores)\n",
    "            back_track_middle[i, j] = np.argmax(middle_scores)\n",
    "   \n",
    "            n = len(v)\n",
    "            m = len(w)\n",
    "         \n",
    "            matrix_scores = [lower[n, m], middle[n, m], upper[n, m]]\n",
    "            max_score = max(matrix_scores)\n",
    "            back_track_index = np.argmax(matrix_scores)\n",
    "  \n",
    "    return(back_track_index, back_track_lower, back_track_middle, back_track_upper, max_score)"
   ]
  },
  {
   "cell_type": "code",
   "execution_count": 5,
   "metadata": {
    "colab": {},
    "colab_type": "code",
    "id": "2Kn9IZaSLF9H"
   },
   "outputs": [],
   "source": [
    "\"\"\"Output global alignment affine gap penalties\"\"\"\n",
    "def output_global_alignment_affine_gap_penalties(back_track_index, back_track_lower, \n",
    "                                                 back_track_middle, back_track_upper,\n",
    "                                                 v, w, i, j, alignment):\n",
    "    \n",
    "    if i == 0 or j == 0:\n",
    "        return (\"\")\n",
    "    # Output  v, w after alignment, and merged alignmnet.\n",
    "    merged_ali = []\n",
    "    v_ali = []\n",
    "    w_ali = []\n",
    "    \n",
    "    while i > 0 or j > 0:\n",
    "        \n",
    "        if back_track_index == 0: # Lower bactrack matrix\n",
    "            if back_track_lower[i, j] == 1:\n",
    "                back_track_index = 1\n",
    "            merged_ali.append(v[i-1])\n",
    "            v_ali.append(v[i-1])\n",
    "            w_ali.append('-')\n",
    "            i = i - 1\n",
    "            \n",
    "        elif back_track_index == 1: # Middle backtrack matrix\n",
    "            if back_track_middle[i, j] == 0:\n",
    "                back_track_index = 0\n",
    "            elif back_track_middle[i, j] == 2:\n",
    "                back_track_index = 2\n",
    "            else:\n",
    "                merged_ali.append(v[i-1])\n",
    "                v_ali.append(v[i-1])\n",
    "                w_ali.append(w[j-1])\n",
    "                i = i - 1 \n",
    "                j = j - 1 \n",
    "                \n",
    "        elif back_track_index == 2: # Upper backtrack matrix\n",
    "            if back_track_upper[i, j] == 1:\n",
    "                back_track_index = 1\n",
    "            if alignment != []:\n",
    "                for l in range(len(alignment)):\n",
    "                    alignment[l] = alignment[l][:i] + '-' + alignment[l][i:]\n",
    "                    \n",
    "            merged_ali.append(w[j-1])\n",
    "            v_ali.append('-')\n",
    "            w_ali.append(w[j-1])\n",
    "            j = j - 1   \n",
    "        \n",
    "    return(alignment, \"\".join(reversed(merged_ali)), \"\".join(reversed(v_ali)), \"\".join(reversed(w_ali)))"
   ]
  },
  {
   "cell_type": "code",
   "execution_count": 6,
   "metadata": {
    "colab": {},
    "colab_type": "code",
    "id": "XKpakfjoLF9B"
   },
   "outputs": [],
   "source": [
    "a_domain = pd.read_csv(\"gs://bi-mutations/Marahiel_data.csv\")"
   ]
  },
  {
   "cell_type": "code",
   "execution_count": 7,
   "metadata": {
    "colab": {
     "base_uri": "https://localhost:8080/",
     "height": 34
    },
    "colab_type": "code",
    "executionInfo": {
     "elapsed": 1053,
     "status": "ok",
     "timestamp": 1587246170328,
     "user": {
      "displayName": "WST Dahlia",
      "photoUrl": "https://lh3.googleusercontent.com/a-/AOh14GgQnkSoWS7PEam8tF0Mv2G7kSJAgQgpX_KjBZ2K=s64",
      "userId": "17563820974603365318"
     },
     "user_tz": -420
    },
    "id": "JE0VQh7WLF9J",
    "outputId": "dc922ded-4a27-4550-dd1e-6d5283224a51"
   },
   "outputs": [
    {
     "data": {
      "text/plain": [
       "(100,)"
      ]
     },
     "execution_count": 7,
     "metadata": {},
     "output_type": "execute_result"
    }
   ],
   "source": [
    "data = a_domain[\"sequence\"][0:100]\n",
    "data.shape"
   ]
  },
  {
   "cell_type": "code",
   "execution_count": 8,
   "metadata": {
    "colab": {
     "base_uri": "https://localhost:8080/",
     "height": 230
    },
    "colab_type": "code",
    "executionInfo": {
     "elapsed": 864,
     "status": "ok",
     "timestamp": 1587246182160,
     "user": {
      "displayName": "WST Dahlia",
      "photoUrl": "https://lh3.googleusercontent.com/a-/AOh14GgQnkSoWS7PEam8tF0Mv2G7kSJAgQgpX_KjBZ2K=s64",
      "userId": "17563820974603365318"
     },
     "user_tz": -420
    },
    "id": "6-Yq5gywQkkI",
    "outputId": "54c56434-9cdf-4dec-c9d0-3824452c2f0d"
   },
   "outputs": [
    {
     "data": {
      "text/plain": [
       "0     KAVVMPGAAVVNLLAWHRREIPAGAGTTVAQFASLSFDVAAQEILS...\n",
       "1     KGVPVPHRSVASVLVPLIEEFGLGPGSRVLQFASISFDAALWEITL...\n",
       "2     KGVIGTHRALSAYADDHIERVLRPAAQRLGRPLRIAHAWSFTFDAA...\n",
       "3     KAVVMPGAALVNLLAWHRREIPGEAGAPVAQFTTIGFDVAAQEILA...\n",
       "4     KGVVVAHRSLAATVPAQAAAFGLGTHSRVLNFASISFDAAVWELTS...\n",
       "                            ...                        \n",
       "95    KGNIVTHANILRTVKETNYLSITEQDTILGLSNYVFDAFMFDMFGS...\n",
       "96    KGVMVEHHALVNLCFWHHDAFSMTAEDRSAKYAGFGFDASIWEMFP...\n",
       "97    KGILKQHTNVVNSITDLSARYGVTGDHHEAILLFSAYVFEPFVRQM...\n",
       "98    KGVMVEHHGVVNLQISLSKTFGLRDTDDEVILSFSNYVFDHFVEQM...\n",
       "99    KGVLVEQGGVLHLRDALRKRYFGIECNEYHAVLFLSNYVFDFSIEQ...\n",
       "Name: sequence, Length: 100, dtype: object"
      ]
     },
     "execution_count": 8,
     "metadata": {},
     "output_type": "execute_result"
    }
   ],
   "source": [
    "data"
   ]
  },
  {
   "cell_type": "code",
   "execution_count": 9,
   "metadata": {
    "colab": {},
    "colab_type": "code",
    "id": "8UJ-GlBmLF9O"
   },
   "outputs": [],
   "source": [
    "def get_max_score(data, scoring_matrix, sigma, epsilon):\n",
    "    score = np.zeros((len(data), len(data)))\n",
    "    for i in range(len(data)-1):\n",
    "        for j in range(i+1, len(data)):\n",
    "            _, _, _, _, max_score = get_global_alignment_affine_gap_penalties(data[i], data[j], scoring_matrix, sigma, epsilon)\n",
    "            score[i, j] = max_score\n",
    "        \n",
    "    max_score_alignment = score.max()\n",
    "    index = np.where(score == max_score_alignment)\n",
    "    return(index[0][0], index[1][0])"
   ]
  },
  {
   "cell_type": "code",
   "execution_count": 10,
   "metadata": {
    "colab": {},
    "colab_type": "code",
    "id": "dRE2ep5oLF9P"
   },
   "outputs": [],
   "source": [
    "def get_multiple_sequence_alignment(data, scoring_matrix, sigma, epsilon):\n",
    "    data = data[:]\n",
    "    alignment = []\n",
    "    i, j = get_max_score(data, scoring_matrix, sigma, epsilon)\n",
    "    v = data[i]\n",
    "    w = data[j]\n",
    "    back_track_index, back_track_lower, back_track_middle, back_track_upper, _ = get_global_alignment_affine_gap_penalties(v, w, scoring_matrix, sigma, epsilon)\n",
    "    _, merged_ali, v_ali, w_ali = output_global_alignment_affine_gap_penalties(back_track_index, back_track_lower, \n",
    "                                                                        back_track_middle, back_track_upper,\n",
    "                                                                        v, w, len(v), len(w), alignment\n",
    "                                                                        )\n",
    "    alignment.append(v_ali)\n",
    "    alignment.append(w_ali)\n",
    "    data.drop(axis = 0, index = [i, j], inplace = True)\n",
    "    data.reset_index(drop = True, inplace = True)\n",
    "\n",
    "    while len(data) != 0:\n",
    "        \n",
    "        score = [0]*len(data)\n",
    "        \n",
    "        for i in range(len(data)): \n",
    "            _, _, _, _, max_score = get_global_alignment_affine_gap_penalties(merged_ali, data[i], scoring_matrix, sigma, epsilon)\n",
    "            score[i] = max_score\n",
    "            \n",
    "        index = np.argmax(score)\n",
    "        w = data[index]\n",
    "        back_track_index, back_track_lower, back_track_middle, back_track_upper, _ = get_global_alignment_affine_gap_penalties(merged_ali, w, scoring_matrix, sigma, epsilon)\n",
    "        alignment, merged_ali, v_ali, w_ali = output_global_alignment_affine_gap_penalties(back_track_index, back_track_lower, \n",
    "                                                                            back_track_middle, back_track_upper,\n",
    "                                                                            merged_ali, w, len(merged_ali), len(w), alignment\n",
    "                                                                            )\n",
    "        alignment.append(w_ali)\n",
    "        data.drop(axis = 0, index = [index], inplace = True)\n",
    "        data.reset_index(drop = True, inplace = True)\n",
    "        \n",
    "    multiple_alignment = pd.DataFrame(alignment, columns = [\"sequence_alignmnet\"])\n",
    "    \n",
    "    return(multiple_alignment)"
   ]
  },
  {
   "cell_type": "code",
   "execution_count": 11,
   "metadata": {
    "colab": {},
    "colab_type": "code",
    "id": "vvlS2ngTLF9Q"
   },
   "outputs": [
    {
     "data": {
      "text/html": [
       "<div>\n",
       "<style scoped>\n",
       "    .dataframe tbody tr th:only-of-type {\n",
       "        vertical-align: middle;\n",
       "    }\n",
       "\n",
       "    .dataframe tbody tr th {\n",
       "        vertical-align: top;\n",
       "    }\n",
       "\n",
       "    .dataframe thead th {\n",
       "        text-align: right;\n",
       "    }\n",
       "</style>\n",
       "<table border=\"1\" class=\"dataframe\">\n",
       "  <thead>\n",
       "    <tr style=\"text-align: right;\">\n",
       "      <th></th>\n",
       "      <th>sequence_alignmnet</th>\n",
       "    </tr>\n",
       "  </thead>\n",
       "  <tbody>\n",
       "    <tr>\n",
       "      <th>0</th>\n",
       "      <td>KGVQLEHR-------NLAN--Y---VS-----WFI----NEAHLSS...</td>\n",
       "    </tr>\n",
       "    <tr>\n",
       "      <th>1</th>\n",
       "      <td>KGVQLEHR-------NLAN--Y---VS-----WFI----SEAHLSA...</td>\n",
       "    </tr>\n",
       "    <tr>\n",
       "      <th>2</th>\n",
       "      <td>KGVFVRHG-------NVVN--Y---TT-----WFM----KEAGLTE...</td>\n",
       "    </tr>\n",
       "    <tr>\n",
       "      <th>3</th>\n",
       "      <td>KGVMVEHR-------GIVN--S---VT-----WNR----DEFALSV...</td>\n",
       "    </tr>\n",
       "    <tr>\n",
       "      <th>4</th>\n",
       "      <td>KGVMVEHR-------GIVN--N---VL-----WKK----AEYQMKV...</td>\n",
       "    </tr>\n",
       "  </tbody>\n",
       "</table>\n",
       "</div>"
      ],
      "text/plain": [
       "                                  sequence_alignmnet\n",
       "0  KGVQLEHR-------NLAN--Y---VS-----WFI----NEAHLSS...\n",
       "1  KGVQLEHR-------NLAN--Y---VS-----WFI----SEAHLSA...\n",
       "2  KGVFVRHG-------NVVN--Y---TT-----WFM----KEAGLTE...\n",
       "3  KGVMVEHR-------GIVN--S---VT-----WNR----DEFALSV...\n",
       "4  KGVMVEHR-------GIVN--N---VL-----WKK----AEYQMKV..."
      ]
     },
     "execution_count": 11,
     "metadata": {},
     "output_type": "execute_result"
    }
   ],
   "source": [
    "multi_alignment = get_multiple_sequence_alignment(data, BLOSUM62, 11, 1)\n",
    "multi_alignment.head()"
   ]
  },
  {
   "cell_type": "code",
   "execution_count": 12,
   "metadata": {
    "colab": {},
    "colab_type": "code",
    "id": "qOCxlRs6PwZi"
   },
   "outputs": [
    {
     "data": {
      "text/html": [
       "<div>\n",
       "<style scoped>\n",
       "    .dataframe tbody tr th:only-of-type {\n",
       "        vertical-align: middle;\n",
       "    }\n",
       "\n",
       "    .dataframe tbody tr th {\n",
       "        vertical-align: top;\n",
       "    }\n",
       "\n",
       "    .dataframe thead th {\n",
       "        text-align: right;\n",
       "    }\n",
       "</style>\n",
       "<table border=\"1\" class=\"dataframe\">\n",
       "  <thead>\n",
       "    <tr style=\"text-align: right;\">\n",
       "      <th></th>\n",
       "      <th>sequence_alignmnet</th>\n",
       "    </tr>\n",
       "  </thead>\n",
       "  <tbody>\n",
       "    <tr>\n",
       "      <th>95</th>\n",
       "      <td>KGVAIPHGAVAGLAGDSG--------------WQIGPDDG------...</td>\n",
       "    </tr>\n",
       "    <tr>\n",
       "      <th>96</th>\n",
       "      <td>KGVLGRHFSL---------AYYFNWMSKRFN---LT----------...</td>\n",
       "    </tr>\n",
       "    <tr>\n",
       "      <th>97</th>\n",
       "      <td>KGVQITH------------VPQRNTILDINEKFNVTEQDN------...</td>\n",
       "    </tr>\n",
       "    <tr>\n",
       "      <th>98</th>\n",
       "      <td>KAVVGTHAA-------LANRL-----AWAVEAW-------------...</td>\n",
       "    </tr>\n",
       "    <tr>\n",
       "      <th>99</th>\n",
       "      <td>KLIPRTHND------------YYYSVRRS-----------------...</td>\n",
       "    </tr>\n",
       "  </tbody>\n",
       "</table>\n",
       "</div>"
      ],
      "text/plain": [
       "                                   sequence_alignmnet\n",
       "95  KGVAIPHGAVAGLAGDSG--------------WQIGPDDG------...\n",
       "96  KGVLGRHFSL---------AYYFNWMSKRFN---LT----------...\n",
       "97  KGVQITH------------VPQRNTILDINEKFNVTEQDN------...\n",
       "98  KAVVGTHAA-------LANRL-----AWAVEAW-------------...\n",
       "99  KLIPRTHND------------YYYSVRRS-----------------..."
      ]
     },
     "execution_count": 12,
     "metadata": {},
     "output_type": "execute_result"
    }
   ],
   "source": [
    "multi_alignment.tail()"
   ]
  },
  {
   "cell_type": "code",
   "execution_count": 13,
   "metadata": {
    "colab": {
     "base_uri": "https://localhost:8080/",
     "height": 185
    },
    "colab_type": "code",
    "executionInfo": {
     "elapsed": 2617,
     "status": "error",
     "timestamp": 1587246158840,
     "user": {
      "displayName": "WST Dahlia",
      "photoUrl": "https://lh3.googleusercontent.com/a-/AOh14GgQnkSoWS7PEam8tF0Mv2G7kSJAgQgpX_KjBZ2K=s64",
      "userId": "17563820974603365318"
     },
     "user_tz": -420
    },
    "id": "StJ2jtRlMozC",
    "outputId": "02c42058-2d17-466d-f36f-ba9256f13827"
   },
   "outputs": [],
   "source": [
    "# Save file to google drive\n",
    "multi_alignment.to_csv('gs://bi-mutations/multi_alignment.csv')"
   ]
  },
  {
   "cell_type": "markdown",
   "metadata": {},
   "source": [
    "Mặc dù nhiều thuật toán dóng hàng tham lam hoạt động tốt cho các chuỗi tương tự, nhưng hiệu suất của chúng giảm dần cho các chuỗi khác nhau vì các phương thức tham lam có thể bị nhầm lẫn bởi dóng hàng cặp đôi giả. Nếu hai chuỗi đầu tiên được chọn để xây dựng dóng hàng đa trình tự được dóng hàng theo cách không tương thích với dóng hàng đa trình tự tối ưu thì lỗi trong dóng hàng cặp ban đầu này sẽ lan truyền đến toàn bộ dóng hàng cuối cùng."
   ]
  },
  {
   "cell_type": "markdown",
   "metadata": {},
   "source": [
    "#### 7.3 Progressive Alignment<a name = \"progressive-alignment\"></a>"
   ]
  },
  {
   "cell_type": "markdown",
   "metadata": {},
   "source": [
    "Progressive alignment là một biến thể của thuật toán tham lam cho dóng hàng đa trình tự với một chiến thuật chọn thứ tự dóng hàng dựa trên cây hướng dẫn được thiết lập từ ma trận điểm của các cặp được dóng hàng."
   ]
  },
  {
   "cell_type": "markdown",
   "metadata": {},
   "source": [
    "<b>Bước 1</b>: Xây dựng ma trận trọng số dựa trên dóng hàng theo cặp. <br>\n",
    "&emsp;+) Các cặp được dóng hàng và tính điểm dựa trên tỷ số giữa tổng các match và độ dài chuỗi.<br>\n",
    "&emsp;+) Xây dựng ma trận tương tự (ma trận trọng số) với các trọng số tương ứng là điểm của các trình tự. Như vậy, đây là ma trận vuông với các cạnh là các trình tự.<br>\n",
    "<b>Bước 2</b>: Xây dựng cây dẫn hướng (guide tree) dựa trên thuật toán phân cụm theo thứ bậc. <br>\n",
    "&emsp;+) Áp dụng thuật toán phân cụm theo thứ bậc với dữ liệu là ma trận tương tự.<br>\n",
    "&emsp;+) Áp dụng ClustalW (phân cụm theo trọng số) với phương pháp kết hợp hàng xóm (neighbor-joining method).<br>\n",
    "<b>Bước 3</b>: Progressive alignmnent được dẫn hướng bởi cây. <br>\n",
    "&emsp;+) Đầu tiên ta chọn hai dóng hàng trình tự có điểm cao nhất.<br>\n",
    "&emsp;+) Sau đó, dựa trên cây dẫn hướng tiếp tục thêm các trình tự mới vào và dóng hàng dựa trên các trình tự cũ.<br>\n",
    "&emsp;+) Cuối cùng, thêm các kí tự trống cần thiết."
   ]
  },
  {
   "cell_type": "markdown",
   "metadata": {},
   "source": [
    "<a><img src=\"https://imgur.com/B6D5x9c.jpg\" width=\"400\" align=\"center\">"
   ]
  },
  {
   "cell_type": "code",
   "execution_count": 39,
   "metadata": {},
   "outputs": [],
   "source": [
    "\"\"\"Output global alignment affine gap penalties\"\"\"\n",
    "def output_global_alignment_affine_gap_penalties(back_track_index, back_track_lower, \n",
    "                                                 back_track_middle, back_track_upper,\n",
    "                                                 v, w, i, j):\n",
    "    \n",
    "    if i == 0 or j == 0:\n",
    "        return (\"\")\n",
    "    # Output  v, w after alignment, and merged alignmnet.\n",
    "    merged_ali = []\n",
    "    v_ali = []\n",
    "    w_ali = []\n",
    "    weight = 0\n",
    "    \n",
    "    while i > 0 or j > 0:\n",
    "        \n",
    "        if back_track_index == 0: # Lower bactrack matrix\n",
    "            if back_track_lower[i, j] == 1:\n",
    "                back_track_index = 1\n",
    "            merged_ali.append(v[i-1])\n",
    "            v_ali.append(v[i-1])\n",
    "            w_ali.append('-')\n",
    "            i = i - 1\n",
    "            \n",
    "        elif back_track_index == 1: # Middle backtrack matrix\n",
    "            if back_track_middle[i, j] == 0:\n",
    "                back_track_index = 0\n",
    "            elif back_track_middle[i, j] == 2:\n",
    "                back_track_index = 2\n",
    "            else:\n",
    "                weight += 1\n",
    "                merged_ali.append(v[i-1])\n",
    "                v_ali.append(v[i-1])\n",
    "                w_ali.append(w[j-1])\n",
    "                i = i - 1 \n",
    "                j = j - 1 \n",
    "                \n",
    "        elif back_track_index == 2: # Upper backtrack matrix\n",
    "            if back_track_upper[i, j] == 1:\n",
    "                back_track_index = 1\n",
    "            #if alignment != []:\n",
    "                #for l in range(len(alignment)):\n",
    "                    #alignment[l] = alignment[l][:i] + '-' + alignment[l][i:]\n",
    "                    \n",
    "            merged_ali.append(w[j-1])\n",
    "            v_ali.append('-')\n",
    "            w_ali.append(w[j-1])\n",
    "            j = j - 1   \n",
    "        \n",
    "    return(\"\".join(reversed(merged_ali)), \"\".join(reversed(v_ali)), \"\".join(reversed(w_ali)), weight)"
   ]
  },
  {
   "cell_type": "code",
   "execution_count": 19,
   "metadata": {},
   "outputs": [],
   "source": [
    "a_domain = pd.read_csv(\"D:/Data Science/Data/Comparing genes, proteins, genome/Marahiel_data.csv\")"
   ]
  },
  {
   "cell_type": "code",
   "execution_count": 57,
   "metadata": {},
   "outputs": [
    {
     "data": {
      "text/plain": [
       "(20,)"
      ]
     },
     "execution_count": 57,
     "metadata": {},
     "output_type": "execute_result"
    }
   ],
   "source": [
    "data = a_domain[\"sequence\"][0:20]\n",
    "data.shape"
   ]
  },
  {
   "cell_type": "code",
   "execution_count": 55,
   "metadata": {},
   "outputs": [],
   "source": [
    "def get_similarity_matrix(data, scoring_matrix, sigma, epsilon):\n",
    "    simi_matrix = np.zeros((len(data), len(data)))\n",
    "    for i in range(len(data)-1):\n",
    "        for j in range(i+1, len(data)):\n",
    "            v = data[i]\n",
    "            w = data[j]\n",
    "            back_track_index, back_track_lower, back_track_middle, back_track_upper, _= get_global_alignment_affine_gap_penalties(data[i], data[j], \n",
    "                                                                              scoring_matrix, sigma, epsilon)\n",
    "            _, _, _, weight = output_global_alignment_affine_gap_penalties(back_track_index, back_track_lower, \n",
    "                                                                              back_track_middle, back_track_upper,\n",
    "                                                                              v, w, len(v), len(w))\n",
    "            simi_matrix[j, i] = weight\n",
    "    \n",
    "    return(simi_matrix)"
   ]
  },
  {
   "cell_type": "code",
   "execution_count": 58,
   "metadata": {},
   "outputs": [
    {
     "data": {
      "text/html": [
       "<div>\n",
       "<style scoped>\n",
       "    .dataframe tbody tr th:only-of-type {\n",
       "        vertical-align: middle;\n",
       "    }\n",
       "\n",
       "    .dataframe tbody tr th {\n",
       "        vertical-align: top;\n",
       "    }\n",
       "\n",
       "    .dataframe thead th {\n",
       "        text-align: right;\n",
       "    }\n",
       "</style>\n",
       "<table border=\"1\" class=\"dataframe\">\n",
       "  <thead>\n",
       "    <tr style=\"text-align: right;\">\n",
       "      <th></th>\n",
       "      <th>0</th>\n",
       "      <th>1</th>\n",
       "      <th>2</th>\n",
       "      <th>3</th>\n",
       "      <th>4</th>\n",
       "      <th>5</th>\n",
       "      <th>6</th>\n",
       "      <th>7</th>\n",
       "      <th>8</th>\n",
       "      <th>9</th>\n",
       "      <th>10</th>\n",
       "      <th>11</th>\n",
       "      <th>12</th>\n",
       "      <th>13</th>\n",
       "      <th>14</th>\n",
       "      <th>15</th>\n",
       "      <th>16</th>\n",
       "      <th>17</th>\n",
       "      <th>18</th>\n",
       "      <th>19</th>\n",
       "    </tr>\n",
       "    <tr>\n",
       "      <th>index</th>\n",
       "      <th></th>\n",
       "      <th></th>\n",
       "      <th></th>\n",
       "      <th></th>\n",
       "      <th></th>\n",
       "      <th></th>\n",
       "      <th></th>\n",
       "      <th></th>\n",
       "      <th></th>\n",
       "      <th></th>\n",
       "      <th></th>\n",
       "      <th></th>\n",
       "      <th></th>\n",
       "      <th></th>\n",
       "      <th></th>\n",
       "      <th></th>\n",
       "      <th></th>\n",
       "      <th></th>\n",
       "      <th></th>\n",
       "      <th></th>\n",
       "    </tr>\n",
       "  </thead>\n",
       "  <tbody>\n",
       "    <tr>\n",
       "      <th>0</th>\n",
       "      <td>0.0</td>\n",
       "      <td>0.0</td>\n",
       "      <td>0.0</td>\n",
       "      <td>0.0</td>\n",
       "      <td>0.0</td>\n",
       "      <td>0.0</td>\n",
       "      <td>0.0</td>\n",
       "      <td>0.0</td>\n",
       "      <td>0.0</td>\n",
       "      <td>0.0</td>\n",
       "      <td>0.0</td>\n",
       "      <td>0.0</td>\n",
       "      <td>0.0</td>\n",
       "      <td>0.0</td>\n",
       "      <td>0.0</td>\n",
       "      <td>0.0</td>\n",
       "      <td>0.0</td>\n",
       "      <td>0.0</td>\n",
       "      <td>0.0</td>\n",
       "      <td>0.0</td>\n",
       "    </tr>\n",
       "    <tr>\n",
       "      <th>1</th>\n",
       "      <td>137.0</td>\n",
       "      <td>0.0</td>\n",
       "      <td>0.0</td>\n",
       "      <td>0.0</td>\n",
       "      <td>0.0</td>\n",
       "      <td>0.0</td>\n",
       "      <td>0.0</td>\n",
       "      <td>0.0</td>\n",
       "      <td>0.0</td>\n",
       "      <td>0.0</td>\n",
       "      <td>0.0</td>\n",
       "      <td>0.0</td>\n",
       "      <td>0.0</td>\n",
       "      <td>0.0</td>\n",
       "      <td>0.0</td>\n",
       "      <td>0.0</td>\n",
       "      <td>0.0</td>\n",
       "      <td>0.0</td>\n",
       "      <td>0.0</td>\n",
       "      <td>0.0</td>\n",
       "    </tr>\n",
       "    <tr>\n",
       "      <th>2</th>\n",
       "      <td>142.0</td>\n",
       "      <td>133.0</td>\n",
       "      <td>0.0</td>\n",
       "      <td>0.0</td>\n",
       "      <td>0.0</td>\n",
       "      <td>0.0</td>\n",
       "      <td>0.0</td>\n",
       "      <td>0.0</td>\n",
       "      <td>0.0</td>\n",
       "      <td>0.0</td>\n",
       "      <td>0.0</td>\n",
       "      <td>0.0</td>\n",
       "      <td>0.0</td>\n",
       "      <td>0.0</td>\n",
       "      <td>0.0</td>\n",
       "      <td>0.0</td>\n",
       "      <td>0.0</td>\n",
       "      <td>0.0</td>\n",
       "      <td>0.0</td>\n",
       "      <td>0.0</td>\n",
       "    </tr>\n",
       "    <tr>\n",
       "      <th>3</th>\n",
       "      <td>147.0</td>\n",
       "      <td>137.0</td>\n",
       "      <td>143.0</td>\n",
       "      <td>0.0</td>\n",
       "      <td>0.0</td>\n",
       "      <td>0.0</td>\n",
       "      <td>0.0</td>\n",
       "      <td>0.0</td>\n",
       "      <td>0.0</td>\n",
       "      <td>0.0</td>\n",
       "      <td>0.0</td>\n",
       "      <td>0.0</td>\n",
       "      <td>0.0</td>\n",
       "      <td>0.0</td>\n",
       "      <td>0.0</td>\n",
       "      <td>0.0</td>\n",
       "      <td>0.0</td>\n",
       "      <td>0.0</td>\n",
       "      <td>0.0</td>\n",
       "      <td>0.0</td>\n",
       "    </tr>\n",
       "    <tr>\n",
       "      <th>4</th>\n",
       "      <td>137.0</td>\n",
       "      <td>137.0</td>\n",
       "      <td>134.0</td>\n",
       "      <td>130.0</td>\n",
       "      <td>0.0</td>\n",
       "      <td>0.0</td>\n",
       "      <td>0.0</td>\n",
       "      <td>0.0</td>\n",
       "      <td>0.0</td>\n",
       "      <td>0.0</td>\n",
       "      <td>0.0</td>\n",
       "      <td>0.0</td>\n",
       "      <td>0.0</td>\n",
       "      <td>0.0</td>\n",
       "      <td>0.0</td>\n",
       "      <td>0.0</td>\n",
       "      <td>0.0</td>\n",
       "      <td>0.0</td>\n",
       "      <td>0.0</td>\n",
       "      <td>0.0</td>\n",
       "    </tr>\n",
       "    <tr>\n",
       "      <th>5</th>\n",
       "      <td>147.0</td>\n",
       "      <td>137.0</td>\n",
       "      <td>143.0</td>\n",
       "      <td>147.0</td>\n",
       "      <td>137.0</td>\n",
       "      <td>0.0</td>\n",
       "      <td>0.0</td>\n",
       "      <td>0.0</td>\n",
       "      <td>0.0</td>\n",
       "      <td>0.0</td>\n",
       "      <td>0.0</td>\n",
       "      <td>0.0</td>\n",
       "      <td>0.0</td>\n",
       "      <td>0.0</td>\n",
       "      <td>0.0</td>\n",
       "      <td>0.0</td>\n",
       "      <td>0.0</td>\n",
       "      <td>0.0</td>\n",
       "      <td>0.0</td>\n",
       "      <td>0.0</td>\n",
       "    </tr>\n",
       "    <tr>\n",
       "      <th>6</th>\n",
       "      <td>136.0</td>\n",
       "      <td>134.0</td>\n",
       "      <td>130.0</td>\n",
       "      <td>139.0</td>\n",
       "      <td>134.0</td>\n",
       "      <td>139.0</td>\n",
       "      <td>0.0</td>\n",
       "      <td>0.0</td>\n",
       "      <td>0.0</td>\n",
       "      <td>0.0</td>\n",
       "      <td>0.0</td>\n",
       "      <td>0.0</td>\n",
       "      <td>0.0</td>\n",
       "      <td>0.0</td>\n",
       "      <td>0.0</td>\n",
       "      <td>0.0</td>\n",
       "      <td>0.0</td>\n",
       "      <td>0.0</td>\n",
       "      <td>0.0</td>\n",
       "      <td>0.0</td>\n",
       "    </tr>\n",
       "    <tr>\n",
       "      <th>7</th>\n",
       "      <td>143.0</td>\n",
       "      <td>137.0</td>\n",
       "      <td>141.0</td>\n",
       "      <td>142.0</td>\n",
       "      <td>131.0</td>\n",
       "      <td>144.0</td>\n",
       "      <td>137.0</td>\n",
       "      <td>0.0</td>\n",
       "      <td>0.0</td>\n",
       "      <td>0.0</td>\n",
       "      <td>0.0</td>\n",
       "      <td>0.0</td>\n",
       "      <td>0.0</td>\n",
       "      <td>0.0</td>\n",
       "      <td>0.0</td>\n",
       "      <td>0.0</td>\n",
       "      <td>0.0</td>\n",
       "      <td>0.0</td>\n",
       "      <td>0.0</td>\n",
       "      <td>0.0</td>\n",
       "    </tr>\n",
       "    <tr>\n",
       "      <th>8</th>\n",
       "      <td>136.0</td>\n",
       "      <td>136.0</td>\n",
       "      <td>139.0</td>\n",
       "      <td>140.0</td>\n",
       "      <td>137.0</td>\n",
       "      <td>138.0</td>\n",
       "      <td>137.0</td>\n",
       "      <td>143.0</td>\n",
       "      <td>0.0</td>\n",
       "      <td>0.0</td>\n",
       "      <td>0.0</td>\n",
       "      <td>0.0</td>\n",
       "      <td>0.0</td>\n",
       "      <td>0.0</td>\n",
       "      <td>0.0</td>\n",
       "      <td>0.0</td>\n",
       "      <td>0.0</td>\n",
       "      <td>0.0</td>\n",
       "      <td>0.0</td>\n",
       "      <td>0.0</td>\n",
       "    </tr>\n",
       "    <tr>\n",
       "      <th>9</th>\n",
       "      <td>135.0</td>\n",
       "      <td>137.0</td>\n",
       "      <td>130.0</td>\n",
       "      <td>135.0</td>\n",
       "      <td>137.0</td>\n",
       "      <td>135.0</td>\n",
       "      <td>134.0</td>\n",
       "      <td>137.0</td>\n",
       "      <td>137.0</td>\n",
       "      <td>0.0</td>\n",
       "      <td>0.0</td>\n",
       "      <td>0.0</td>\n",
       "      <td>0.0</td>\n",
       "      <td>0.0</td>\n",
       "      <td>0.0</td>\n",
       "      <td>0.0</td>\n",
       "      <td>0.0</td>\n",
       "      <td>0.0</td>\n",
       "      <td>0.0</td>\n",
       "      <td>0.0</td>\n",
       "    </tr>\n",
       "    <tr>\n",
       "      <th>10</th>\n",
       "      <td>141.0</td>\n",
       "      <td>134.0</td>\n",
       "      <td>139.0</td>\n",
       "      <td>137.0</td>\n",
       "      <td>133.0</td>\n",
       "      <td>141.0</td>\n",
       "      <td>138.0</td>\n",
       "      <td>135.0</td>\n",
       "      <td>139.0</td>\n",
       "      <td>132.0</td>\n",
       "      <td>0.0</td>\n",
       "      <td>0.0</td>\n",
       "      <td>0.0</td>\n",
       "      <td>0.0</td>\n",
       "      <td>0.0</td>\n",
       "      <td>0.0</td>\n",
       "      <td>0.0</td>\n",
       "      <td>0.0</td>\n",
       "      <td>0.0</td>\n",
       "      <td>0.0</td>\n",
       "    </tr>\n",
       "    <tr>\n",
       "      <th>11</th>\n",
       "      <td>142.0</td>\n",
       "      <td>137.0</td>\n",
       "      <td>139.0</td>\n",
       "      <td>142.0</td>\n",
       "      <td>137.0</td>\n",
       "      <td>142.0</td>\n",
       "      <td>136.0</td>\n",
       "      <td>143.0</td>\n",
       "      <td>143.0</td>\n",
       "      <td>137.0</td>\n",
       "      <td>139.0</td>\n",
       "      <td>0.0</td>\n",
       "      <td>0.0</td>\n",
       "      <td>0.0</td>\n",
       "      <td>0.0</td>\n",
       "      <td>0.0</td>\n",
       "      <td>0.0</td>\n",
       "      <td>0.0</td>\n",
       "      <td>0.0</td>\n",
       "      <td>0.0</td>\n",
       "    </tr>\n",
       "    <tr>\n",
       "      <th>12</th>\n",
       "      <td>143.0</td>\n",
       "      <td>137.0</td>\n",
       "      <td>141.0</td>\n",
       "      <td>144.0</td>\n",
       "      <td>137.0</td>\n",
       "      <td>144.0</td>\n",
       "      <td>140.0</td>\n",
       "      <td>142.0</td>\n",
       "      <td>144.0</td>\n",
       "      <td>133.0</td>\n",
       "      <td>139.0</td>\n",
       "      <td>143.0</td>\n",
       "      <td>0.0</td>\n",
       "      <td>0.0</td>\n",
       "      <td>0.0</td>\n",
       "      <td>0.0</td>\n",
       "      <td>0.0</td>\n",
       "      <td>0.0</td>\n",
       "      <td>0.0</td>\n",
       "      <td>0.0</td>\n",
       "    </tr>\n",
       "    <tr>\n",
       "      <th>13</th>\n",
       "      <td>142.0</td>\n",
       "      <td>135.0</td>\n",
       "      <td>139.0</td>\n",
       "      <td>142.0</td>\n",
       "      <td>132.0</td>\n",
       "      <td>142.0</td>\n",
       "      <td>140.0</td>\n",
       "      <td>139.0</td>\n",
       "      <td>140.0</td>\n",
       "      <td>136.0</td>\n",
       "      <td>135.0</td>\n",
       "      <td>140.0</td>\n",
       "      <td>142.0</td>\n",
       "      <td>0.0</td>\n",
       "      <td>0.0</td>\n",
       "      <td>0.0</td>\n",
       "      <td>0.0</td>\n",
       "      <td>0.0</td>\n",
       "      <td>0.0</td>\n",
       "      <td>0.0</td>\n",
       "    </tr>\n",
       "    <tr>\n",
       "      <th>14</th>\n",
       "      <td>139.0</td>\n",
       "      <td>137.0</td>\n",
       "      <td>139.0</td>\n",
       "      <td>147.0</td>\n",
       "      <td>137.0</td>\n",
       "      <td>142.0</td>\n",
       "      <td>128.0</td>\n",
       "      <td>140.0</td>\n",
       "      <td>143.0</td>\n",
       "      <td>135.0</td>\n",
       "      <td>141.0</td>\n",
       "      <td>136.0</td>\n",
       "      <td>144.0</td>\n",
       "      <td>138.0</td>\n",
       "      <td>0.0</td>\n",
       "      <td>0.0</td>\n",
       "      <td>0.0</td>\n",
       "      <td>0.0</td>\n",
       "      <td>0.0</td>\n",
       "      <td>0.0</td>\n",
       "    </tr>\n",
       "    <tr>\n",
       "      <th>15</th>\n",
       "      <td>144.0</td>\n",
       "      <td>136.0</td>\n",
       "      <td>141.0</td>\n",
       "      <td>144.0</td>\n",
       "      <td>135.0</td>\n",
       "      <td>144.0</td>\n",
       "      <td>140.0</td>\n",
       "      <td>140.0</td>\n",
       "      <td>144.0</td>\n",
       "      <td>137.0</td>\n",
       "      <td>138.0</td>\n",
       "      <td>143.0</td>\n",
       "      <td>144.0</td>\n",
       "      <td>142.0</td>\n",
       "      <td>141.0</td>\n",
       "      <td>0.0</td>\n",
       "      <td>0.0</td>\n",
       "      <td>0.0</td>\n",
       "      <td>0.0</td>\n",
       "      <td>0.0</td>\n",
       "    </tr>\n",
       "    <tr>\n",
       "      <th>16</th>\n",
       "      <td>145.0</td>\n",
       "      <td>136.0</td>\n",
       "      <td>139.0</td>\n",
       "      <td>146.0</td>\n",
       "      <td>136.0</td>\n",
       "      <td>143.0</td>\n",
       "      <td>140.0</td>\n",
       "      <td>146.0</td>\n",
       "      <td>138.0</td>\n",
       "      <td>137.0</td>\n",
       "      <td>135.0</td>\n",
       "      <td>142.0</td>\n",
       "      <td>141.0</td>\n",
       "      <td>138.0</td>\n",
       "      <td>145.0</td>\n",
       "      <td>144.0</td>\n",
       "      <td>0.0</td>\n",
       "      <td>0.0</td>\n",
       "      <td>0.0</td>\n",
       "      <td>0.0</td>\n",
       "    </tr>\n",
       "    <tr>\n",
       "      <th>17</th>\n",
       "      <td>142.0</td>\n",
       "      <td>137.0</td>\n",
       "      <td>138.0</td>\n",
       "      <td>146.0</td>\n",
       "      <td>137.0</td>\n",
       "      <td>145.0</td>\n",
       "      <td>139.0</td>\n",
       "      <td>138.0</td>\n",
       "      <td>144.0</td>\n",
       "      <td>137.0</td>\n",
       "      <td>140.0</td>\n",
       "      <td>143.0</td>\n",
       "      <td>144.0</td>\n",
       "      <td>142.0</td>\n",
       "      <td>143.0</td>\n",
       "      <td>144.0</td>\n",
       "      <td>133.0</td>\n",
       "      <td>0.0</td>\n",
       "      <td>0.0</td>\n",
       "      <td>0.0</td>\n",
       "    </tr>\n",
       "    <tr>\n",
       "      <th>18</th>\n",
       "      <td>142.0</td>\n",
       "      <td>137.0</td>\n",
       "      <td>142.0</td>\n",
       "      <td>143.0</td>\n",
       "      <td>137.0</td>\n",
       "      <td>143.0</td>\n",
       "      <td>140.0</td>\n",
       "      <td>139.0</td>\n",
       "      <td>144.0</td>\n",
       "      <td>137.0</td>\n",
       "      <td>139.0</td>\n",
       "      <td>139.0</td>\n",
       "      <td>144.0</td>\n",
       "      <td>142.0</td>\n",
       "      <td>144.0</td>\n",
       "      <td>144.0</td>\n",
       "      <td>140.0</td>\n",
       "      <td>144.0</td>\n",
       "      <td>0.0</td>\n",
       "      <td>0.0</td>\n",
       "    </tr>\n",
       "    <tr>\n",
       "      <th>19</th>\n",
       "      <td>143.0</td>\n",
       "      <td>137.0</td>\n",
       "      <td>138.0</td>\n",
       "      <td>143.0</td>\n",
       "      <td>137.0</td>\n",
       "      <td>143.0</td>\n",
       "      <td>140.0</td>\n",
       "      <td>137.0</td>\n",
       "      <td>144.0</td>\n",
       "      <td>137.0</td>\n",
       "      <td>140.0</td>\n",
       "      <td>143.0</td>\n",
       "      <td>144.0</td>\n",
       "      <td>142.0</td>\n",
       "      <td>142.0</td>\n",
       "      <td>144.0</td>\n",
       "      <td>138.0</td>\n",
       "      <td>143.0</td>\n",
       "      <td>144.0</td>\n",
       "      <td>0.0</td>\n",
       "    </tr>\n",
       "  </tbody>\n",
       "</table>\n",
       "</div>"
      ],
      "text/plain": [
       "          0      1      2      3      4      5      6      7      8      9   \\\n",
       "index                                                                         \n",
       "0        0.0    0.0    0.0    0.0    0.0    0.0    0.0    0.0    0.0    0.0   \n",
       "1      137.0    0.0    0.0    0.0    0.0    0.0    0.0    0.0    0.0    0.0   \n",
       "2      142.0  133.0    0.0    0.0    0.0    0.0    0.0    0.0    0.0    0.0   \n",
       "3      147.0  137.0  143.0    0.0    0.0    0.0    0.0    0.0    0.0    0.0   \n",
       "4      137.0  137.0  134.0  130.0    0.0    0.0    0.0    0.0    0.0    0.0   \n",
       "5      147.0  137.0  143.0  147.0  137.0    0.0    0.0    0.0    0.0    0.0   \n",
       "6      136.0  134.0  130.0  139.0  134.0  139.0    0.0    0.0    0.0    0.0   \n",
       "7      143.0  137.0  141.0  142.0  131.0  144.0  137.0    0.0    0.0    0.0   \n",
       "8      136.0  136.0  139.0  140.0  137.0  138.0  137.0  143.0    0.0    0.0   \n",
       "9      135.0  137.0  130.0  135.0  137.0  135.0  134.0  137.0  137.0    0.0   \n",
       "10     141.0  134.0  139.0  137.0  133.0  141.0  138.0  135.0  139.0  132.0   \n",
       "11     142.0  137.0  139.0  142.0  137.0  142.0  136.0  143.0  143.0  137.0   \n",
       "12     143.0  137.0  141.0  144.0  137.0  144.0  140.0  142.0  144.0  133.0   \n",
       "13     142.0  135.0  139.0  142.0  132.0  142.0  140.0  139.0  140.0  136.0   \n",
       "14     139.0  137.0  139.0  147.0  137.0  142.0  128.0  140.0  143.0  135.0   \n",
       "15     144.0  136.0  141.0  144.0  135.0  144.0  140.0  140.0  144.0  137.0   \n",
       "16     145.0  136.0  139.0  146.0  136.0  143.0  140.0  146.0  138.0  137.0   \n",
       "17     142.0  137.0  138.0  146.0  137.0  145.0  139.0  138.0  144.0  137.0   \n",
       "18     142.0  137.0  142.0  143.0  137.0  143.0  140.0  139.0  144.0  137.0   \n",
       "19     143.0  137.0  138.0  143.0  137.0  143.0  140.0  137.0  144.0  137.0   \n",
       "\n",
       "          10     11     12     13     14     15     16     17     18   19  \n",
       "index                                                                      \n",
       "0        0.0    0.0    0.0    0.0    0.0    0.0    0.0    0.0    0.0  0.0  \n",
       "1        0.0    0.0    0.0    0.0    0.0    0.0    0.0    0.0    0.0  0.0  \n",
       "2        0.0    0.0    0.0    0.0    0.0    0.0    0.0    0.0    0.0  0.0  \n",
       "3        0.0    0.0    0.0    0.0    0.0    0.0    0.0    0.0    0.0  0.0  \n",
       "4        0.0    0.0    0.0    0.0    0.0    0.0    0.0    0.0    0.0  0.0  \n",
       "5        0.0    0.0    0.0    0.0    0.0    0.0    0.0    0.0    0.0  0.0  \n",
       "6        0.0    0.0    0.0    0.0    0.0    0.0    0.0    0.0    0.0  0.0  \n",
       "7        0.0    0.0    0.0    0.0    0.0    0.0    0.0    0.0    0.0  0.0  \n",
       "8        0.0    0.0    0.0    0.0    0.0    0.0    0.0    0.0    0.0  0.0  \n",
       "9        0.0    0.0    0.0    0.0    0.0    0.0    0.0    0.0    0.0  0.0  \n",
       "10       0.0    0.0    0.0    0.0    0.0    0.0    0.0    0.0    0.0  0.0  \n",
       "11     139.0    0.0    0.0    0.0    0.0    0.0    0.0    0.0    0.0  0.0  \n",
       "12     139.0  143.0    0.0    0.0    0.0    0.0    0.0    0.0    0.0  0.0  \n",
       "13     135.0  140.0  142.0    0.0    0.0    0.0    0.0    0.0    0.0  0.0  \n",
       "14     141.0  136.0  144.0  138.0    0.0    0.0    0.0    0.0    0.0  0.0  \n",
       "15     138.0  143.0  144.0  142.0  141.0    0.0    0.0    0.0    0.0  0.0  \n",
       "16     135.0  142.0  141.0  138.0  145.0  144.0    0.0    0.0    0.0  0.0  \n",
       "17     140.0  143.0  144.0  142.0  143.0  144.0  133.0    0.0    0.0  0.0  \n",
       "18     139.0  139.0  144.0  142.0  144.0  144.0  140.0  144.0    0.0  0.0  \n",
       "19     140.0  143.0  144.0  142.0  142.0  144.0  138.0  143.0  144.0  0.0  "
      ]
     },
     "execution_count": 58,
     "metadata": {},
     "output_type": "execute_result"
    }
   ],
   "source": [
    "simi_matrix = get_similarity_matrix(data, BLOSUM62, 11, 1)\n",
    "columns = np.arange(0, len(data), 1)\n",
    "similary_matrix = pd.DataFrame(simi_matrix, columns =columns)\n",
    "similary_matrix ['index'] = columns\n",
    "similary_matrix .set_index('index', inplace = True)\n",
    "similary_matrix "
   ]
  },
  {
   "cell_type": "code",
   "execution_count": 59,
   "metadata": {},
   "outputs": [],
   "source": [
    "from scipy.cluster import hierarchy\n",
    "import pylab"
   ]
  },
  {
   "cell_type": "code",
   "execution_count": 60,
   "metadata": {},
   "outputs": [],
   "source": [
    "def get_graph(df, fig_height):\n",
    "    Z = hierarchy.linkage(df, 'average')\n",
    "    fig = pylab.figure(figsize=(15,fig_height))\n",
    "    def llf(id):\n",
    "        return '[%s]' % (df.columns.values[id]) \n",
    "    dendro = hierarchy.dendrogram(Z,  leaf_label_func=llf, leaf_rotation=0, leaf_font_size =12, orientation = 'left')"
   ]
  },
  {
   "cell_type": "code",
   "execution_count": 63,
   "metadata": {},
   "outputs": [
    {
     "data": {
      "image/png": "[encoded data removed]",
      "text/plain": [
       "<Figure size 1080x720 with 1 Axes>"
      ]
     },
     "metadata": {
      "needs_background": "light"
     },
     "output_type": "display_data"
    }
   ],
   "source": [
    "get_graph(similary_matrix , 10)"
   ]
  },
  {
   "cell_type": "markdown",
   "metadata": {},
   "source": [
    "Năm 1999, Marahiel lấy được mã không ribosome chỉ cho 14 trong số 20 axit amin tạo protein (Ala, Asn, Asp, Cys, Gln, Glam, Ile, Leu, Phe, Pro, Ser, Thr, Tyr, Val) thiếu trình tự miền A cho 6 axit amin còn lại. Với sự sẵn có của nhiều tên miền A, giờ đây chúng ta có cơ hội điền vào những khoảng trống trong bài báo gốc của Marahiel. Xây dựng dóng hàng đa trình tự của 397 miền A sẽ làm sáng tỏ các cột bảo tồn và đưa ra dự đoán tốt nhất về các kí tự mã hóa tất cả 20 axit amin tạo nên protein dựa trên dóng hàng Marahiel. "
   ]
  },
  {
   "cell_type": "markdown",
   "metadata": {},
   "source": [
    "#### 7.4 ClustalW<a name = \"clustalw\"></a>"
   ]
  },
  {
   "cell_type": "markdown",
   "metadata": {},
   "source": [
    "ClustalW là một chương trình dóng hàng đa trình tự phổ biến nhất trên thế giới dựa trên ý tưởng của Progressive Alignment [7] (có một giao diện đồ họa được gọi là ClustalX). "
   ]
  },
  {
   "cell_type": "code",
   "execution_count": 51,
   "metadata": {},
   "outputs": [],
   "source": [
    "# Save file.csv to file.fasta\n",
    "data = []\n",
    "i = 0\n",
    "for x in a_domain['sequence'][0:10]:\n",
    "    data.append(\">\"+str(i))\n",
    "    data.append(x)\n",
    "    i = i + 1\n",
    "    data.append(\"\")\n",
    "Marahiel_data = pd.DataFrame(data, columns = [\"sequence\"])\n",
    "Marahiel_data.to_csv(\"D:/Data Science/Data/Marahiel_data.txt\", index = None, header = None)"
   ]
  },
  {
   "cell_type": "code",
   "execution_count": 53,
   "metadata": {},
   "outputs": [],
   "source": [
    "import sys\n",
    "import subprocess\n",
    "from Bio import AlignIO\n",
    "from Bio.Align.Applications import ClustalwCommandline\n",
    "\n",
    "clustalw_exe = r\"C:/Program Files (x86)/ClustalW2/clustalw2.exe\"\n",
    "in_file = r\"D:/Data Science/Data/Marahiel_data.fasta\"\n",
    "\n",
    "# Multiple alignment using ClustalW version 2.\n",
    "clustalw_cline = ClustalwCommandline(clustalw_exe, infile = in_file, \n",
    "                            seqnos=\"ON\", gapopen=11, gapext=1, matrix = \"BLOSUM\")\n",
    "#assert (os.path.isfile(clustalw_exe))\n",
    "#child = subprocess.call(str(cline), shell=(sys.platform!=\"win64\"))"
   ]
  },
  {
   "cell_type": "code",
   "execution_count": 54,
   "metadata": {},
   "outputs": [],
   "source": [
    "# Output system script .\n",
    "stdout, stderr = clustalw_cline()"
   ]
  },
  {
   "cell_type": "code",
   "execution_count": 55,
   "metadata": {},
   "outputs": [],
   "source": [
    "align = AlignIO.read(\"D:/Data Science/Data/Marahiel_data.aln\", \"clustal\")"
   ]
  },
  {
   "cell_type": "code",
   "execution_count": 56,
   "metadata": {},
   "outputs": [
    {
     "name": "stdout",
     "output_type": "stream",
     "text": [
      "SingleLetterAlphabet() alignment with 10 rows and 153 columns\n",
      "KAVVMPGAAVVNLLAWHRR------EIPAGAGTTVAQFASLSFD...TGI 0\n",
      "KAVVMPGAALVNLLAWHRR------EIPGEAGAPVAQFTTIGFD...TGT 3\n",
      "KAVVMPHAGLANLLTWHAR------RFPGGTGVRTAQFTAIGFD...TTH 5\n",
      "KGVMLEHRNMANLMHFTFD------QTNIAFHEKVLQYTTCSFD...TTC 7\n",
      "KGVPVPHRSVASVLVPLIE------EFGLGPGSRVLQFASISFD...TTI 1\n",
      "KGVVVAHRSLAATVPAQAA------AFGLGTHSRVLNFASISFD...ATM 4\n",
      "KGVMLEHKGVANLQAVFAH------HLGVTPQDRAGHFASISFD...ATL 9\n",
      "KGVMVEHRGIVNSVTWNRD------EFALSVRDSGTLSLSFAFD...ATY 8\n",
      "KGIGITHRDAIALAADRCW------DLDTG--SRVLMHSPYAFD...CTW 6\n",
      "KGVIGTHRALSAYADDHIERVLRPAAQRLGRPLRIAHAWSFTFD...AVV 2\n"
     ]
    }
   ],
   "source": [
    "print(align)"
   ]
  },
  {
   "cell_type": "markdown",
   "metadata": {},
   "source": [
    "ClustalW đưa ra các kí hiệu để xác định mức độ của các cột được bảo tồn như sau: <br>\n",
    "&emsp; +) Ký hiệu \"*\" chỉ ra các vị trí được bảo tồn đầy đủ. <br>\n",
    "&emsp; +) Ký hiệu \":\" chỉ ra các vị trí được bảo tồn mạnh.<br>\n",
    "&emsp; +) Ký hiệu \".\" chỉ ra các vị trí được bảo tồn yếu."
   ]
  },
  {
   "cell_type": "markdown",
   "metadata": {},
   "source": [
    "<a><img src=\"https://imgur.com/csFQ3ez.jpg\" width=\"800\" align=\"center\">"
   ]
  },
  {
   "cell_type": "code",
   "execution_count": 57,
   "metadata": {},
   "outputs": [
    {
     "data": {
      "text/plain": [
       "1"
      ]
     },
     "execution_count": 57,
     "metadata": {},
     "output_type": "execute_result"
    }
   ],
   "source": [
    "# Write multiple sequence alignmnet\n",
    "AlignIO.write(align, \"D:/Data Science/Data/Marahiel_alignment.fasta\", \"fasta\")"
   ]
  },
  {
   "cell_type": "code",
   "execution_count": 50,
   "metadata": {},
   "outputs": [
    {
     "name": "stdout",
     "output_type": "stream",
     "text": [
      "                                                __________________ 0\n",
      "                                      _________|\n",
      "         ____________________________|         |____________________ 3\n",
      "        |                            |\n",
      "   _____|                            |__________________________ 5\n",
      "  |     |\n",
      "  |     |                       _________________________________ 7\n",
      " ,|     |______________________|\n",
      " ||                            |__________________________________ 16\n",
      " ||\n",
      " ||___________________________________________________________ 10\n",
      " |\n",
      " |     _________________________________________________ 9\n",
      " |____|\n",
      " |    |__________________________________________________ 13\n",
      " |\n",
      " |                     _________________________________ 1\n",
      " |    ________________|\n",
      " |  ,|                |__________________________________ 4\n",
      " |  ||\n",
      "_|__||___________________________________________________________________ 2\n",
      " |  |\n",
      " |  |____________________________________________________________ 14\n",
      " |\n",
      " |    ______________________________________________________________ 6\n",
      " |___|\n",
      " |   |   _________________________________________________ 11\n",
      " |   |__|\n",
      " |      |               _____________________________________ 17\n",
      " |      |______________|\n",
      " |                     |______________________________________ 19\n",
      " |\n",
      " |                            ________________________________ 8\n",
      " |                  _________|\n",
      " |            _____|         |____________________________ 12\n",
      " |           |     |\n",
      " |___________|     |____________________________________ 15\n",
      "             |\n",
      "             |____________________________________________ 18\n",
      "\n"
     ]
    }
   ],
   "source": [
    "# Draw guide tree.\n",
    "from Bio import Phylo\n",
    "tree = Phylo.read(\"D:/Data Science/Data/Marahiel_data.dnd\", \"newick\")\n",
    "Phylo.draw_ascii(tree)"
   ]
  },
  {
   "cell_type": "code",
   "execution_count": null,
   "metadata": {},
   "outputs": [],
   "source": [
    "\"\"\"Program to read multiple sequence alignment.\n",
    "from Bio import AlignIO\n",
    "alignment = AlignIO.read(open(\"D:/Data Science/Data/Comparing genes, proteins, genome/PF09395_seed.sth\"), \"stockholm\")\n",
    "print(\"Alignment length %i\" % alignment.get_alignment_length())\n",
    "for record in alignment :\n",
    "    print(record.seq + \" \" + record.id)\n",
    "AlignIO.read(open(\"D:/Data Science/Data/Comparing genes, proteins, genome/PF09395_seed.sth\"), \"stockholm\")\n",
    "print(alignment.format(\"fasta\"))\"\"\""
   ]
  },
  {
   "cell_type": "markdown",
   "metadata": {},
   "source": [
    "Bibliography:<br>\n",
    "[7] Thompson, J. D., D. G. Higgins, and T. J. Gibson. “CLUSTAL W: Improving the Sensitivity of Progressive Multiple Sequence Alignment through Sequence Weighting, Position-Specific Gap Penalties and Weight Matrix Choice.<i>” Nucleic Acids Research 22</i>, no. 22 (November 11, 1994): 4673–80. https://doi.org/10.1093/nar/22.22.4673."
   ]
  },
  {
   "cell_type": "markdown",
   "metadata": {},
   "source": [
    "#### 7.5  Multiple Sequence Comparison by Log- Expectation (MUSCLE) <a name = \"muscle\"></a>"
   ]
  },
  {
   "cell_type": "markdown",
   "metadata": {},
   "source": [
    "Vào năm 2004, Robert Edgar đã xây dựng <b>MU</b>ltiple <b>S</b>equence <b>C</b>omparison by <b>L</b>og- <b>E</b>xpectation với thuật toán nhanh hơn và hiệu quả hơn ClustalW [8]. Phần này chỉ mang tính giới thiệu, chưa đi sâu vào tìm hiểu thuật toán của MUSCLE."
   ]
  },
  {
   "cell_type": "code",
   "execution_count": 105,
   "metadata": {},
   "outputs": [],
   "source": [
    "from Bio.Align.Applications import MuscleCommandline\n",
    "from io import StringIO\n",
    "from Bio import AlignIO"
   ]
  },
  {
   "cell_type": "code",
   "execution_count": 114,
   "metadata": {},
   "outputs": [
    {
     "name": "stdout",
     "output_type": "stream",
     "text": [
      "SingleLetterAlphabet() alignment with 397 rows and 191 columns\n",
      "KGVMLSHRNILSESAGTIQMNH--------FDS-----EA--VT...ITW 245\n",
      "KLIPRTHDDYVFNA-TASAALC----R---LSA-----DDVYLV...FTR 120\n",
      "KLIPRTHDDYAYQC-RVTAGIC----G---LDA-----DSVYLA...FTR 129\n",
      "KLIPRRHADYSYNF-SASAELC----G---ISQ-----QSVYLA...FTR 173\n",
      "KLIPRTHDDYLYSV-RESAKIC----E---LNQ-----TSRLLM...YTR 216\n",
      "KLIPRRHREYLYNV-RASAEVC----G---FDE-----HTVYLT...YTR 368\n",
      "KLIPRTHNDYDYSV-RASAEIC----A---LTP-----QTRFLC...YTR 240\n",
      "KLIPRTHNDYDYSV-RASAEIC----A---LTP-----QTRFLC...YTR 318\n",
      "KLIPRTHNDYYYSV-RRSNEIC----G---FNE-----ETRFLC...YTR 284\n",
      "KLIPRTHNDYYYSV-RRSNEIC----G---FNE-----DTRFLC...YTR 287\n",
      "KLIPRTHNDYYYSV-RRSAEIC----Q---FTQ-----QTRYLC...YTR 197\n",
      "KLIPRTHNDYYYSV-RRSVEIC----Q---FTQ-----QTRYLC...YTR 238\n",
      "KLIPRTHNDYYYSV-RRSVEIC----Q---FTQ-----QTRYLC...YTR 81\n",
      "KLIPRTHNDYYYSV-RRSVEIC----Q---FTQ-----QTRYLC...YTR 281\n",
      "KLIPRTHNDYAYSV-TASVEIC----R---FDQ-----HTRYLC...YTR 328\n",
      "KLIPRTHDEYIYSL-RKSVEIC----R---ISQ-----DTNFLA...YTR 236\n",
      "KLIPRTHDDYIYSL-RVSAEIC----N---LSA-----ESVYMA...YTR 196\n",
      "KLIPRTHDDYIYSL-KRSVEVC----W---LDH-----STVYLA...YTR 112\n",
      "...\n",
      "KGVMVEHKGLCNLA-QAQIQTF----G---LTS-----DS--RV...ATI 356\n"
     ]
    }
   ],
   "source": [
    "muscle_exe = r\"C:/Program Files (x86)/ClustalW2/muscle3.8.31_i86win32.exe\"\n",
    "in_file = r\"D:/Data Science/Data/MUSCLE/Marahiel_data.fasta\"\n",
    "muscle_cline = MuscleCommandline(muscle_exe, input=in_file)\n",
    "stdout, stderr = muscle_cline()\n",
    "align = AlignIO.read(StringIO(stdout), \"fasta\")\n",
    "print(align)"
   ]
  },
  {
   "cell_type": "code",
   "execution_count": 115,
   "metadata": {},
   "outputs": [
    {
     "data": {
      "text/plain": [
       "1"
      ]
     },
     "execution_count": 115,
     "metadata": {},
     "output_type": "execute_result"
    }
   ],
   "source": [
    "# Write multiple sequence alignmnet\n",
    "AlignIO.write(align, \"D:/Data Science/Data/MUSCLE/Marahiel_alignment.fasta\", \"fasta\")"
   ]
  },
  {
   "cell_type": "markdown",
   "metadata": {},
   "source": [
    "Bibliography:<br>\n",
    "[8] Edgar, Robert C. “MUSCLE: A Multiple Sequence Alignment Method with Reduced Time and Space Complexity.” <i>BMC Bioinformatics</i> 5 (August 19, 2004): 113. https://doi.org/10.1186/1471-2105-5-113."
   ]
  },
  {
   "cell_type": "markdown",
   "metadata": {},
   "source": [
    "#### 7.6 Scoring Multiple Alignments<a name = \"scoring-multiple-alignments\"></a>"
   ]
  },
  {
   "cell_type": "markdown",
   "metadata": {},
   "source": [
    "Việc lựa chọn hàm cho điểm có thể ảnh hưởng mạnh đến chất lượng của nhiều dóng hàng. Ở phần 7.1 chúng ta đã mô tả một cách để tính điểm của dóng hàng t chiều bằng cách sử dụng ma trận tính điểm t chiều. Dưới đây, chúng ta sẽ mô tả các cách tiếp cận thực tế hơn để tính điểm các dóng hàng."
   ]
  },
  {
   "cell_type": "markdown",
   "metadata": {},
   "source": [
    "#### 7.6.1  Multiple LCS Score"
   ]
  },
  {
   "cell_type": "markdown",
   "metadata": {},
   "source": [
    "Một cột là \"match\" nếu tất cả các kí tự trong một cột đều giống nhau. Khi đó, điểm của một Multiple LCS là tổng các match. Cách tính điểm này tốt cho các trình tự rất giống nhau."
   ]
  },
  {
   "cell_type": "markdown",
   "metadata": {},
   "source": [
    "<a><img src=\"https://imgur.com/q0yoGeo.jpg\" width=\"50\" align=\"center\">"
   ]
  },
  {
   "cell_type": "markdown",
   "metadata": {},
   "source": [
    "#### 7.6.2 Entropy Score"
   ]
  },
  {
   "cell_type": "markdown",
   "metadata": {},
   "source": [
    "Định nghĩa $p_x$ là tần số của một kí tự x trong một cột của dóng hàng đa trình tự. Entropy của mỗi cột được tính như sau:\n",
    "$$Entropy\\,of\\,Column = -\\sum_{X=A,T,G,C}P_XlogP_X$$"
   ]
  },
  {
   "cell_type": "markdown",
   "metadata": {},
   "source": [
    "Entropy score sẽ bằng tổng các entropy của tất cả các cột. Nếu các cột càng giống nhau thì Entropy score càng nhỏ, do đó để tìm kiếm một dóng hàng đa trình tự tối ưu ta sẽ đi tìm một dóng hàng đa trình tự có Entropy score nhỏ nhất."
   ]
  },
  {
   "cell_type": "markdown",
   "metadata": {},
   "source": [
    "#### 7.6.3 Sum of Pairs Score (SP-Score)"
   ]
  },
  {
   "cell_type": "markdown",
   "metadata": {},
   "source": [
    "Chúng ta hãy xem xét một Multiple Alignment Projections (MSA), một đường 3D của dóng hàng 3 trình tự (đường đỏ nét liền) được chiếu xuống 3 mặt phẳng 2D tạo ra 3 đường khác nhau (đường đỏ nét đứt) đại diện cho sự dóng hàng của 3 cặp trình tự."
   ]
  },
  {
   "cell_type": "markdown",
   "metadata": {},
   "source": [
    "<a><img src=\"https://imgur.com/wZcBK4i.jpg\" width=\"400\" align=\"center\">"
   ]
  },
  {
   "cell_type": "markdown",
   "metadata": {},
   "source": [
    "Như vậy, dóng hàng theo cặp của các trình tự $a_i$, $a_j$ có thể được suy ra từ dóng hàng k trình tự. Ký hiệu điểm của dóng hàng theo cặp này là $s^*(a_i, a_j)$, tổng điểm của các cặp (sum of pairs score hay SP-score) được tính như sau:\n",
    "$$s(a_1, ..., a_k) = \\sum_{i, j}s^*(a_i, a_j).$$"
   ]
  },
  {
   "cell_type": "markdown",
   "metadata": {},
   "source": [
    "#### 7.7 Các vấn đề của dóng hàng đa trình tự<a name = \"problem-of-multi-alignment\"></a>"
   ]
  },
  {
   "cell_type": "markdown",
   "metadata": {},
   "source": [
    "Các Protein đa miền phát triển không chỉ thông qua đột biến điểm mà còn thông qua trùng lặp miền và tái tổ hợp miền."
   ]
  },
  {
   "cell_type": "markdown",
   "metadata": {},
   "source": [
    "Mặc dù dóng hàng đa trình tự là một bài toán 30 năm tuổi nhưng không có cách tiếp cận nào để dóng hàng các trình tự được sắp xếp lại (nghĩa là, protein đa miền với các miền bị xáo trộn) trước năm 2002. Để giải quyết vấn đề này chúng ta có thể sử dụng phương pháp A-Bruijn Alignment (ABA) sẽ được trình bày ở một phần khác."
   ]
  },
  {
   "cell_type": "markdown",
   "metadata": {},
   "source": [
    "Thường không thể dóng hàng tất cả các trình tự protein trên suốt toàn bộ chiều dài của chúng."
   ]
  }
 ],
 "metadata": {
  "colab": {
   "collapsed_sections": [
    "jhxbtuauLF5h",
    "x1m1UlrALF5r",
    "y-WR5NptLF5v",
    "akR0P52rLF5z",
    "6HpsIHgULF6A",
    "NvS6lgv0LF6M",
    "OASdIRsmLF6f",
    "hmV4bOBcLF6_",
    "eHPmJx-hLF7S",
    "9vQq-aHnLF7S",
    "6CqgyTTyLF7V",
    "3sr4_MtfLF7q",
    "m9rm43krLF8I",
    "0Xp5W2cqLF8I",
    "BQObCsxYLF8M",
    "NQKZXeIELF8V",
    "yUtpIucHLF8k"
   ],
   "name": "BI_Mutations.ipynb",
   "provenance": []
  },
  "kernelspec": {
   "display_name": "Python 3",
   "language": "python",
   "name": "python3"
  },
  "language_info": {
   "codemirror_mode": {
    "name": "ipython",
    "version": 3
   },
   "file_extension": ".py",
   "mimetype": "text/x-python",
   "name": "python",
   "nbconvert_exporter": "python",
   "pygments_lexer": "ipython3",
   "version": "3.7.1"
  }
 },
 "nbformat": 4,
 "nbformat_minor": 4
}
